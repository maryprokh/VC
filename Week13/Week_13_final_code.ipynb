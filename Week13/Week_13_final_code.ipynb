{
 "cells": [
  {
   "cell_type": "markdown",
   "metadata": {},
   "source": [
    "<h2>Week 13 - final code</h2>\n",
    "\n",
    "* Group name: Bloodhounds\n",
    "* Batch code: LISUM09\n",
    "* Specialization: Data science\n",
    "* Group member details:\n",
    "* Margarita Prokhorovich, marusya15071240@gmail.com, Thailand"
   ]
  },
  {
   "cell_type": "markdown",
   "metadata": {},
   "source": [
    "In this document, we perform data cleansing and transformation techniques first, to prepare the data for model building, aftr that explore different models and compare their predictive power. Also we're going to explore different options, e.g. different hyperparameters, use models with/without removing outliers, use models with different sets of features, etc.\n",
    "\n",
    "First things first, we need to read a file and create a dataframe, as usual."
   ]
  },
  {
   "cell_type": "code",
   "execution_count": 1,
   "metadata": {},
   "outputs": [
    {
     "name": "stdout",
     "output_type": "stream",
     "text": [
      "(41188, 21)\n"
     ]
    },
    {
     "data": {
      "text/html": [
       "<div>\n",
       "<style scoped>\n",
       "    .dataframe tbody tr th:only-of-type {\n",
       "        vertical-align: middle;\n",
       "    }\n",
       "\n",
       "    .dataframe tbody tr th {\n",
       "        vertical-align: top;\n",
       "    }\n",
       "\n",
       "    .dataframe thead th {\n",
       "        text-align: right;\n",
       "    }\n",
       "</style>\n",
       "<table border=\"1\" class=\"dataframe\">\n",
       "  <thead>\n",
       "    <tr style=\"text-align: right;\">\n",
       "      <th></th>\n",
       "      <th>age</th>\n",
       "      <th>job</th>\n",
       "      <th>marital</th>\n",
       "      <th>education</th>\n",
       "      <th>default</th>\n",
       "      <th>housing</th>\n",
       "      <th>loan</th>\n",
       "      <th>contact</th>\n",
       "      <th>month</th>\n",
       "      <th>day_of_week</th>\n",
       "      <th>...</th>\n",
       "      <th>campaign</th>\n",
       "      <th>pdays</th>\n",
       "      <th>previous</th>\n",
       "      <th>poutcome</th>\n",
       "      <th>emp.var.rate</th>\n",
       "      <th>cons.price.idx</th>\n",
       "      <th>cons.conf.idx</th>\n",
       "      <th>euribor3m</th>\n",
       "      <th>nr.employed</th>\n",
       "      <th>y</th>\n",
       "    </tr>\n",
       "  </thead>\n",
       "  <tbody>\n",
       "    <tr>\n",
       "      <th>0</th>\n",
       "      <td>56</td>\n",
       "      <td>housemaid</td>\n",
       "      <td>married</td>\n",
       "      <td>basic.4y</td>\n",
       "      <td>no</td>\n",
       "      <td>no</td>\n",
       "      <td>no</td>\n",
       "      <td>telephone</td>\n",
       "      <td>may</td>\n",
       "      <td>mon</td>\n",
       "      <td>...</td>\n",
       "      <td>1</td>\n",
       "      <td>999</td>\n",
       "      <td>0</td>\n",
       "      <td>nonexistent</td>\n",
       "      <td>1.1</td>\n",
       "      <td>93.994</td>\n",
       "      <td>-36.4</td>\n",
       "      <td>4.857</td>\n",
       "      <td>5191.0</td>\n",
       "      <td>no</td>\n",
       "    </tr>\n",
       "    <tr>\n",
       "      <th>1</th>\n",
       "      <td>57</td>\n",
       "      <td>services</td>\n",
       "      <td>married</td>\n",
       "      <td>high.school</td>\n",
       "      <td>unknown</td>\n",
       "      <td>no</td>\n",
       "      <td>no</td>\n",
       "      <td>telephone</td>\n",
       "      <td>may</td>\n",
       "      <td>mon</td>\n",
       "      <td>...</td>\n",
       "      <td>1</td>\n",
       "      <td>999</td>\n",
       "      <td>0</td>\n",
       "      <td>nonexistent</td>\n",
       "      <td>1.1</td>\n",
       "      <td>93.994</td>\n",
       "      <td>-36.4</td>\n",
       "      <td>4.857</td>\n",
       "      <td>5191.0</td>\n",
       "      <td>no</td>\n",
       "    </tr>\n",
       "    <tr>\n",
       "      <th>2</th>\n",
       "      <td>37</td>\n",
       "      <td>services</td>\n",
       "      <td>married</td>\n",
       "      <td>high.school</td>\n",
       "      <td>no</td>\n",
       "      <td>yes</td>\n",
       "      <td>no</td>\n",
       "      <td>telephone</td>\n",
       "      <td>may</td>\n",
       "      <td>mon</td>\n",
       "      <td>...</td>\n",
       "      <td>1</td>\n",
       "      <td>999</td>\n",
       "      <td>0</td>\n",
       "      <td>nonexistent</td>\n",
       "      <td>1.1</td>\n",
       "      <td>93.994</td>\n",
       "      <td>-36.4</td>\n",
       "      <td>4.857</td>\n",
       "      <td>5191.0</td>\n",
       "      <td>no</td>\n",
       "    </tr>\n",
       "    <tr>\n",
       "      <th>3</th>\n",
       "      <td>40</td>\n",
       "      <td>admin.</td>\n",
       "      <td>married</td>\n",
       "      <td>basic.6y</td>\n",
       "      <td>no</td>\n",
       "      <td>no</td>\n",
       "      <td>no</td>\n",
       "      <td>telephone</td>\n",
       "      <td>may</td>\n",
       "      <td>mon</td>\n",
       "      <td>...</td>\n",
       "      <td>1</td>\n",
       "      <td>999</td>\n",
       "      <td>0</td>\n",
       "      <td>nonexistent</td>\n",
       "      <td>1.1</td>\n",
       "      <td>93.994</td>\n",
       "      <td>-36.4</td>\n",
       "      <td>4.857</td>\n",
       "      <td>5191.0</td>\n",
       "      <td>no</td>\n",
       "    </tr>\n",
       "    <tr>\n",
       "      <th>4</th>\n",
       "      <td>56</td>\n",
       "      <td>services</td>\n",
       "      <td>married</td>\n",
       "      <td>high.school</td>\n",
       "      <td>no</td>\n",
       "      <td>no</td>\n",
       "      <td>yes</td>\n",
       "      <td>telephone</td>\n",
       "      <td>may</td>\n",
       "      <td>mon</td>\n",
       "      <td>...</td>\n",
       "      <td>1</td>\n",
       "      <td>999</td>\n",
       "      <td>0</td>\n",
       "      <td>nonexistent</td>\n",
       "      <td>1.1</td>\n",
       "      <td>93.994</td>\n",
       "      <td>-36.4</td>\n",
       "      <td>4.857</td>\n",
       "      <td>5191.0</td>\n",
       "      <td>no</td>\n",
       "    </tr>\n",
       "  </tbody>\n",
       "</table>\n",
       "<p>5 rows × 21 columns</p>\n",
       "</div>"
      ],
      "text/plain": [
       "   age        job  marital    education  default housing loan    contact  \\\n",
       "0   56  housemaid  married     basic.4y       no      no   no  telephone   \n",
       "1   57   services  married  high.school  unknown      no   no  telephone   \n",
       "2   37   services  married  high.school       no     yes   no  telephone   \n",
       "3   40     admin.  married     basic.6y       no      no   no  telephone   \n",
       "4   56   services  married  high.school       no      no  yes  telephone   \n",
       "\n",
       "  month day_of_week  ...  campaign  pdays  previous     poutcome emp.var.rate  \\\n",
       "0   may         mon  ...         1    999         0  nonexistent          1.1   \n",
       "1   may         mon  ...         1    999         0  nonexistent          1.1   \n",
       "2   may         mon  ...         1    999         0  nonexistent          1.1   \n",
       "3   may         mon  ...         1    999         0  nonexistent          1.1   \n",
       "4   may         mon  ...         1    999         0  nonexistent          1.1   \n",
       "\n",
       "   cons.price.idx  cons.conf.idx  euribor3m  nr.employed   y  \n",
       "0          93.994          -36.4      4.857       5191.0  no  \n",
       "1          93.994          -36.4      4.857       5191.0  no  \n",
       "2          93.994          -36.4      4.857       5191.0  no  \n",
       "3          93.994          -36.4      4.857       5191.0  no  \n",
       "4          93.994          -36.4      4.857       5191.0  no  \n",
       "\n",
       "[5 rows x 21 columns]"
      ]
     },
     "execution_count": 1,
     "metadata": {},
     "output_type": "execute_result"
    }
   ],
   "source": [
    "#reading the dataframe\n",
    "import pandas as pd\n",
    "df = pd.read_csv('bank-additional-full.csv', delimiter = ';')\n",
    "print(df.shape)\n",
    "\n",
    "df.head()"
   ]
  },
  {
   "cell_type": "markdown",
   "metadata": {},
   "source": [
    "Let's look at the dataframe info one more time. "
   ]
  },
  {
   "cell_type": "code",
   "execution_count": 2,
   "metadata": {},
   "outputs": [
    {
     "name": "stdout",
     "output_type": "stream",
     "text": [
      "<class 'pandas.core.frame.DataFrame'>\n",
      "RangeIndex: 41188 entries, 0 to 41187\n",
      "Data columns (total 21 columns):\n",
      " #   Column          Non-Null Count  Dtype  \n",
      "---  ------          --------------  -----  \n",
      " 0   age             41188 non-null  int64  \n",
      " 1   job             41188 non-null  object \n",
      " 2   marital         41188 non-null  object \n",
      " 3   education       41188 non-null  object \n",
      " 4   default         41188 non-null  object \n",
      " 5   housing         41188 non-null  object \n",
      " 6   loan            41188 non-null  object \n",
      " 7   contact         41188 non-null  object \n",
      " 8   month           41188 non-null  object \n",
      " 9   day_of_week     41188 non-null  object \n",
      " 10  duration        41188 non-null  int64  \n",
      " 11  campaign        41188 non-null  int64  \n",
      " 12  pdays           41188 non-null  int64  \n",
      " 13  previous        41188 non-null  int64  \n",
      " 14  poutcome        41188 non-null  object \n",
      " 15  emp.var.rate    41188 non-null  float64\n",
      " 16  cons.price.idx  41188 non-null  float64\n",
      " 17  cons.conf.idx   41188 non-null  float64\n",
      " 18  euribor3m       41188 non-null  float64\n",
      " 19  nr.employed     41188 non-null  float64\n",
      " 20  y               41188 non-null  object \n",
      "dtypes: float64(5), int64(5), object(11)\n",
      "memory usage: 6.6+ MB\n"
     ]
    }
   ],
   "source": [
    "#display the info about the dataframe\n",
    "df.info()"
   ]
  },
  {
   "cell_type": "markdown",
   "metadata": {},
   "source": [
    "As we remember, all the data types in the dataframe are correct. However, there are some other issues in the data that we need to eliminate. We will use data cleansing and transformation approaches from the previous project part: will drop the duplicates, transform pdays category, fill unknown values using KNN approach (the fourth one). As for outliers, we prefer to keep them on this stage because removing the outliers can prevent us from identifying patterns in the data more clearly. \n",
    "\n",
    "We decided to create pdays_categ feature with labels 'yes' and 'no' because it's easier to process this feature with other categorical features."
   ]
  },
  {
   "cell_type": "code",
   "execution_count": 2,
   "metadata": {},
   "outputs": [
    {
     "name": "stdout",
     "output_type": "stream",
     "text": [
      "Number of duplicates - 12.\n"
     ]
    },
    {
     "data": {
      "text/plain": [
       "(41176, 21)"
      ]
     },
     "execution_count": 2,
     "metadata": {},
     "output_type": "execute_result"
    }
   ],
   "source": [
    "#find duplicates and display their quantity\n",
    "n_duplicates = df.duplicated().sum()\n",
    "print(f\"Number of duplicates - {n_duplicates}.\")\n",
    "\n",
    "#delete all the full duplicates. We can see decreasing in a rows number\n",
    "df = df.drop_duplicates()\n",
    "df.shape"
   ]
  },
  {
   "cell_type": "code",
   "execution_count": 3,
   "metadata": {},
   "outputs": [
    {
     "name": "stdout",
     "output_type": "stream",
     "text": [
      "\n",
      "Number of examples where a client was not previously contacted - 39661, percentage - 96.32%.\n"
     ]
    }
   ],
   "source": [
    "print(f'\\nNumber of examples where a client was not previously contacted - {len(df[df.pdays == 999])}, percentage - {round(len(df[df.pdays == 999])/len(df) * 100,2)}%.')\n",
    "df['pdays_categ'] = ['no' if pday == 999 else 'yes' for pday in df.pdays]\n",
    "df = df.drop(['pdays'], axis = 1)"
   ]
  },
  {
   "cell_type": "code",
   "execution_count": 4,
   "metadata": {},
   "outputs": [
    {
     "name": "stdout",
     "output_type": "stream",
     "text": [
      "Model accuracy for job is 47.27 %.\n",
      "Model accuracy for marital is 62.37 %.\n",
      "Model accuracy for education is 48.11 %.\n",
      "Model accuracy for housing is 51.72 %.\n",
      "Model accuracy for loan is 84.17 %.\n",
      "Model accuracy for default is 99.99 %.\n",
      "Number of \"unknown\" occurrences:\n",
      "- feature -  default , number -  8596 , percentage - 20.8762 %\n"
     ]
    }
   ],
   "source": [
    "#create an empty df where new filled columns will be stored\n",
    "df_final_knn = pd.DataFrame()\n",
    "\n",
    "#define a function that predicts unknown values\n",
    "def fill_unknown_knn(column_name):   \n",
    "   try: \n",
    "      #import necessary modules\n",
    "      from sklearn.model_selection import train_test_split\n",
    "      from sklearn.utils.class_weight import compute_class_weight\n",
    "      from sklearn import preprocessing\n",
    "      from sklearn.preprocessing import LabelEncoder\n",
    "      from sklearn.neighbors import KNeighborsClassifier\n",
    "      from IPython.display import display\n",
    "      import numpy as np\n",
    "\n",
    "      #copy df\n",
    "      df_copy = df.copy()\n",
    "\n",
    "      #exclude binary features from categories\n",
    "      global categories \n",
    "      categories = list(df.select_dtypes(exclude=['int64', 'float64']).columns)\n",
    "      categories = [i for i in categories if i not in [column_name, 'y', 'contact']]\n",
    "\n",
    "      #transform another categorical features to dummy variables\n",
    "      deleted_columns = []\n",
    "      for i in categories:\n",
    "         dummies_x = pd.get_dummies(df[i])\n",
    "         deleted_columns.append(dummies_x.columns[0])\n",
    "         df_copy = pd.concat([df_copy,dummies_x],axis='columns')\n",
    "\n",
    "      #use label encoder\n",
    "      le = LabelEncoder()\n",
    "      #transform binary features - contact and y\n",
    "      df_copy.contact = le.fit_transform(df_copy.contact)\n",
    "      df_copy.y = le.fit_transform(df_copy.y)\n",
    "\n",
    "      #delete columns - text categorical features and one from each encoded variables\n",
    "      df_copy.drop(categories, axis = 1, inplace = True)\n",
    "      df_copy.drop(deleted_columns, axis = 1, inplace = True)\n",
    "\n",
    "      #split the dataframe to train set - without unknown variables and test - with unknown variables\n",
    "      df_copy_train = df_copy[df_copy.loc[:, (column_name)] != 'unknown'].copy(deep = True)\n",
    "      df_copy_test = df_copy[df_copy.loc[:, (column_name)] == 'unknown']\n",
    "      #encode output variables\n",
    "      df_copy_train['new_col'] = le.fit_transform(df_copy_train.loc[:, (column_name)])\n",
    "      #assign a new column to y and drop  the column after that\n",
    "      y = df_copy_train['new_col']\n",
    "      df_copy_train.drop('new_col', axis = 1, inplace = True)\n",
    "\n",
    "      #remove job column from train and test sets\n",
    "      df_copy_train = df_copy_train.drop([column_name], axis='columns')\n",
    "      df_copy_test = df_copy_test.drop([column_name], axis='columns')\n",
    "\n",
    "      #Creating a model \n",
    "      #normalize data and split train set into train and validation sets\n",
    "      scaler = preprocessing.StandardScaler().fit(df_copy_train)\n",
    "      X_scaled = scaler.transform(df_copy_train)\n",
    "      X_train, X_val, y_train, y_val = train_test_split(X_scaled,y,train_size=0.3)\n",
    "\n",
    "      #training the model\n",
    "      knn = KNeighborsClassifier(n_neighbors=10)\n",
    "      knn.fit(X_train, y_train)\n",
    "      knn.predict(X_val)\n",
    "      print(f'Model accuracy for {column_name} is {round(knn.score(X_val, y_val) * 100, 2)} %.')\n",
    "\n",
    "      #save the model\n",
    "      # filename = 'model.pkl'\n",
    "      # pickle.dump(model, open(filename, 'wb'))\n",
    "\n",
    "      #load the model\n",
    "      #pickled_model = pickle.load(open(filename, 'rb'))\n",
    "\n",
    "      #normalize X test data\n",
    "      scaler_test = preprocessing.StandardScaler().fit(df_copy_test)\n",
    "      X_test_scaled = scaler_test.transform(df_copy_test)\n",
    "\n",
    "      #predict unknown values\n",
    "      prediction = knn.predict(X_test_scaled)\n",
    "\n",
    "      #convert numbers to labels and create pd series\n",
    "      df_copy_test[column_name] = le.inverse_transform(prediction)\n",
    "      df_copy_test = df_copy_test[column_name].reset_index()\n",
    "      df_copy_test = df_copy_test.set_index('index')\n",
    "\n",
    "      #create a new dataframe and fill unknown values from created dataframe\n",
    "      df_1 = df[df.loc[:, (column_name)] != 'unknown'].copy(deep = True)\n",
    "      df_2 = df[df.loc[:, (column_name)] == 'unknown'].copy(deep = True)\n",
    "\n",
    "      #assign pd series to a dataframe column and merge the dataframes\n",
    "      df_2[column_name] = df_copy_test\n",
    "      series_final = df_1.append(df_2)[column_name]\n",
    "      global df_final_knn\n",
    "      df_final_knn = pd.concat([df_final_knn,series_final],axis='columns')\n",
    "      return df_final_knn\n",
    "   except Exception as err:\n",
    "      print('Since \"default\" feature has a little \"yes\" values, sometimes they are all concentrated in a cross-validation set. Please rerun the script one more time.') \n",
    "      return err\n",
    "\n",
    "#apply the function to columns with unknown values\n",
    "for i in ['job', 'marital', 'education', 'housing', 'loan', 'default']:\n",
    "     df_fill = fill_unknown_knn(i)\n",
    "\n",
    "new_cols = [df_fill[i] for i in df_fill.columns if i != 'default']\n",
    "#assign new filled columns to the old ones in the dataframe\n",
    "for i,y in zip(new_cols, df_fill.columns):\n",
    "  df[y] = i\n",
    "\n",
    "#check that there's no any unknown values in these columns anymore\n",
    "print('Number of \"unknown\" occurrences:')\n",
    "for i in df.columns:\n",
    "    if 'unknown' in set(df[i]):\n",
    "        print(\"- feature - \", i, \", number - \", len(df[df[i] == 'unknown']), \", percentage -\", round(len(df[df[i] == 'unknown'])/df.shape[0]*100,4), \"%\")"
   ]
  },
  {
   "cell_type": "markdown",
   "metadata": {},
   "source": [
    "It's worth noting that when using KNN algorithm, we treated all the categorical variables as nominal ones. However, as for education feature, in fact it's ordinal one, i.e., has certain gradation from lower to higher education level. We encoded this feature as a nominal one because it had an 'unknown' class, so, we couldn't classify it as lower or higher level, also, the model performed better with education encoded as a nominal feature. In next steps we will stick to treating this variable as an ordinal.\n",
    "\n",
    "Moreover, we could consider one more technique for handling skewed distributions. In the previous week project part we tried to use log function. We can also try to use binning. Using binning can help us to make distributions smoother. We can consider using binned features in models building."
   ]
  },
  {
   "cell_type": "code",
   "execution_count": 128,
   "metadata": {},
   "outputs": [
    {
     "data": {
      "text/html": [
       "<div>\n",
       "<style scoped>\n",
       "    .dataframe tbody tr th:only-of-type {\n",
       "        vertical-align: middle;\n",
       "    }\n",
       "\n",
       "    .dataframe tbody tr th {\n",
       "        vertical-align: top;\n",
       "    }\n",
       "\n",
       "    .dataframe thead th {\n",
       "        text-align: right;\n",
       "    }\n",
       "</style>\n",
       "<table border=\"1\" class=\"dataframe\">\n",
       "  <thead>\n",
       "    <tr style=\"text-align: right;\">\n",
       "      <th></th>\n",
       "      <th>age</th>\n",
       "      <th>job</th>\n",
       "      <th>marital</th>\n",
       "      <th>education</th>\n",
       "      <th>default</th>\n",
       "      <th>housing</th>\n",
       "      <th>loan</th>\n",
       "      <th>contact</th>\n",
       "      <th>month</th>\n",
       "      <th>day_of_week</th>\n",
       "      <th>...</th>\n",
       "      <th>pdays_categ</th>\n",
       "      <th>age_bin</th>\n",
       "      <th>duration_bin</th>\n",
       "      <th>campaign_bin</th>\n",
       "      <th>previous_bin</th>\n",
       "      <th>emp.var.rate_bin</th>\n",
       "      <th>cons.price.idx_bin</th>\n",
       "      <th>cons.conf.idx_bin</th>\n",
       "      <th>euribor3m_bin</th>\n",
       "      <th>nr.employed_bin</th>\n",
       "    </tr>\n",
       "  </thead>\n",
       "  <tbody>\n",
       "    <tr>\n",
       "      <th>0</th>\n",
       "      <td>56</td>\n",
       "      <td>housemaid</td>\n",
       "      <td>married</td>\n",
       "      <td>basic.4y</td>\n",
       "      <td>no</td>\n",
       "      <td>no</td>\n",
       "      <td>no</td>\n",
       "      <td>telephone</td>\n",
       "      <td>may</td>\n",
       "      <td>mon</td>\n",
       "      <td>...</td>\n",
       "      <td>no</td>\n",
       "      <td>(49.4, 57.5]</td>\n",
       "      <td>(-4.9, 491.8]</td>\n",
       "      <td>(0.9, 6.5]</td>\n",
       "      <td>(-0.0, 0.7]</td>\n",
       "      <td>(0.9, 1.4]</td>\n",
       "      <td>(93.7, 94.0]</td>\n",
       "      <td>(-36.5, -34.1]</td>\n",
       "      <td>(4.6, 5.0]</td>\n",
       "      <td>(5175.2, 5201.7]</td>\n",
       "    </tr>\n",
       "    <tr>\n",
       "      <th>1</th>\n",
       "      <td>57</td>\n",
       "      <td>services</td>\n",
       "      <td>married</td>\n",
       "      <td>high.school</td>\n",
       "      <td>unknown</td>\n",
       "      <td>no</td>\n",
       "      <td>no</td>\n",
       "      <td>telephone</td>\n",
       "      <td>may</td>\n",
       "      <td>mon</td>\n",
       "      <td>...</td>\n",
       "      <td>no</td>\n",
       "      <td>(49.4, 57.5]</td>\n",
       "      <td>(-4.9, 491.8]</td>\n",
       "      <td>(0.9, 6.5]</td>\n",
       "      <td>(-0.0, 0.7]</td>\n",
       "      <td>(0.9, 1.4]</td>\n",
       "      <td>(93.7, 94.0]</td>\n",
       "      <td>(-36.5, -34.1]</td>\n",
       "      <td>(4.6, 5.0]</td>\n",
       "      <td>(5175.2, 5201.7]</td>\n",
       "    </tr>\n",
       "    <tr>\n",
       "      <th>2</th>\n",
       "      <td>37</td>\n",
       "      <td>services</td>\n",
       "      <td>married</td>\n",
       "      <td>high.school</td>\n",
       "      <td>no</td>\n",
       "      <td>yes</td>\n",
       "      <td>no</td>\n",
       "      <td>telephone</td>\n",
       "      <td>may</td>\n",
       "      <td>mon</td>\n",
       "      <td>...</td>\n",
       "      <td>no</td>\n",
       "      <td>(33.2, 41.3]</td>\n",
       "      <td>(-4.9, 491.8]</td>\n",
       "      <td>(0.9, 6.5]</td>\n",
       "      <td>(-0.0, 0.7]</td>\n",
       "      <td>(0.9, 1.4]</td>\n",
       "      <td>(93.7, 94.0]</td>\n",
       "      <td>(-36.5, -34.1]</td>\n",
       "      <td>(4.6, 5.0]</td>\n",
       "      <td>(5175.2, 5201.7]</td>\n",
       "    </tr>\n",
       "    <tr>\n",
       "      <th>3</th>\n",
       "      <td>40</td>\n",
       "      <td>admin.</td>\n",
       "      <td>married</td>\n",
       "      <td>basic.6y</td>\n",
       "      <td>no</td>\n",
       "      <td>no</td>\n",
       "      <td>no</td>\n",
       "      <td>telephone</td>\n",
       "      <td>may</td>\n",
       "      <td>mon</td>\n",
       "      <td>...</td>\n",
       "      <td>no</td>\n",
       "      <td>(33.2, 41.3]</td>\n",
       "      <td>(-4.9, 491.8]</td>\n",
       "      <td>(0.9, 6.5]</td>\n",
       "      <td>(-0.0, 0.7]</td>\n",
       "      <td>(0.9, 1.4]</td>\n",
       "      <td>(93.7, 94.0]</td>\n",
       "      <td>(-36.5, -34.1]</td>\n",
       "      <td>(4.6, 5.0]</td>\n",
       "      <td>(5175.2, 5201.7]</td>\n",
       "    </tr>\n",
       "    <tr>\n",
       "      <th>4</th>\n",
       "      <td>56</td>\n",
       "      <td>services</td>\n",
       "      <td>married</td>\n",
       "      <td>high.school</td>\n",
       "      <td>no</td>\n",
       "      <td>no</td>\n",
       "      <td>yes</td>\n",
       "      <td>telephone</td>\n",
       "      <td>may</td>\n",
       "      <td>mon</td>\n",
       "      <td>...</td>\n",
       "      <td>no</td>\n",
       "      <td>(49.4, 57.5]</td>\n",
       "      <td>(-4.9, 491.8]</td>\n",
       "      <td>(0.9, 6.5]</td>\n",
       "      <td>(-0.0, 0.7]</td>\n",
       "      <td>(0.9, 1.4]</td>\n",
       "      <td>(93.7, 94.0]</td>\n",
       "      <td>(-36.5, -34.1]</td>\n",
       "      <td>(4.6, 5.0]</td>\n",
       "      <td>(5175.2, 5201.7]</td>\n",
       "    </tr>\n",
       "  </tbody>\n",
       "</table>\n",
       "<p>5 rows × 30 columns</p>\n",
       "</div>"
      ],
      "text/plain": [
       "   age        job  marital    education  default housing loan    contact  \\\n",
       "0   56  housemaid  married     basic.4y       no      no   no  telephone   \n",
       "1   57   services  married  high.school  unknown      no   no  telephone   \n",
       "2   37   services  married  high.school       no     yes   no  telephone   \n",
       "3   40     admin.  married     basic.6y       no      no   no  telephone   \n",
       "4   56   services  married  high.school       no      no  yes  telephone   \n",
       "\n",
       "  month day_of_week  ...  pdays_categ       age_bin   duration_bin  \\\n",
       "0   may         mon  ...           no  (49.4, 57.5]  (-4.9, 491.8]   \n",
       "1   may         mon  ...           no  (49.4, 57.5]  (-4.9, 491.8]   \n",
       "2   may         mon  ...           no  (33.2, 41.3]  (-4.9, 491.8]   \n",
       "3   may         mon  ...           no  (33.2, 41.3]  (-4.9, 491.8]   \n",
       "4   may         mon  ...           no  (49.4, 57.5]  (-4.9, 491.8]   \n",
       "\n",
       "  campaign_bin  previous_bin  emp.var.rate_bin  cons.price.idx_bin  \\\n",
       "0   (0.9, 6.5]   (-0.0, 0.7]        (0.9, 1.4]        (93.7, 94.0]   \n",
       "1   (0.9, 6.5]   (-0.0, 0.7]        (0.9, 1.4]        (93.7, 94.0]   \n",
       "2   (0.9, 6.5]   (-0.0, 0.7]        (0.9, 1.4]        (93.7, 94.0]   \n",
       "3   (0.9, 6.5]   (-0.0, 0.7]        (0.9, 1.4]        (93.7, 94.0]   \n",
       "4   (0.9, 6.5]   (-0.0, 0.7]        (0.9, 1.4]        (93.7, 94.0]   \n",
       "\n",
       "   cons.conf.idx_bin  euribor3m_bin   nr.employed_bin  \n",
       "0     (-36.5, -34.1]     (4.6, 5.0]  (5175.2, 5201.7]  \n",
       "1     (-36.5, -34.1]     (4.6, 5.0]  (5175.2, 5201.7]  \n",
       "2     (-36.5, -34.1]     (4.6, 5.0]  (5175.2, 5201.7]  \n",
       "3     (-36.5, -34.1]     (4.6, 5.0]  (5175.2, 5201.7]  \n",
       "4     (-36.5, -34.1]     (4.6, 5.0]  (5175.2, 5201.7]  \n",
       "\n",
       "[5 rows x 30 columns]"
      ]
     },
     "metadata": {},
     "output_type": "display_data"
    },
    {
     "data": {
      "image/png": "[encoded data removed]",
      "text/plain": [
       "<Figure size 1152x576 with 9 Axes>"
      ]
     },
     "metadata": {
      "needs_background": "light"
     },
     "output_type": "display_data"
    }
   ],
   "source": [
    "import matplotlib.pyplot as plt\n",
    "#set a list of numeric variables\n",
    "numeric = list(df.select_dtypes(include=['int64', 'float64']).columns)\n",
    "#create a copy of the dataframe\n",
    "df_cut = df.copy()\n",
    "#set a number of bins\n",
    "bins = 10\n",
    "#bin each column and plot it\n",
    "for i in numeric:\n",
    "    _, edges = pd.cut(df_cut[i], bins=bins, retbins=True)\n",
    "    labels = [f'({edges[b]:.1f}, {edges[b+1]:.1f}]' for b in range(bins)]\n",
    "    df_cut[i +'_bin'] = pd.cut(df_cut[i], bins=bins, labels=labels, ordered=False)\n",
    "display(df_cut.head(5))\n",
    "\n",
    "binned = [i for i in df_cut.columns if 'bin' in i]\n",
    "fig, axs = plt.subplots(nrows=3, ncols=3, figsize = (16,8))\n",
    "for i, ax, title in zip(binned,axs.reshape(-1), binned):\n",
    "    df_cut[i].value_counts().plot(kind = 'bar', ax = ax)\n",
    "    ax.title.set_text(title)\n",
    "fig.tight_layout()\n",
    "plt.show()"
   ]
  },
  {
   "cell_type": "markdown",
   "metadata": {},
   "source": [
    "We can see that in comparison to initial condition, the distributions became smoother.\n",
    "\n",
    "Finally, considering outliers, we decided to use z-score as initial option to avoid possible overfitting, i.e., reduce the variance in the data. Also, we plan to normalize the data using scallers, which are quite sensitive to the presence of outliers."
   ]
  },
  {
   "cell_type": "code",
   "execution_count": 5,
   "metadata": {},
   "outputs": [
    {
     "name": "stdout",
     "output_type": "stream",
     "text": [
      "Need to remove 369 outliers from age feature.\n",
      "Need to remove 861 outliers from duration feature.\n",
      "Need to remove 869 outliers from campaign feature.\n",
      "Need to remove 1064 outliers from previous feature.\n",
      "Need to remove 0 outliers from emp.var.rate feature.\n",
      "Need to remove 0 outliers from cons.price.idx feature.\n",
      "Need to remove 0 outliers from cons.conf.idx feature.\n",
      "Need to remove 0 outliers from euribor3m feature.\n",
      "Need to remove 0 outliers from nr.employed feature.\n",
      "Number of examples to be deleted - 3065.\n",
      "Number of examples after outliers removal - (38111, 21)\n"
     ]
    }
   ],
   "source": [
    "#removing outliers\n",
    "from scipy import stats\n",
    "import numpy as np\n",
    "columns = ['age', 'duration', 'campaign', 'previous', 'emp.var.rate', 'cons.price.idx', 'cons.conf.idx', 'euribor3m', 'nr.employed']\n",
    "\n",
    "list_of_indexes = []\n",
    "for i in columns:\n",
    "    z = np.abs(stats.zscore(df[i]))\n",
    "    to_del = (np.where(z > 3))\n",
    "    print(f'Need to remove {len(to_del[0])} outliers from {i} feature.')\n",
    "    list_of_indexes.extend(to_del[0].tolist())\n",
    "print(f'Number of examples to be deleted - {len(set(list_of_indexes))}.')\n",
    "delete = set(list_of_indexes)\n",
    "df.drop(delete, axis=0, inplace=True)\n",
    "print(f'Number of examples after outliers removal - {df.shape}')"
   ]
  },
  {
   "cell_type": "markdown",
   "metadata": {},
   "source": [
    "To this moment, we prepared the data for further analysis in a following way:\n",
    "- removed duplicates;\n",
    "- removed outliers with z-score;\n",
    "- converted pdays feature to a categorical feature;\n",
    "- filled 'unknown' values using K nearest neighbours algorithm;\n",
    "- considered possible transformation of numeric features - binning."
   ]
  },
  {
   "cell_type": "markdown",
   "metadata": {},
   "source": [
    "Next step is to handle a dataset imbalance problem. As we already saw, the dataset is imbalanced, since share of positive answers is much less."
   ]
  },
  {
   "cell_type": "code",
   "execution_count": 21,
   "metadata": {},
   "outputs": [
    {
     "data": {
      "image/png": "[encoded data removed]",
      "text/plain": [
       "<Figure size 432x288 with 1 Axes>"
      ]
     },
     "metadata": {},
     "output_type": "display_data"
    }
   ],
   "source": [
    "#create a pie plot\n",
    "df.y.value_counts(normalize = True).plot(kind='pie', y = 'y', autopct='%1.1f%%', title = 'Distribution of the target values');"
   ]
  },
  {
   "cell_type": "markdown",
   "metadata": {},
   "source": [
    "We don't plan to consider techniques such as undersampling a majority class, since it causes a significant decrease in number of examples and a loss of valuable information. \n",
    "We will separate test set for final validation (20% of the dataset) and will work with the rest of the data as training data (80%).\n",
    "\n",
    "Also we will encode all the features and scale them.\n",
    "Encoding is necessary because models cannot handle non-numeric data. For categorical fatures we will use get_dummies method, i.e. apply One-Hot-Encoding. Also we need to remove one column from each generated dummies set to avoid a Dummy Variable Trap. Only for education feature we will use Label encoding, since this feature can be considered as ordinal one.\n",
    "\n",
    "We need to scale features because some of the models we will consider are sensitive to features scale. We will use MinMax scaller."
   ]
  },
  {
   "cell_type": "code",
   "execution_count": 6,
   "metadata": {},
   "outputs": [],
   "source": [
    "from sklearn.model_selection import train_test_split\n",
    "from sklearn.preprocessing import LabelEncoder\n",
    "categories = df.select_dtypes(include = 'object')\n",
    "categories = [i for i in categories if i not in ['y', 'education']]\n",
    "\n",
    "deleted_columns = []\n",
    "list_of_education = ['illiterate', 'basic.4y', 'basic.6y', 'basic.9y', 'high.school', 'professional.course', 'university.degree']\n",
    "\n",
    "#encode education as an ordinal feature\n",
    "df['education'] = df.education.replace(to_replace = list_of_education, value = list(range(len(list_of_education))))\n",
    "#one-hot-encoding\n",
    "for i in categories:\n",
    "        dummies_x = pd.get_dummies(df[i])\n",
    "        dummies_x.columns = df[i].unique()\n",
    "        if 'no' not in dummies_x.columns:\n",
    "           deleted_columns.append(dummies_x.columns[0])\n",
    "        df = pd.concat([df,dummies_x],axis='columns')\n",
    "df.drop(categories, axis = 1, inplace = True)\n",
    "df.drop(deleted_columns, axis = 1, inplace = True)\n",
    "\n",
    "#creating new columns with dummy features\n",
    "df.columns = ['age', 'education', 'duration', 'campaign', 'previous', 'emp.var.rate',\n",
    "       'cons.price.idx', 'cons.conf.idx', 'euribor3m', 'nr.employed', 'y',\n",
    "       'services', 'admin.', 'blue-collar', 'technician', 'retired',\n",
    "       'management', 'unemployed', 'self-employed', 'entrepreneur', 'student',\n",
    "       'single', 'divorced', 'no_default', 'unknown', 'yes_default', 'no_housing', 'yes_housing', 'no_loan', 'yes_loan',\n",
    "       'cellular', 'jun', 'jul', 'aug', 'oct', 'nov', 'dec', 'mar', 'apr',\n",
    "       'sep', 'tue', 'wed', 'thu', 'fri', 'failure', 'success', 'no_pdays', 'yes_pdays']\n",
    "\n",
    "df.drop(['unknown', 'no_housing', 'no_loan', 'no_pdays'], axis = 1, inplace = True)\n",
    "#encoding a target feature\n",
    "le = LabelEncoder()\n",
    "df['y'] = le.fit_transform(df['y'])\n",
    "#define input and output\n",
    "y = df.y\n",
    "X = df.loc[:, df.columns != 'y']\n",
    "#perform train-test split. We will work with 80% of initial dataset\n",
    "X_train, X_test, y_train, y_test = train_test_split(X, y, test_size=0.2, random_state=10, stratify = y)"
   ]
  },
  {
   "cell_type": "markdown",
   "metadata": {},
   "source": [
    "After the splitting we should check that ratio between target classes are kept. We can see that shares of positive and negative answers are equal in train and test sets."
   ]
  },
  {
   "cell_type": "code",
   "execution_count": 23,
   "metadata": {},
   "outputs": [
    {
     "name": "stdout",
     "output_type": "stream",
     "text": [
      "Y train distribution\n",
      "0    0.897337\n",
      "1    0.102663\n",
      "Name: y, dtype: float64\n",
      "\n",
      "Y test distribution\n",
      "0    0.897285\n",
      "1    0.102715\n",
      "Name: y, dtype: float64\n"
     ]
    }
   ],
   "source": [
    "print('Y train distribution')\n",
    "print(y_train.value_counts(normalize = True))\n",
    "print('\\nY test distribution')\n",
    "print(y_test.value_counts(normalize = True))"
   ]
  },
  {
   "cell_type": "markdown",
   "metadata": {},
   "source": [
    "Next step is to oversample a minority class. For this purpose we use SMOTE method.\n",
    "Synthetic Minority Oversampling Technique or SMOTE is another technique to oversample the minority class. Simply adding duplicate records of minority class often don’t add any new information to the model. In SMOTE new instances are synthesized from the existing data. If we explain it in simple words, SMOTE looks into minority class instances and use k nearest neighbor to select a random nearest neighbor, and a synthetic instance is created randomly in feature space."
   ]
  },
  {
   "cell_type": "code",
   "execution_count": 7,
   "metadata": {},
   "outputs": [
    {
     "data": {
      "text/plain": [
       "0    0.5\n",
       "1    0.5\n",
       "Name: y, dtype: float64"
      ]
     },
     "execution_count": 7,
     "metadata": {},
     "output_type": "execute_result"
    }
   ],
   "source": [
    "from imblearn.over_sampling import SMOTE\n",
    "# Resampling the minority class. The strategy can be changed as required.\n",
    "sm = SMOTE(sampling_strategy='minority', random_state=42)\n",
    "# Fit the model to generate the data.\n",
    "oversampled_X, oversampled_Y = sm.fit_resample(X_train, y_train)\n",
    "#oversampled = pd.concat([pd.DataFrame(oversampled_Y), pd.DataFrame(oversampled_X)], axis=1)\n",
    "oversampled_Y.value_counts(normalize = True)"
   ]
  },
  {
   "cell_type": "markdown",
   "metadata": {},
   "source": [
    "Let's check the classes ratio again. We can see that now the shares are equal. We should note that this technique is used only for training data."
   ]
  },
  {
   "cell_type": "code",
   "execution_count": 81,
   "metadata": {},
   "outputs": [
    {
     "data": {
      "image/png": "[encoded data removed]",
      "text/plain": [
       "<Figure size 432x288 with 1 Axes>"
      ]
     },
     "metadata": {},
     "output_type": "display_data"
    }
   ],
   "source": [
    "#create a pie plot\n",
    "oversampled_Y.value_counts(normalize = True).plot(kind='pie', y = 'y', autopct='%1.1f%%', title = 'Distribution of the target values after oversampling');"
   ]
  },
  {
   "cell_type": "markdown",
   "metadata": {},
   "source": [
    "Generally, we will try to use the approach mentioned to handle the imbalance in our data. Also we will consider assigning class weights, e.g. in Logistic regression.\n",
    "\n",
    "Before normalization, we should decide which features we should remove because after scalling the data is converted to numpy array. We consider the following options:\n",
    "- remove numeric features euribor3m and emp.var.rate, since the analysis showed that these features have the highest multicollinearuty with another features and it can affect bias in the models;\n",
    "- consider model with and without categorical features: housing, month, loan, day of week, default;\n",
    "- consider model with and without duration feature. Duration feature is not recommended as this will be difficult to explain the result to business and also it will be difficult for business to campaign based on duration.\n",
    "\n",
    "We will consider features tuning by building only one model to reduce processing time. We assume that if set of remaining features will perform well on one basic model, this set of features will be appropriate for another models. The main model to consider is Logistic regression because this type of model is the most popular for solving binary classification problems.\n",
    "\n",
    "After that we will explore the rest of the supervised learning models to compare the performance. Finally, we will build a neural network as a benchmark and explore, how deep learning handles with the dataset.\n",
    "\n",
    "We will normalize the oversampled data using MinMax scaller. As for one-hot-encoded features, requirements are different for different models. Nevertheless, MinMax scaller keeps binary features unchanged, i.e. in range [0,1] while StandartScaller transforms them and with this transformation models perform worse."
   ]
  },
  {
   "cell_type": "code",
   "execution_count": 264,
   "metadata": {},
   "outputs": [
    {
     "data": {
      "text/html": [
       "<div>\n",
       "<style scoped>\n",
       "    .dataframe tbody tr th:only-of-type {\n",
       "        vertical-align: middle;\n",
       "    }\n",
       "\n",
       "    .dataframe tbody tr th {\n",
       "        vertical-align: top;\n",
       "    }\n",
       "\n",
       "    .dataframe thead th {\n",
       "        text-align: right;\n",
       "    }\n",
       "</style>\n",
       "<table border=\"1\" class=\"dataframe\">\n",
       "  <thead>\n",
       "    <tr style=\"text-align: right;\">\n",
       "      <th></th>\n",
       "      <th>model_without</th>\n",
       "      <th>score</th>\n",
       "    </tr>\n",
       "  </thead>\n",
       "  <tbody>\n",
       "    <tr>\n",
       "      <th>0</th>\n",
       "      <td>duration, housing, month, day_week, loan, default</td>\n",
       "      <td>0.822</td>\n",
       "    </tr>\n",
       "    <tr>\n",
       "      <th>6</th>\n",
       "      <td>month, duration</td>\n",
       "      <td>0.847</td>\n",
       "    </tr>\n",
       "    <tr>\n",
       "      <th>1</th>\n",
       "      <td>duration, housing, day_week, loan, default</td>\n",
       "      <td>0.851</td>\n",
       "    </tr>\n",
       "    <tr>\n",
       "      <th>2</th>\n",
       "      <td>duration, day_week, loan, default</td>\n",
       "      <td>0.855</td>\n",
       "    </tr>\n",
       "    <tr>\n",
       "      <th>3</th>\n",
       "      <td>duration, loan, default</td>\n",
       "      <td>0.857</td>\n",
       "    </tr>\n",
       "    <tr>\n",
       "      <th>4</th>\n",
       "      <td>duration, default</td>\n",
       "      <td>0.857</td>\n",
       "    </tr>\n",
       "    <tr>\n",
       "      <th>5</th>\n",
       "      <td>duration</td>\n",
       "      <td>0.860</td>\n",
       "    </tr>\n",
       "    <tr>\n",
       "      <th>7</th>\n",
       "      <td>with all features</td>\n",
       "      <td>0.878</td>\n",
       "    </tr>\n",
       "  </tbody>\n",
       "</table>\n",
       "</div>"
      ],
      "text/plain": [
       "                                       model_without  score\n",
       "0  duration, housing, month, day_week, loan, default  0.822\n",
       "6                                    month, duration  0.847\n",
       "1         duration, housing, day_week, loan, default  0.851\n",
       "2                  duration, day_week, loan, default  0.855\n",
       "3                            duration, loan, default  0.857\n",
       "4                                  duration, default  0.857\n",
       "5                                           duration  0.860\n",
       "7                                  with all features  0.878"
      ]
     },
     "execution_count": 264,
     "metadata": {},
     "output_type": "execute_result"
    }
   ],
   "source": [
    "from sklearn.preprocessing import MinMaxScaler\n",
    "from sklearn.linear_model import LogisticRegression\n",
    "\n",
    "absent_features = {}\n",
    "#define function that returns model score without a certain set of features\n",
    "def without_features(feature_list = None, delete_cols = None):\n",
    "    #considering with/without housing, month, loan, day of week - features, that have the least impact according to chi-square test\n",
    "    #creating a copy of a current data set\n",
    "    X_least_chi = oversampled_X.copy()\n",
    "    #drop columns with multicollinearity\n",
    "    X_least_chi.drop(['euribor3m', 'emp.var.rate'], axis = 1, inplace = True)\n",
    "    #copt the test set and drop the same columns\n",
    "    X_test_chi = X_test.copy()\n",
    "    X_test_chi.drop(['euribor3m', 'emp.var.rate'], axis = 1, inplace = True)\n",
    "    #define columns we want to drop and drop them \n",
    "    if feature_list != None:\n",
    "        X_least_chi = X_least_chi.drop(delete_cols, axis = 1)\n",
    "        X_test_chi = X_test_chi.drop(delete_cols, axis = 1)\n",
    "    #apply scalling after removal\n",
    "    scaler_train = MinMaxScaler().fit(X_least_chi)\n",
    "    X_least_chi_sc = scaler_train.transform(X_least_chi)\n",
    "    scaler_test = MinMaxScaler().fit(X_test_chi)\n",
    "    X_test_chi_sc = scaler_test.transform(X_test_chi)\n",
    "\n",
    "    #build Logistic regression\n",
    "    model = LogisticRegression(max_iter = 200)\n",
    "    model.fit(X_least_chi_sc, oversampled_Y)\n",
    "    model.predict(X_test_chi_sc)\n",
    "    #write the result to a dictionary\n",
    "    if feature_list != None:\n",
    "        absent_features[', '.join(feature_list)] = (round(model.score(X_test_chi_sc,y_test),3))\n",
    "    else:\n",
    "        absent_features['with all features'] = (round(model.score(X_test_chi_sc,y_test),3))\n",
    "\n",
    "#apply the function with different combinations\n",
    "without_features(['duration', 'housing', 'month', 'day_week', 'loan', 'default'], ['duration', 'yes_housing', 'jun',\n",
    "       'jul', 'aug', 'oct', 'nov', 'dec', 'mar', 'apr', 'sep', 'tue', 'wed',\n",
    "       'thu', 'fri', 'yes_loan', 'yes_default', 'no_default'])\n",
    "without_features(['duration', 'housing', 'day_week', 'loan', 'default'], ['duration', 'yes_housing', 'tue', 'wed', 'thu', 'fri', 'yes_loan', 'yes_default', 'no_default'])\n",
    "without_features(['duration', 'day_week', 'loan', 'default'], ['duration', 'tue', 'wed', 'thu', 'fri', 'yes_loan', 'yes_default', 'no_default'])\n",
    "without_features(['duration', 'loan', 'default'], ['duration', 'yes_loan', 'yes_default', 'no_default'])\n",
    "without_features(['duration', 'default'], ['duration', 'yes_loan', 'yes_default', 'no_default'])\n",
    "without_features(['duration'], ['duration'])\n",
    "without_features(['month', 'duration'], ['jun', 'jul', 'aug', 'oct', 'nov', 'dec', 'mar', 'apr', 'sep', 'duration'])\n",
    "without_features()\n",
    "\n",
    "#create a dataframe with summary\n",
    "feature_selection = pd.DataFrame(absent_features.items(), columns = ['model_without', 'score'])\n",
    "feature_selection.sort_values(by = 'score')"
   ]
  },
  {
   "cell_type": "markdown",
   "metadata": {},
   "source": [
    "We can see that the model with all features has accuracy about 88%. Month and duration features have the biggest impact on the model score and without them the score decreases by around 4%. As for the other features, they don't affect the result signifficantly and removing them don't influence the final result much. \n",
    "That's why next step is to remove all the unwanted features. We also remove duration because we plan our final model not to include this feature that is hard to interpret. Nevertheless, we will consider a model with duration as an additional option later."
   ]
  },
  {
   "cell_type": "code",
   "execution_count": 8,
   "metadata": {},
   "outputs": [],
   "source": [
    "#remove all the unwanted features from train and test sets\n",
    "oversampled_X = oversampled_X.drop(['euribor3m', 'emp.var.rate', 'duration', 'yes_housing', 'tue', 'wed', 'thu', 'fri', 'yes_loan', 'yes_default', 'no_default'], axis = 1)\n",
    "X_test = X_test.drop(['euribor3m', 'emp.var.rate', 'duration', 'yes_housing', 'tue', 'wed', 'thu', 'fri', 'yes_loan', 'yes_default', 'no_default'], axis = 1)\n",
    "\n",
    "#apply features scalling\n",
    "from sklearn.preprocessing import MinMaxScaler\n",
    "scaler_train = MinMaxScaler().fit(oversampled_X)\n",
    "oversampled_X_sc = oversampled_X.copy()\n",
    "oversampled_X_sc[oversampled_X_sc.columns] = scaler_train.fit_transform(oversampled_X[oversampled_X.columns])\n",
    "X_test_sc = X_test.copy()\n",
    "scaler_test = MinMaxScaler().fit(X_test)\n",
    "X_test_sc[X_test_sc.columns] = scaler_test.transform(X_test_sc[X_test_sc.columns])"
   ]
  },
  {
   "cell_type": "markdown",
   "metadata": {},
   "source": [
    "<h3>Models selection</h3>\n",
    "\n",
    "Now it's time to build several different models. We consider Support Vector Classifier, Random Forest, Logistic Regression, Decision Tree and K Nearest Neighbours. We plan to compare their performance and choose the best result measured as accoracy. Moreover, we make hyperparameter tuning using Grid search. It will help us to choose the best parameters for each model. We don't use a large range of hyperparameters possible values since in combination with multiple iterations of cross validation process (we use it for receiving more stable results here) takes a lot of time."
   ]
  },
  {
   "cell_type": "code",
   "execution_count": 398,
   "metadata": {},
   "outputs": [
    {
     "name": "stdout",
     "output_type": "stream",
     "text": [
      "fitting svm...\n",
      "fitting random_forest...\n",
      "fitting logistic_regression...\n",
      "fitting des_tree...\n",
      "fitting knn...\n",
      "fitting ada_boost...\n"
     ]
    }
   ],
   "source": [
    "from sklearn import svm\n",
    "from sklearn.ensemble import RandomForestClassifier\n",
    "from sklearn.linear_model import LogisticRegression\n",
    "from sklearn.tree import DecisionTreeClassifier\n",
    "from sklearn.neighbors import KNeighborsClassifier\n",
    "from sklearn.ensemble import AdaBoostClassifier\n",
    "from sklearn.metrics import f1_score\n",
    "\n",
    "#define a dictionary that keeps models and corresponding parameters\n",
    "model_params = {\n",
    "    'svm': {\n",
    "        'model': svm.SVC(gamma='auto'),\n",
    "        'params' : {\n",
    "            'C': [5, 10, 15],\n",
    "            'kernel': ['rbf']\n",
    "        }  \n",
    "    },\n",
    "    'random_forest': {\n",
    "        'model': RandomForestClassifier(),\n",
    "        'params' : {\n",
    "            'n_estimators': [50, 70, 100, 120, 150]\n",
    "        }\n",
    "    },\n",
    "    'logistic_regression' : {\n",
    "        'model': LogisticRegression(solver='liblinear',multi_class='auto'),\n",
    "        'params': {\n",
    "            'C': [0.1, 1,5, 10, 20, 50, 100]\n",
    "        }\n",
    "    },\n",
    "    'des_tree': {\n",
    "    'model': DecisionTreeClassifier(),\n",
    "    'params' : {\n",
    "        'criterion': ['gini', 'entropy'],\n",
    "        'splitter': ['best','random']\n",
    "        }  \n",
    "    },\n",
    "    'knn': {\n",
    "    'model': KNeighborsClassifier(),\n",
    "    'params' : {\n",
    "        'n_neighbors': [1,5, 10, 20, 50, 100]\n",
    "        }\n",
    "    },\n",
    "    'ada_boost': {\n",
    "    'model': AdaBoostClassifier(),\n",
    "    'params' : {\n",
    "        'n_estimators': [150, 200, 450],\n",
    "        'learning_rate': [0.01, 0.1, 1, 5]\n",
    "        }  \n",
    "    }\n",
    "}\n",
    "\n",
    "from sklearn.model_selection import GridSearchCV\n",
    "scores = []\n",
    "\n",
    "#iterating through the dictionary, fit a model, calculate a score and append the result to the list\n",
    "for model_name, mp in model_params.items():\n",
    "    clf =  GridSearchCV(mp['model'], mp['params'], cv=3, return_train_score=False)\n",
    "    print(f'fitting {model_name}...')\n",
    "    clf.fit(oversampled_X_sc, oversampled_Y)\n",
    "    y_pred = clf.predict(X_test_sc)\n",
    "    scores.append({\n",
    "        'model': model_name,\n",
    "        'accuracy': clf.best_score_,\n",
    "        'f1_score': f1_score(y_pred, y_test), \n",
    "        'best_params': clf.best_params_\n",
    "    })"
   ]
  },
  {
   "cell_type": "code",
   "execution_count": 399,
   "metadata": {},
   "outputs": [
    {
     "data": {
      "text/html": [
       "<div>\n",
       "<style scoped>\n",
       "    .dataframe tbody tr th:only-of-type {\n",
       "        vertical-align: middle;\n",
       "    }\n",
       "\n",
       "    .dataframe tbody tr th {\n",
       "        vertical-align: top;\n",
       "    }\n",
       "\n",
       "    .dataframe thead th {\n",
       "        text-align: right;\n",
       "    }\n",
       "</style>\n",
       "<table border=\"1\" class=\"dataframe\">\n",
       "  <thead>\n",
       "    <tr style=\"text-align: right;\">\n",
       "      <th></th>\n",
       "      <th>model</th>\n",
       "      <th>accuracy</th>\n",
       "      <th>f1_score</th>\n",
       "      <th>best_params</th>\n",
       "    </tr>\n",
       "  </thead>\n",
       "  <tbody>\n",
       "    <tr>\n",
       "      <th>1</th>\n",
       "      <td>random_forest</td>\n",
       "      <td>0.887072</td>\n",
       "      <td>0.338147</td>\n",
       "      <td>{'n_estimators': 150}</td>\n",
       "    </tr>\n",
       "    <tr>\n",
       "      <th>4</th>\n",
       "      <td>knn</td>\n",
       "      <td>0.884696</td>\n",
       "      <td>0.363863</td>\n",
       "      <td>{'n_neighbors': 10}</td>\n",
       "    </tr>\n",
       "    <tr>\n",
       "      <th>5</th>\n",
       "      <td>ada_boost</td>\n",
       "      <td>0.880858</td>\n",
       "      <td>0.356873</td>\n",
       "      <td>{'learning_rate': 1, 'n_estimators': 450}</td>\n",
       "    </tr>\n",
       "    <tr>\n",
       "      <th>0</th>\n",
       "      <td>svm</td>\n",
       "      <td>0.872579</td>\n",
       "      <td>0.362492</td>\n",
       "      <td>{'C': 15, 'kernel': 'rbf'}</td>\n",
       "    </tr>\n",
       "    <tr>\n",
       "      <th>3</th>\n",
       "      <td>des_tree</td>\n",
       "      <td>0.870057</td>\n",
       "      <td>0.275330</td>\n",
       "      <td>{'criterion': 'entropy', 'splitter': 'random'}</td>\n",
       "    </tr>\n",
       "    <tr>\n",
       "      <th>2</th>\n",
       "      <td>logistic_regression</td>\n",
       "      <td>0.864062</td>\n",
       "      <td>0.321881</td>\n",
       "      <td>{'C': 50}</td>\n",
       "    </tr>\n",
       "  </tbody>\n",
       "</table>\n",
       "</div>"
      ],
      "text/plain": [
       "                 model  accuracy  f1_score  \\\n",
       "1        random_forest  0.887072  0.338147   \n",
       "4                  knn  0.884696  0.363863   \n",
       "5            ada_boost  0.880858  0.356873   \n",
       "0                  svm  0.872579  0.362492   \n",
       "3             des_tree  0.870057  0.275330   \n",
       "2  logistic_regression  0.864062  0.321881   \n",
       "\n",
       "                                      best_params  \n",
       "1                           {'n_estimators': 150}  \n",
       "4                             {'n_neighbors': 10}  \n",
       "5       {'learning_rate': 1, 'n_estimators': 450}  \n",
       "0                      {'C': 15, 'kernel': 'rbf'}  \n",
       "3  {'criterion': 'entropy', 'splitter': 'random'}  \n",
       "2                                       {'C': 50}  "
      ]
     },
     "execution_count": 399,
     "metadata": {},
     "output_type": "execute_result"
    }
   ],
   "source": [
    "#create a dataframe with the results    \n",
    "df_cross_scores = pd.DataFrame(scores,columns=['model','accuracy', 'f1_score', 'best_params'])\n",
    "df_cross_scores.sort_values(by = 'accuracy', ascending = False)"
   ]
  },
  {
   "cell_type": "markdown",
   "metadata": {},
   "source": [
    "According to the results, Random Forest model performs the best on our preprocessed training set and gives accuracy about 88,5%. KNN classifier shows almost the same result.\n",
    "The other models perform a little bit worse. Currently, we consider Random Forest Classifier with 100 estimators as the best option to apply.\n",
    "\n",
    "Let's check it on our test set."
   ]
  },
  {
   "cell_type": "code",
   "execution_count": 11,
   "metadata": {},
   "outputs": [
    {
     "data": {
      "text/plain": [
       "0.856618129345402"
      ]
     },
     "execution_count": 11,
     "metadata": {},
     "output_type": "execute_result"
    }
   ],
   "source": [
    "from sklearn.ensemble import RandomForestClassifier\n",
    "model = RandomForestClassifier(n_estimators=100)\n",
    "model.fit(oversampled_X_sc, oversampled_Y)\n",
    "model.score(X_test_sc, y_test)"
   ]
  },
  {
   "cell_type": "markdown",
   "metadata": {},
   "source": [
    "So, on the test set Random Forest gives about 85,6% accuracy.\n",
    "\n",
    "<h3>Naive Bayes</h3>\n",
    "\n",
    "Next, we will consider Naive Bayes. Since there are numeric and categorical features in the dataset, we will apply CategoricalNB for categorical variables and GaussianNB for numeric features. After that, we calculate log probabilities for both data types, calculate a final log probability by adding them up and substracting predictor prior probability.\n",
    "For x which contains both categorical and continuous:\n",
    "P(a|x) = log likelihood from categorical model + log likelihood from continuous model - log prior of class a."
   ]
  },
  {
   "cell_type": "code",
   "execution_count": 10,
   "metadata": {},
   "outputs": [
    {
     "name": "stdout",
     "output_type": "stream",
     "text": [
      "0.8032270759543487\n",
      "0.3760399334442596\n"
     ]
    }
   ],
   "source": [
    "from sklearn.metrics import f1_score\n",
    "#defining columns\n",
    "cat_cols = ['education', 'campaign', 'services', 'admin.', 'blue-collar', 'technician', 'retired',\n",
    "       'management', 'unemployed', 'self-employed', 'entrepreneur', 'student',\n",
    "       'single', 'divorced', 'cellular', 'jun', 'jul', 'aug', 'oct', 'nov', 'dec', 'mar',\n",
    "       'apr', 'sep', 'failure', 'success', 'yes_pdays']\n",
    "cont_cols = ['age', 'campaign', 'previous', 'cons.price.idx', 'cons.conf.idx', 'nr.employed']\n",
    "\n",
    "from sklearn.naive_bayes import GaussianNB,CategoricalNB\n",
    "gc = GaussianNB()\n",
    "cont_classifier = gc.fit(oversampled_X_sc[cont_cols],oversampled_Y)\n",
    "\n",
    "Cc = CategoricalNB()\n",
    "mod = Cc.fit(oversampled_X_sc[cat_cols],oversampled_Y)\n",
    "\n",
    "#jll - sum of log probability of continuous and categorical data\n",
    "log_prior = mod.class_log_prior_\n",
    "jlls = []\n",
    "jlls.append(cont_classifier._joint_log_likelihood(X_test_sc[cont_cols]))\n",
    "jlls.append(mod._joint_log_likelihood(np.array(X_test_sc[cat_cols].astype(int))))\n",
    "jlls = np.hstack([jlls])\n",
    "jll = jlls.sum(axis=0)\n",
    "jlls = jlls - log_prior\n",
    "\n",
    "#Standardising the results\n",
    "fo = np.exp(jll)\n",
    "sumso = np.sum(fo, axis = 1, keepdims = True) \n",
    "result = fo/sumso\n",
    "\n",
    "#Output calculation\n",
    "y_pred = np.argmax(result,axis=1)\n",
    "\n",
    "#calculate the accuracy\n",
    "from sklearn.metrics import accuracy_score\n",
    "print(accuracy_score(y_test, y_pred))\n",
    "print(f1_score(y_test, y_pred))"
   ]
  },
  {
   "cell_type": "markdown",
   "metadata": {},
   "source": [
    "We tested Naive Bayes on our test set and can see that accuracy is about 80% that is less than the Random Forest model provides.\n",
    "\n",
    "Next. we will consider several additional options:\n",
    "1. Neural network;\n",
    "2. Logistic Regression with class weights (instead of oversampling the minority class);\n",
    "3. Random Forest with binned and encoded numeric features;\n",
    "4. Random Forest with duration."
   ]
  },
  {
   "cell_type": "markdown",
   "metadata": {},
   "source": [
    "<h3>Neural Network</h3>\n",
    "\n",
    "As a benchmark, we will build a simple neural network with one input layer, where layer size is equal to number of features and an output layer with sigmoid activation function."
   ]
  },
  {
   "cell_type": "code",
   "execution_count": 405,
   "metadata": {},
   "outputs": [
    {
     "name": "stdout",
     "output_type": "stream",
     "text": [
      "1095/1095 [==============================] - 4s 3ms/step - loss: 0.4064 - accuracy: 0.8253 - val_loss: 0.3809 - val_accuracy: 0.8242\n",
      "0.89728453364817\n"
     ]
    }
   ],
   "source": [
    "from keras.models import Sequential\n",
    "from keras.layers import Dense\n",
    "\n",
    "model = Sequential()\n",
    "model.add(Dense(32, activation='relu', input_dim=32))      \n",
    "model.add(Dense(1, activation='sigmoid'))\n",
    "model.compile(optimizer='adam', loss='binary_crossentropy', metrics=['accuracy'])\n",
    "model.fit(oversampled_X_sc, oversampled_Y, epochs=1, batch_size=40, validation_split=0.2)\n",
    "predict_x=model.predict(X_test_sc) \n",
    "y_pred = np.argmax(predict_x,axis=1)\n",
    "print(accuracy_score(y_test, y_pred))"
   ]
  },
  {
   "cell_type": "markdown",
   "metadata": {},
   "source": [
    "We can see that a simple neural network without any hidden layers permorms better than our Random Forest model. Nevertheless, we will choose the last one because it is much easier to interpret.\n",
    "\n",
    "<h3>Logistic Regression with class weights</h3>\n",
    "\n",
    "Next, we will apply Logistic Regression with class weights. This technique is alternative for oversampling the class with positive answers in 'y' feature."
   ]
  },
  {
   "cell_type": "code",
   "execution_count": 10,
   "metadata": {},
   "outputs": [
    {
     "data": {
      "text/plain": [
       "{0: 0.5572109480086554, 1: 4.8697929976999745}"
      ]
     },
     "execution_count": 10,
     "metadata": {},
     "output_type": "execute_result"
    }
   ],
   "source": [
    "#compute class weights\n",
    "from sklearn.utils.class_weight import compute_class_weight\n",
    "class_weights = compute_class_weight(class_weight = 'balanced', classes = np.unique(y), y = y)\n",
    "weight = {key: value for (key, value) in zip(np.unique(y), class_weights)}\n",
    "\n",
    "weight"
   ]
  },
  {
   "cell_type": "code",
   "execution_count": 11,
   "metadata": {},
   "outputs": [
    {
     "name": "stdout",
     "output_type": "stream",
     "text": [
      "0.820543093270366\n",
      "0.42180896027049875\n"
     ]
    }
   ],
   "source": [
    "from sklearn.linear_model import LogisticRegression\n",
    "from sklearn.metrics import f1_score\n",
    "\n",
    "X_train, X_test, y_train, y_test = train_test_split(X, y, test_size=0.2, random_state=10, stratify = y)\n",
    "#remove all the unwanted features from train and test sets\n",
    "#we shouldn't use oversampled X features here\n",
    "X_train_lr = X_train.drop(['euribor3m', 'emp.var.rate', 'duration', 'yes_housing', 'tue', 'wed', 'thu', 'fri', 'yes_loan', 'yes_default', 'no_default'], axis = 1)\n",
    "X_test_lr = X_test.drop(['euribor3m', 'emp.var.rate', 'duration', 'yes_housing', 'tue', 'wed', 'thu', 'fri', 'yes_loan', 'yes_default', 'no_default'], axis = 1)\n",
    "\n",
    "#apply features scalling\n",
    "from sklearn.preprocessing import MinMaxScaler\n",
    "scaler_train = MinMaxScaler().fit(X_train)\n",
    "X_train_lr_sc = X_train_lr.copy()\n",
    "X_train_lr_sc[X_train_lr_sc.columns] = scaler_train.fit_transform(X_train_lr[X_train_lr.columns])\n",
    "X_test_lr_sc = X_test_lr.copy()\n",
    "scaler_test = MinMaxScaler().fit(X_test_lr_sc)\n",
    "X_test_lr_sc[X_test_lr_sc.columns] = scaler_test.transform(X_test_lr_sc[X_test_lr_sc.columns])\n",
    "\n",
    "#apply logistic regression\n",
    "model = LogisticRegression(max_iter = 200, class_weight=weight)\n",
    "model.fit(X_train_lr_sc, y_train)\n",
    "y_pred = model.predict(X_test_lr_sc)\n",
    "print(model.score(X_test_lr_sc,y_test))\n",
    "print(f1_score(y_test, y_pred))"
   ]
  },
  {
   "cell_type": "markdown",
   "metadata": {},
   "source": [
    "This option gives about 82% accuracy, which is lower than our Random Forest model and than Logistic Regression on the oversampled data (86,4%)."
   ]
  },
  {
   "cell_type": "markdown",
   "metadata": {},
   "source": [
    "<h3>Random Forest with binned and encoded numeric features</h3>\n",
    " \n",
    "We can have a look at skewed distributions of numeric features, which we created at the beginning and explore, how a model with the binned features performs. We will begin from repeating numeric features transformation."
   ]
  },
  {
   "cell_type": "code",
   "execution_count": 391,
   "metadata": {},
   "outputs": [
    {
     "data": {
      "text/html": [
       "<div>\n",
       "<style scoped>\n",
       "    .dataframe tbody tr th:only-of-type {\n",
       "        vertical-align: middle;\n",
       "    }\n",
       "\n",
       "    .dataframe tbody tr th {\n",
       "        vertical-align: top;\n",
       "    }\n",
       "\n",
       "    .dataframe thead th {\n",
       "        text-align: right;\n",
       "    }\n",
       "</style>\n",
       "<table border=\"1\" class=\"dataframe\">\n",
       "  <thead>\n",
       "    <tr style=\"text-align: right;\">\n",
       "      <th></th>\n",
       "      <th>y</th>\n",
       "      <th>services</th>\n",
       "      <th>admin.</th>\n",
       "      <th>blue-collar</th>\n",
       "      <th>technician</th>\n",
       "      <th>retired</th>\n",
       "      <th>management</th>\n",
       "      <th>unemployed</th>\n",
       "      <th>self-employed</th>\n",
       "      <th>entrepreneur</th>\n",
       "      <th>...</th>\n",
       "      <th>age_bin</th>\n",
       "      <th>education_bin</th>\n",
       "      <th>duration_bin</th>\n",
       "      <th>campaign_bin</th>\n",
       "      <th>previous_bin</th>\n",
       "      <th>emp.var.rate_bin</th>\n",
       "      <th>cons.price.idx_bin</th>\n",
       "      <th>cons.conf.idx_bin</th>\n",
       "      <th>euribor3m_bin</th>\n",
       "      <th>nr.employed_bin</th>\n",
       "    </tr>\n",
       "  </thead>\n",
       "  <tbody>\n",
       "    <tr>\n",
       "      <th>0</th>\n",
       "      <td>0</td>\n",
       "      <td>0</td>\n",
       "      <td>0</td>\n",
       "      <td>1</td>\n",
       "      <td>0</td>\n",
       "      <td>0</td>\n",
       "      <td>0</td>\n",
       "      <td>0</td>\n",
       "      <td>0</td>\n",
       "      <td>0</td>\n",
       "      <td>...</td>\n",
       "      <td>(49.4, 57.5]</td>\n",
       "      <td>(0.6, 1.2]</td>\n",
       "      <td>(-4.9, 491.8]</td>\n",
       "      <td>(0.9, 6.5]</td>\n",
       "      <td>(-0.0, 0.7]</td>\n",
       "      <td>(0.9, 1.4]</td>\n",
       "      <td>(93.7, 94.0]</td>\n",
       "      <td>(-36.5, -34.1]</td>\n",
       "      <td>(4.6, 5.0]</td>\n",
       "      <td>(5175.2, 5201.7]</td>\n",
       "    </tr>\n",
       "    <tr>\n",
       "      <th>1</th>\n",
       "      <td>0</td>\n",
       "      <td>0</td>\n",
       "      <td>0</td>\n",
       "      <td>0</td>\n",
       "      <td>0</td>\n",
       "      <td>0</td>\n",
       "      <td>0</td>\n",
       "      <td>1</td>\n",
       "      <td>0</td>\n",
       "      <td>0</td>\n",
       "      <td>...</td>\n",
       "      <td>(49.4, 57.5]</td>\n",
       "      <td>(3.6, 4.2]</td>\n",
       "      <td>(-4.9, 491.8]</td>\n",
       "      <td>(0.9, 6.5]</td>\n",
       "      <td>(-0.0, 0.7]</td>\n",
       "      <td>(0.9, 1.4]</td>\n",
       "      <td>(93.7, 94.0]</td>\n",
       "      <td>(-36.5, -34.1]</td>\n",
       "      <td>(4.6, 5.0]</td>\n",
       "      <td>(5175.2, 5201.7]</td>\n",
       "    </tr>\n",
       "    <tr>\n",
       "      <th>2</th>\n",
       "      <td>0</td>\n",
       "      <td>0</td>\n",
       "      <td>0</td>\n",
       "      <td>0</td>\n",
       "      <td>0</td>\n",
       "      <td>0</td>\n",
       "      <td>0</td>\n",
       "      <td>1</td>\n",
       "      <td>0</td>\n",
       "      <td>0</td>\n",
       "      <td>...</td>\n",
       "      <td>(33.2, 41.3]</td>\n",
       "      <td>(3.6, 4.2]</td>\n",
       "      <td>(-4.9, 491.8]</td>\n",
       "      <td>(0.9, 6.5]</td>\n",
       "      <td>(-0.0, 0.7]</td>\n",
       "      <td>(0.9, 1.4]</td>\n",
       "      <td>(93.7, 94.0]</td>\n",
       "      <td>(-36.5, -34.1]</td>\n",
       "      <td>(4.6, 5.0]</td>\n",
       "      <td>(5175.2, 5201.7]</td>\n",
       "    </tr>\n",
       "  </tbody>\n",
       "</table>\n",
       "<p>3 rows × 44 columns</p>\n",
       "</div>"
      ],
      "text/plain": [
       "   y  services  admin.  blue-collar  technician  retired  management  \\\n",
       "0  0         0       0            1           0        0           0   \n",
       "1  0         0       0            0           0        0           0   \n",
       "2  0         0       0            0           0        0           0   \n",
       "\n",
       "   unemployed  self-employed  entrepreneur  ...       age_bin  education_bin  \\\n",
       "0           0              0             0  ...  (49.4, 57.5]     (0.6, 1.2]   \n",
       "1           1              0             0  ...  (49.4, 57.5]     (3.6, 4.2]   \n",
       "2           1              0             0  ...  (33.2, 41.3]     (3.6, 4.2]   \n",
       "\n",
       "    duration_bin  campaign_bin  previous_bin  emp.var.rate_bin  \\\n",
       "0  (-4.9, 491.8]    (0.9, 6.5]   (-0.0, 0.7]        (0.9, 1.4]   \n",
       "1  (-4.9, 491.8]    (0.9, 6.5]   (-0.0, 0.7]        (0.9, 1.4]   \n",
       "2  (-4.9, 491.8]    (0.9, 6.5]   (-0.0, 0.7]        (0.9, 1.4]   \n",
       "\n",
       "   cons.price.idx_bin  cons.conf.idx_bin  euribor3m_bin   nr.employed_bin  \n",
       "0        (93.7, 94.0]     (-36.5, -34.1]     (4.6, 5.0]  (5175.2, 5201.7]  \n",
       "1        (93.7, 94.0]     (-36.5, -34.1]     (4.6, 5.0]  (5175.2, 5201.7]  \n",
       "2        (93.7, 94.0]     (-36.5, -34.1]     (4.6, 5.0]  (5175.2, 5201.7]  \n",
       "\n",
       "[3 rows x 44 columns]"
      ]
     },
     "metadata": {},
     "output_type": "display_data"
    }
   ],
   "source": [
    "#set a list of numeric variables\n",
    "numeric = list(df.select_dtypes(include=['int64', 'float64']).columns)\n",
    "numeric = [i for i in numeric if i != 'y']\n",
    "#create a copy of the dataframe\n",
    "df_cut = df.copy()\n",
    "#set a number of bins\n",
    "bins = 10\n",
    "#bin each column and plot it\n",
    "for i in numeric:\n",
    "    _, edges = pd.cut(df_cut[i], bins=bins, retbins=True)\n",
    "    labels = [f'({edges[b]:.1f}, {edges[b+1]:.1f}]' for b in range(bins)]\n",
    "    df_cut[i +'_bin'] = pd.cut(df_cut[i], bins=bins, labels=labels, ordered=False)\n",
    "df_cut.drop(numeric, axis = 1, inplace = True)\n",
    "display(df_cut.head(3))"
   ]
  },
  {
   "cell_type": "markdown",
   "metadata": {},
   "source": [
    "After that, we will repeat all the stages of train and test data transformation."
   ]
  },
  {
   "cell_type": "code",
   "execution_count": 392,
   "metadata": {},
   "outputs": [
    {
     "name": "stdout",
     "output_type": "stream",
     "text": [
      "0.8677685950413223\n",
      "0.5039370078740157\n"
     ]
    }
   ],
   "source": [
    "#encode all binned features\n",
    "le = LabelEncoder()\n",
    "binned = [i for i in df_cut.columns if 'bin' in i]\n",
    "df_cut['y'] = le.fit_transform(df_cut['y'])\n",
    "for i in binned:\n",
    "      df_cut[i] = le.fit_transform(df_cut[i])\n",
    "\n",
    "#train-test split\n",
    "y = df_cut.y\n",
    "X = df_cut.loc[:, df_cut.columns != 'y']\n",
    "X_train_b, X_test_b, y_train_b, y_test_b = train_test_split(X, y, test_size=0.2, random_state=10)\n",
    "\n",
    "#oversampling\n",
    "from imblearn.over_sampling import SMOTE\n",
    "# Resampling the minority class. The strategy can be changed as required.\n",
    "sm = SMOTE(sampling_strategy='minority', random_state=42)\n",
    "# Fit the model to generate the data.\n",
    "oversampled_X_b, oversampled_Y_b = sm.fit_resample(X_train_b, y_train_b)\n",
    "\n",
    "#remove the unwanted columns\n",
    "oversampled_X_b = oversampled_X_b.drop(['yes_housing', 'tue', 'wed', 'thu', 'fri', 'yes_loan', 'yes_default', 'no_default'], axis = 1)\n",
    "X_test_b = X_test_b.drop(['yes_housing', 'tue', 'wed', 'thu', 'fri', 'yes_loan', 'yes_default', 'no_default'], axis = 1)\n",
    "\n",
    "#scalling features\n",
    "from sklearn.preprocessing import MinMaxScaler\n",
    "scaler_train = MinMaxScaler().fit(oversampled_X_b)\n",
    "oversampled_X_scb = scaler_train.transform(oversampled_X_b)\n",
    "scaler_test = MinMaxScaler().fit(X_test_b)\n",
    "X_test_scb = scaler_test.transform(X_test_b)\n",
    "\n",
    "#fitting the model\n",
    "from sklearn.ensemble import RandomForestClassifier\n",
    "model = RandomForestClassifier(n_estimators=150)\n",
    "model.fit(oversampled_X_scb, oversampled_Y_b)\n",
    "model.predict(X_test_scb)\n",
    "y_pred = model.predict(X_test_scb)\n",
    "print(model.score(X_test_scb, y_test_b))\n",
    "print(f1_score(y_test_b, y_pred))"
   ]
  },
  {
   "cell_type": "markdown",
   "metadata": {},
   "source": [
    "The model above gives almost 87% accuracy. \n",
    "\n",
    "<h3>Random Forest with duration</h3>\n",
    "\n",
    "Finally, let's explore duration effect on our best model - Random Forest with 100 estimators."
   ]
  },
  {
   "cell_type": "code",
   "execution_count": 394,
   "metadata": {},
   "outputs": [
    {
     "name": "stdout",
     "output_type": "stream",
     "text": [
      "0.8707857798766889\n",
      "0.4982170147733062\n"
     ]
    }
   ],
   "source": [
    "X_train, X_test, y_train, y_test = train_test_split(X, y, test_size=0.2, random_state=10, stratify = y)\n",
    "#oversampling\n",
    "from imblearn.over_sampling import SMOTE\n",
    "# Resampling the minority class. The strategy can be changed as required.\n",
    "sm = SMOTE(sampling_strategy='minority', random_state=42)\n",
    "# Fit the model to generate the data.\n",
    "oversampled_X_d, oversampled_Y_d = sm.fit_resample(X_train, y_train)\n",
    "\n",
    "\n",
    "#remove the unwanted columns\n",
    "oversampled_X_d = oversampled_X_d.drop(['yes_housing', 'tue', 'wed', 'thu', 'fri', 'yes_loan', 'yes_default', 'no_default'], axis = 1)\n",
    "X_test_d = X_test.copy()\n",
    "X_test_d = X_test_d.drop(['yes_housing', 'tue', 'wed', 'thu', 'fri', 'yes_loan', 'yes_default', 'no_default'], axis = 1)\n",
    "\n",
    "#scalling features\n",
    "from sklearn.preprocessing import MinMaxScaler\n",
    "scaler_train = MinMaxScaler().fit(oversampled_X_d)\n",
    "oversampled_X_scd = scaler_train.transform(oversampled_X_d)\n",
    "scaler_test = MinMaxScaler().fit(X_test_d)\n",
    "X_test_scd = scaler_test.transform(X_test_d)\n",
    "\n",
    "#fitting the model\n",
    "from sklearn.ensemble import RandomForestClassifier\n",
    "model = RandomForestClassifier(n_estimators=100)\n",
    "model.fit(oversampled_X_scd, oversampled_Y)\n",
    "model.predict(X_test_scd)\n",
    "model.score(X_test_scd,y_test)\n",
    "y_pred = model.predict(X_test_scd)\n",
    "print(model.score(X_test_scd, y_test))\n",
    "print(f1_score(y_test, y_pred))"
   ]
  },
  {
   "cell_type": "markdown",
   "metadata": {},
   "source": [
    "Compared with model without duration, the model above performs better. The accuracy increases almost by 2,6% (vs 85,3%).\n",
    "\n",
    "<h3>Model estimation and feature importance</h3>\n",
    "\n",
    "Finally, we will explore the best (preliminarily) model performance with more details and look at features contribution to prediction of the output."
   ]
  },
  {
   "cell_type": "code",
   "execution_count": 407,
   "metadata": {},
   "outputs": [
    {
     "data": {
      "text/plain": [
       "0.8554374918011282"
      ]
     },
     "execution_count": 407,
     "metadata": {},
     "output_type": "execute_result"
    }
   ],
   "source": [
    "#build the model one more time\n",
    "from sklearn.ensemble import RandomForestClassifier\n",
    "model = RandomForestClassifier(n_estimators=100)\n",
    "model.fit(oversampled_X_sc, oversampled_Y)\n",
    "y_pred = model.predict(X_test_sc)\n",
    "model.score(X_test_sc, y_test)"
   ]
  },
  {
   "cell_type": "code",
   "execution_count": 408,
   "metadata": {},
   "outputs": [
    {
     "data": {
      "text/plain": [
       "array([[6231,  609],\n",
       "       [ 493,  290]])"
      ]
     },
     "execution_count": 408,
     "metadata": {},
     "output_type": "execute_result"
    },
    {
     "data": {
      "image/png": "[encoded data removed]",
      "text/plain": [
       "<Figure size 504x360 with 2 Axes>"
      ]
     },
     "metadata": {
      "needs_background": "light"
     },
     "output_type": "display_data"
    }
   ],
   "source": [
    "#Plot Confusion Matrix\n",
    "from sklearn.metrics import confusion_matrix\n",
    "cm = confusion_matrix(y_test, y_pred)\n",
    "%matplotlib inline\n",
    "import matplotlib.pyplot as plt\n",
    "import seaborn as sn\n",
    "plt.figure(figsize=(7,5))\n",
    "sn.heatmap(cm, annot=True)\n",
    "plt.xlabel('Predicted')\n",
    "plt.ylabel('Truth')\n",
    "cm"
   ]
  },
  {
   "cell_type": "code",
   "execution_count": 409,
   "metadata": {},
   "outputs": [
    {
     "name": "stdout",
     "output_type": "stream",
     "text": [
      "              precision    recall  f1-score   support\n",
      "\n",
      "           0       0.93      0.91      0.92      6840\n",
      "           1       0.32      0.37      0.34       783\n",
      "\n",
      "    accuracy                           0.86      7623\n",
      "   macro avg       0.62      0.64      0.63      7623\n",
      "weighted avg       0.86      0.86      0.86      7623\n",
      "\n"
     ]
    }
   ],
   "source": [
    "#Print classification report for precesion, recall and f1-score for each classes\n",
    "from sklearn.metrics import classification_report\n",
    "print(classification_report(y_test, y_pred))"
   ]
  },
  {
   "cell_type": "markdown",
   "metadata": {},
   "source": [
    "<h3>More detailed analysis</h3>\n",
    "\n",
    "We can see that although the final model accuracy is the highest one, quantity of correctly predicted positive values is quite small. From a business perspective in this situation it's more important to extract specific features of as many as possible customers, who gave positive answers, than correctly predict customers with negative answers.\n",
    "\n",
    "Concerning this fact, we should look at metric that helps to maximize number of customers, who subscribed the term deposit. That's why instead of general model accuracy we should consider f1 score.\n",
    "\n",
    "Accuracy measures the percentage of correct predictions that a machine learning model has made. The disadvantage is that it cannot distinguish between specific types of errors (false positives and false negatives), while f1 score can.\n",
    "\n",
    "Considering main set of models, Random Forest with 100 estimators still performs the best on the test set. Trained on oversampled train data, it shows about 36% f1-score on the test set. Although, it's very low result. Considering additional options, we noted that Logistic regression, trained on initial imbalanced training set, has lower accuracy but higher f1-score on the test set. Let's compare two results and make a final decision. "
   ]
  },
  {
   "cell_type": "code",
   "execution_count": 16,
   "metadata": {},
   "outputs": [
    {
     "data": {
      "text/plain": [
       "0.42985842985842987"
      ]
     },
     "execution_count": 16,
     "metadata": {},
     "output_type": "execute_result"
    }
   ],
   "source": [
    "#apply logistic regression\n",
    "model_lr = LogisticRegression(max_iter = 200, class_weight=weight, C=1e9, fit_intercept=False)\n",
    "model_lr.fit(X_train_lr_sc, y_train)\n",
    "y_pred_lr = model_lr.predict(X_test_lr_sc)\n",
    "model_lr.score(X_test_lr_sc,y_test)\n",
    "f1_score(y_test, y_pred_lr)"
   ]
  },
  {
   "cell_type": "code",
   "execution_count": 17,
   "metadata": {},
   "outputs": [
    {
     "data": {
      "text/plain": [
       "array([[5793, 1047],\n",
       "       [ 282,  501]])"
      ]
     },
     "execution_count": 17,
     "metadata": {},
     "output_type": "execute_result"
    },
    {
     "data": {
      "image/png": "[encoded data removed]",
      "text/plain": [
       "<Figure size 504x360 with 2 Axes>"
      ]
     },
     "metadata": {
      "needs_background": "light"
     },
     "output_type": "display_data"
    }
   ],
   "source": [
    "#Plot Confusion Matrix\n",
    "from sklearn.metrics import confusion_matrix\n",
    "cm_lr = confusion_matrix(y_test, y_pred_lr)\n",
    "%matplotlib inline\n",
    "import matplotlib.pyplot as plt\n",
    "import seaborn as sn\n",
    "plt.figure(figsize=(7,5))\n",
    "sn.heatmap(cm_lr, annot=True)\n",
    "plt.xlabel('Predicted')\n",
    "plt.ylabel('Truth')\n",
    "cm_lr"
   ]
  },
  {
   "cell_type": "markdown",
   "metadata": {},
   "source": [
    "We can see that in comparison with confusion matrix composed on Random Forest results, the number of correctly predicted examples of y = 'yes' class is much higher, while the number of correctly predicted examples of y = 'no':\n",
    "\n",
    "Random Forest:\n",
    "* true positive - 287\n",
    "* true negative - 6243\n",
    "Logistic regression with weights:\n",
    "* true positive - 499 \n",
    "* true negative - 5761\n",
    "\n",
    "Let's look at classification report."
   ]
  },
  {
   "cell_type": "code",
   "execution_count": 310,
   "metadata": {},
   "outputs": [
    {
     "name": "stdout",
     "output_type": "stream",
     "text": [
      "              precision    recall  f1-score   support\n",
      "\n",
      "           0       0.95      0.84      0.89      6840\n",
      "           1       0.32      0.64      0.42       783\n",
      "\n",
      "    accuracy                           0.82      7623\n",
      "   macro avg       0.63      0.74      0.66      7623\n",
      "weighted avg       0.89      0.82      0.85      7623\n",
      "\n"
     ]
    }
   ],
   "source": [
    "#Print classification report for precesion, recall and f1-score for each classes\n",
    "from sklearn.metrics import classification_report\n",
    "print(classification_report(y_test, y_pred_lr))"
   ]
  },
  {
   "cell_type": "markdown",
   "metadata": {},
   "source": [
    "For 0 values all metrics values remain quite high, recall  and f1-score are a little bit less, precision is a little higher.\n",
    "As for the minority class, precision remains the same, on the low level, while recall value became much higher. Since f1-score is a harmonic mean of precision and recall, its value became also higher.\n",
    "\n",
    "Additionally, let's explore percentage of correct predictions for clearer understanding."
   ]
  },
  {
   "cell_type": "code",
   "execution_count": 410,
   "metadata": {},
   "outputs": [
    {
     "name": "stdout",
     "output_type": "stream",
     "text": [
      "Percent of negative examples, correctly predicted using Random Forest: 91.0965%\n",
      "Percent of positive examples, correctly predicted using Random Forest: 37.037%\n"
     ]
    }
   ],
   "source": [
    "print(f'Percent of negative examples, correctly predicted using Random Forest: {round(cm[0][0]/y_test.value_counts()[0] * 100, 4)}%')\n",
    "print(f'Percent of positive examples, correctly predicted using Random Forest: {round(cm[1][1]/y_test.value_counts()[1] * 100, 4)}%')"
   ]
  },
  {
   "cell_type": "code",
   "execution_count": 312,
   "metadata": {},
   "outputs": [
    {
     "name": "stdout",
     "output_type": "stream",
     "text": [
      "Percent of negative examples, correctly predicted using Logistic Regression: 84.1374%\n",
      "Percent of positive examples, correctly predicted using Logistic Regression: 63.857%\n"
     ]
    }
   ],
   "source": [
    "print(f'Percent of negative examples, correctly predicted using Logistic Regression: {round(cm_lr[0][0]/y_test.value_counts()[0] * 100, 4)}%')\n",
    "print(f'Percent of positive examples, correctly predicted using Logistic Regression: {round(cm_lr[1][1]/y_test.value_counts()[1] * 100, 4)}%')"
   ]
  },
  {
   "cell_type": "code",
   "execution_count": 313,
   "metadata": {},
   "outputs": [
    {
     "data": {
      "image/png": "[encoded data removed]",
      "text/plain": [
       "<Figure size 432x288 with 1 Axes>"
      ]
     },
     "metadata": {
      "needs_background": "light"
     },
     "output_type": "display_data"
    }
   ],
   "source": [
    "from sklearn import metrics\n",
    "y_pred_proba = model_lr.predict_proba(X_test_sc)[::,1]\n",
    "fpr, tpr, _ = metrics.roc_curve(y_test,  y_pred_proba)\n",
    "auc = metrics.roc_auc_score(y_test, y_pred_proba)\n",
    "plt.plot(fpr,tpr,label=\"data 1, auc=\"+str(auc))\n",
    "plt.legend(loc=4)\n",
    "plt.show()"
   ]
  },
  {
   "cell_type": "markdown",
   "metadata": {},
   "source": [
    "AUC score for the case is 0.86. AUC score 1 represents perfect classifier, and 0.5 represents a worthless classifier."
   ]
  },
  {
   "cell_type": "markdown",
   "metadata": {},
   "source": [
    "We'd say that in the second case the balance is much better. That's why we'd rather choose Logistic regression with weights as our working model.\n",
    "\n",
    "Let's move to estimating coefficients of the model. Knowing the coefficients, we are able to estimate the degree of influence of the predictor on the target. "
   ]
  },
  {
   "cell_type": "code",
   "execution_count": 19,
   "metadata": {},
   "outputs": [
    {
     "data": {
      "text/html": [
       "<div>\n",
       "<style scoped>\n",
       "    .dataframe tbody tr th:only-of-type {\n",
       "        vertical-align: middle;\n",
       "    }\n",
       "\n",
       "    .dataframe tbody tr th {\n",
       "        vertical-align: top;\n",
       "    }\n",
       "\n",
       "    .dataframe thead th {\n",
       "        text-align: right;\n",
       "    }\n",
       "</style>\n",
       "<table border=\"1\" class=\"dataframe\">\n",
       "  <thead>\n",
       "    <tr style=\"text-align: right;\">\n",
       "      <th></th>\n",
       "      <th>feature</th>\n",
       "      <th>coefficient</th>\n",
       "      <th>expp</th>\n",
       "      <th>interpretation</th>\n",
       "    </tr>\n",
       "  </thead>\n",
       "  <tbody>\n",
       "    <tr>\n",
       "      <th>0</th>\n",
       "      <td>previous</td>\n",
       "      <td>3.876043</td>\n",
       "      <td>48.23</td>\n",
       "      <td>An increase of 1 unit in previous is associated with a 48.23 times increase in the probability that customer will subscribe the term deposit.</td>\n",
       "    </tr>\n",
       "    <tr>\n",
       "      <th>1</th>\n",
       "      <td>success</td>\n",
       "      <td>1.404897</td>\n",
       "      <td>4.08</td>\n",
       "      <td>The success is associated with a 4.08 times increase in the probability that customer will subscribe the term deposit.</td>\n",
       "    </tr>\n",
       "    <tr>\n",
       "      <th>2</th>\n",
       "      <td>failure</td>\n",
       "      <td>1.229237</td>\n",
       "      <td>3.42</td>\n",
       "      <td>The failure is associated with a 3.42 times increase in the probability that customer will subscribe the term deposit.</td>\n",
       "    </tr>\n",
       "    <tr>\n",
       "      <th>3</th>\n",
       "      <td>nov</td>\n",
       "      <td>1.035465</td>\n",
       "      <td>2.82</td>\n",
       "      <td>The nov is associated with a 2.82 times increase in the probability that customer will subscribe the term deposit.</td>\n",
       "    </tr>\n",
       "    <tr>\n",
       "      <th>4</th>\n",
       "      <td>cons.conf.idx</td>\n",
       "      <td>0.762565</td>\n",
       "      <td>2.14</td>\n",
       "      <td>An increase of 1 unit in cons.conf.idx is associated with a 2.14 times increase in the probability that customer will subscribe the term deposit.</td>\n",
       "    </tr>\n",
       "    <tr>\n",
       "      <th>5</th>\n",
       "      <td>apr</td>\n",
       "      <td>0.661205</td>\n",
       "      <td>1.94</td>\n",
       "      <td>The apr is associated with a 1.94 times increase in the probability that customer will subscribe the term deposit.</td>\n",
       "    </tr>\n",
       "    <tr>\n",
       "      <th>6</th>\n",
       "      <td>yes_pdays</td>\n",
       "      <td>0.503278</td>\n",
       "      <td>1.65</td>\n",
       "      <td>The yes_pdays is associated with a 1.65 times increase in the probability that customer will subscribe the term deposit.</td>\n",
       "    </tr>\n",
       "    <tr>\n",
       "      <th>7</th>\n",
       "      <td>education</td>\n",
       "      <td>0.470593</td>\n",
       "      <td>1.6</td>\n",
       "      <td>The education is associated with a 1.6 times increase in the probability that customer will subscribe the term deposit.</td>\n",
       "    </tr>\n",
       "    <tr>\n",
       "      <th>8</th>\n",
       "      <td>age</td>\n",
       "      <td>0.453885</td>\n",
       "      <td>1.57</td>\n",
       "      <td>An increase of 1 unit in age is associated with a 1.57 times increase in the probability that customer will subscribe the term deposit.</td>\n",
       "    </tr>\n",
       "    <tr>\n",
       "      <th>9</th>\n",
       "      <td>self-employed</td>\n",
       "      <td>0.393856</td>\n",
       "      <td>1.48</td>\n",
       "      <td>The self-employed is associated with a 1.48 times increase in the probability that customer will subscribe the term deposit.</td>\n",
       "    </tr>\n",
       "    <tr>\n",
       "      <th>10</th>\n",
       "      <td>oct</td>\n",
       "      <td>0.372660</td>\n",
       "      <td>1.45</td>\n",
       "      <td>The oct is associated with a 1.45 times increase in the probability that customer will subscribe the term deposit.</td>\n",
       "    </tr>\n",
       "    <tr>\n",
       "      <th>11</th>\n",
       "      <td>retired</td>\n",
       "      <td>0.333655</td>\n",
       "      <td>1.4</td>\n",
       "      <td>The retired is associated with a 1.4 times increase in the probability that customer will subscribe the term deposit.</td>\n",
       "    </tr>\n",
       "    <tr>\n",
       "      <th>12</th>\n",
       "      <td>divorced</td>\n",
       "      <td>0.254337</td>\n",
       "      <td>1.29</td>\n",
       "      <td>The divorced is associated with a 1.29 times increase in the probability that customer will subscribe the term deposit.</td>\n",
       "    </tr>\n",
       "    <tr>\n",
       "      <th>13</th>\n",
       "      <td>aug</td>\n",
       "      <td>0.192251</td>\n",
       "      <td>1.21</td>\n",
       "      <td>The aug is associated with a 1.21 times increase in the probability that customer will subscribe the term deposit.</td>\n",
       "    </tr>\n",
       "    <tr>\n",
       "      <th>14</th>\n",
       "      <td>admin.</td>\n",
       "      <td>0.104417</td>\n",
       "      <td>1.11</td>\n",
       "      <td>The admin. is associated with a 1.11 times increase in the probability that customer will subscribe the term deposit.</td>\n",
       "    </tr>\n",
       "    <tr>\n",
       "      <th>15</th>\n",
       "      <td>jul</td>\n",
       "      <td>0.089608</td>\n",
       "      <td>1.09</td>\n",
       "      <td>The jul is associated with a 1.09 times increase in the probability that customer will subscribe the term deposit.</td>\n",
       "    </tr>\n",
       "    <tr>\n",
       "      <th>16</th>\n",
       "      <td>single</td>\n",
       "      <td>0.075926</td>\n",
       "      <td>1.08</td>\n",
       "      <td>The single is associated with a 1.08 times increase in the probability that customer will subscribe the term deposit.</td>\n",
       "    </tr>\n",
       "    <tr>\n",
       "      <th>17</th>\n",
       "      <td>services</td>\n",
       "      <td>0.035017</td>\n",
       "      <td>1.04</td>\n",
       "      <td>The services is associated with a 1.04 times increase in the probability that customer will subscribe the term deposit.</td>\n",
       "    </tr>\n",
       "    <tr>\n",
       "      <th>18</th>\n",
       "      <td>entrepreneur</td>\n",
       "      <td>0.023520</td>\n",
       "      <td>1.02</td>\n",
       "      <td>The entrepreneur is associated with a 1.02 times increase in the probability that customer will subscribe the term deposit.</td>\n",
       "    </tr>\n",
       "    <tr>\n",
       "      <th>19</th>\n",
       "      <td>student</td>\n",
       "      <td>0.012670</td>\n",
       "      <td>1.01</td>\n",
       "      <td>The student is associated with a 1.01 times increase in the probability that customer will subscribe the term deposit.</td>\n",
       "    </tr>\n",
       "    <tr>\n",
       "      <th>20</th>\n",
       "      <td>technician</td>\n",
       "      <td>0.010768</td>\n",
       "      <td>1.01</td>\n",
       "      <td>The technician is associated with a 1.01 times increase in the probability that customer will subscribe the term deposit.</td>\n",
       "    </tr>\n",
       "    <tr>\n",
       "      <th>21</th>\n",
       "      <td>unemployed</td>\n",
       "      <td>-0.033343</td>\n",
       "      <td>3.28</td>\n",
       "      <td>The unemployed is associated with a 3.28% reduction in the probability that customer will subscribe the term deposit.</td>\n",
       "    </tr>\n",
       "    <tr>\n",
       "      <th>22</th>\n",
       "      <td>management</td>\n",
       "      <td>-0.055818</td>\n",
       "      <td>5.43</td>\n",
       "      <td>The management is associated with a 5.43% reduction in the probability that customer will subscribe the term deposit.</td>\n",
       "    </tr>\n",
       "    <tr>\n",
       "      <th>23</th>\n",
       "      <td>blue-collar</td>\n",
       "      <td>-0.096976</td>\n",
       "      <td>9.24</td>\n",
       "      <td>The blue-collar is associated with a 9.24% reduction in the probability that customer will subscribe the term deposit.</td>\n",
       "    </tr>\n",
       "    <tr>\n",
       "      <th>24</th>\n",
       "      <td>cons.price.idx</td>\n",
       "      <td>-0.239612</td>\n",
       "      <td>21.31</td>\n",
       "      <td>An increase of 1 unit in cons.price.idx is associated with a 21.31% reduction in the probability that customer will subscribe the term deposit.</td>\n",
       "    </tr>\n",
       "    <tr>\n",
       "      <th>25</th>\n",
       "      <td>jun</td>\n",
       "      <td>-0.280800</td>\n",
       "      <td>24.48</td>\n",
       "      <td>The jun is associated with a 24.48% reduction in the probability that customer will subscribe the term deposit.</td>\n",
       "    </tr>\n",
       "    <tr>\n",
       "      <th>26</th>\n",
       "      <td>sep</td>\n",
       "      <td>-0.364030</td>\n",
       "      <td>30.51</td>\n",
       "      <td>The sep is associated with a 30.51% reduction in the probability that customer will subscribe the term deposit.</td>\n",
       "    </tr>\n",
       "    <tr>\n",
       "      <th>27</th>\n",
       "      <td>mar</td>\n",
       "      <td>-0.370543</td>\n",
       "      <td>30.96</td>\n",
       "      <td>The mar is associated with a 30.96% reduction in the probability that customer will subscribe the term deposit.</td>\n",
       "    </tr>\n",
       "    <tr>\n",
       "      <th>28</th>\n",
       "      <td>cellular</td>\n",
       "      <td>-0.529811</td>\n",
       "      <td>41.13</td>\n",
       "      <td>The cellular is associated with a 41.13% reduction in the probability that customer will subscribe the term deposit.</td>\n",
       "    </tr>\n",
       "    <tr>\n",
       "      <th>29</th>\n",
       "      <td>dec</td>\n",
       "      <td>-0.603849</td>\n",
       "      <td>45.33</td>\n",
       "      <td>The dec is associated with a 45.33% reduction in the probability that customer will subscribe the term deposit.</td>\n",
       "    </tr>\n",
       "    <tr>\n",
       "      <th>30</th>\n",
       "      <td>campaign</td>\n",
       "      <td>-1.950799</td>\n",
       "      <td>85.78</td>\n",
       "      <td>An increase of 1 unit in campaign is associated with a 85.78% reduction in the probability that customer will subscribe the term deposit.</td>\n",
       "    </tr>\n",
       "    <tr>\n",
       "      <th>31</th>\n",
       "      <td>nr.employed</td>\n",
       "      <td>-2.499850</td>\n",
       "      <td>91.79</td>\n",
       "      <td>An increase of 1 unit in nr.employed is associated with a 91.79% reduction in the probability that customer will subscribe the term deposit.</td>\n",
       "    </tr>\n",
       "  </tbody>\n",
       "</table>\n",
       "</div>"
      ],
      "text/plain": [
       "           feature  coefficient   expp  \\\n",
       "0         previous     3.876043  48.23   \n",
       "1          success     1.404897   4.08   \n",
       "2          failure     1.229237   3.42   \n",
       "3              nov     1.035465   2.82   \n",
       "4    cons.conf.idx     0.762565   2.14   \n",
       "5              apr     0.661205   1.94   \n",
       "6        yes_pdays     0.503278   1.65   \n",
       "7        education     0.470593    1.6   \n",
       "8              age     0.453885   1.57   \n",
       "9    self-employed     0.393856   1.48   \n",
       "10             oct     0.372660   1.45   \n",
       "11         retired     0.333655    1.4   \n",
       "12        divorced     0.254337   1.29   \n",
       "13             aug     0.192251   1.21   \n",
       "14          admin.     0.104417   1.11   \n",
       "15             jul     0.089608   1.09   \n",
       "16          single     0.075926   1.08   \n",
       "17        services     0.035017   1.04   \n",
       "18    entrepreneur     0.023520   1.02   \n",
       "19         student     0.012670   1.01   \n",
       "20      technician     0.010768   1.01   \n",
       "21      unemployed    -0.033343   3.28   \n",
       "22      management    -0.055818   5.43   \n",
       "23     blue-collar    -0.096976   9.24   \n",
       "24  cons.price.idx    -0.239612  21.31   \n",
       "25             jun    -0.280800  24.48   \n",
       "26             sep    -0.364030  30.51   \n",
       "27             mar    -0.370543  30.96   \n",
       "28        cellular    -0.529811  41.13   \n",
       "29             dec    -0.603849  45.33   \n",
       "30        campaign    -1.950799  85.78   \n",
       "31     nr.employed    -2.499850  91.79   \n",
       "\n",
       "                                                                                                                                       interpretation  \n",
       "0       An increase of 1 unit in previous is associated with a 48.23 times increase in the probability that customer will subscribe the term deposit.  \n",
       "1                              The success is associated with a 4.08 times increase in the probability that customer will subscribe the term deposit.  \n",
       "2                              The failure is associated with a 3.42 times increase in the probability that customer will subscribe the term deposit.  \n",
       "3                                  The nov is associated with a 2.82 times increase in the probability that customer will subscribe the term deposit.  \n",
       "4   An increase of 1 unit in cons.conf.idx is associated with a 2.14 times increase in the probability that customer will subscribe the term deposit.  \n",
       "5                                  The apr is associated with a 1.94 times increase in the probability that customer will subscribe the term deposit.  \n",
       "6                            The yes_pdays is associated with a 1.65 times increase in the probability that customer will subscribe the term deposit.  \n",
       "7                             The education is associated with a 1.6 times increase in the probability that customer will subscribe the term deposit.  \n",
       "8             An increase of 1 unit in age is associated with a 1.57 times increase in the probability that customer will subscribe the term deposit.  \n",
       "9                        The self-employed is associated with a 1.48 times increase in the probability that customer will subscribe the term deposit.  \n",
       "10                                 The oct is associated with a 1.45 times increase in the probability that customer will subscribe the term deposit.  \n",
       "11                              The retired is associated with a 1.4 times increase in the probability that customer will subscribe the term deposit.  \n",
       "12                            The divorced is associated with a 1.29 times increase in the probability that customer will subscribe the term deposit.  \n",
       "13                                 The aug is associated with a 1.21 times increase in the probability that customer will subscribe the term deposit.  \n",
       "14                              The admin. is associated with a 1.11 times increase in the probability that customer will subscribe the term deposit.  \n",
       "15                                 The jul is associated with a 1.09 times increase in the probability that customer will subscribe the term deposit.  \n",
       "16                              The single is associated with a 1.08 times increase in the probability that customer will subscribe the term deposit.  \n",
       "17                            The services is associated with a 1.04 times increase in the probability that customer will subscribe the term deposit.  \n",
       "18                        The entrepreneur is associated with a 1.02 times increase in the probability that customer will subscribe the term deposit.  \n",
       "19                             The student is associated with a 1.01 times increase in the probability that customer will subscribe the term deposit.  \n",
       "20                          The technician is associated with a 1.01 times increase in the probability that customer will subscribe the term deposit.  \n",
       "21                              The unemployed is associated with a 3.28% reduction in the probability that customer will subscribe the term deposit.  \n",
       "22                              The management is associated with a 5.43% reduction in the probability that customer will subscribe the term deposit.  \n",
       "23                             The blue-collar is associated with a 9.24% reduction in the probability that customer will subscribe the term deposit.  \n",
       "24    An increase of 1 unit in cons.price.idx is associated with a 21.31% reduction in the probability that customer will subscribe the term deposit.  \n",
       "25                                    The jun is associated with a 24.48% reduction in the probability that customer will subscribe the term deposit.  \n",
       "26                                    The sep is associated with a 30.51% reduction in the probability that customer will subscribe the term deposit.  \n",
       "27                                    The mar is associated with a 30.96% reduction in the probability that customer will subscribe the term deposit.  \n",
       "28                               The cellular is associated with a 41.13% reduction in the probability that customer will subscribe the term deposit.  \n",
       "29                                    The dec is associated with a 45.33% reduction in the probability that customer will subscribe the term deposit.  \n",
       "30          An increase of 1 unit in campaign is associated with a 85.78% reduction in the probability that customer will subscribe the term deposit.  \n",
       "31       An increase of 1 unit in nr.employed is associated with a 91.79% reduction in the probability that customer will subscribe the term deposit.  "
      ]
     },
     "execution_count": 19,
     "metadata": {},
     "output_type": "execute_result"
    },
    {
     "data": {
      "image/png": "[encoded data removed]",
      "text/plain": [
       "<Figure size 1008x288 with 1 Axes>"
      ]
     },
     "metadata": {
      "needs_background": "light"
     },
     "output_type": "display_data"
    }
   ],
   "source": [
    "pd.options.display.max_colwidth = 1000\n",
    "#creating a dataframe to store the coefficients\n",
    "coeffs = pd.DataFrame(X_train_lr_sc.columns)\n",
    "coeffs.columns = ['feature']\n",
    "coeffs['coefficient'] = model_lr.coef_[0]\n",
    "\n",
    "#calculating exp from coefficients\n",
    "coeffs['expp'] = np.where(coeffs['coefficient'] > 0, np.exp(coeffs['coefficient']), (1 - np.exp(coeffs['coefficient']))* 100) \n",
    "coeffs['expp'] = round(coeffs['expp'], 2).astype(str)\n",
    "#creating a column with interpretation\n",
    "cat_cols = ['education', 'campaign', 'services', 'admin.', 'blue-collar', 'technician', 'retired',\n",
    "       'management', 'unemployed', 'self-employed', 'entrepreneur', 'student',\n",
    "       'single', 'divorced', 'cellular', 'jun', 'jul', 'aug', 'oct', 'nov', 'dec', 'mar',\n",
    "       'apr', 'sep', 'failure', 'success', 'yes_pdays']\n",
    "cont_cols = ['age', 'campaign', 'previous', 'cons.price.idx', 'cons.conf.idx', 'nr.employed']\n",
    "\n",
    "coeffs1 = coeffs[coeffs.coefficient > 0].copy()\n",
    "coeffs2 = coeffs[coeffs.coefficient < 0].copy()\n",
    "\n",
    "coeffs1['interpretation'] = np.where(((coeffs1['feature'].isin(cont_cols)) ), 'An increase of 1 unit in ' +  coeffs1.feature + ' is associated with a ' + coeffs1['expp'] + ' times increase in the probability that customer will subscribe the term deposit.', 'The ' + coeffs1.feature + ' is associated with a ' + coeffs1['expp'] + ' times increase in the probability that customer will subscribe the term deposit.')\n",
    "coeffs2['interpretation'] = np.where(((coeffs2['feature'].isin(cont_cols)) ), 'An increase of 1 unit in ' +  coeffs2.feature + ' is associated with a ' + coeffs2['expp'] + '% reduction in the probability that customer will subscribe the term deposit.', 'The ' + coeffs2.feature + ' is associated with a ' + coeffs2['expp'] + '% reduction in the probability that customer will subscribe the term deposit.')\n",
    "coeffs = coeffs1.append(coeffs2)\n",
    "coeffs = coeffs.sort_values(by = 'coefficient', ascending = False).reset_index(drop = True)\n",
    "coeffs.plot(x = 'feature', y ='coefficient', kind=\"bar\", figsize = (14,4), fontsize = 16)\n",
    "coeffs"
   ]
  },
  {
   "cell_type": "markdown",
   "metadata": {},
   "source": [
    "Since scikit learn doesn't have attribute 'summary' for models and doesn't calculate p-values automatically, we will use logit regression from statmodels library as approximation, to look at the features significance. Since statmodels model doesn't have class weights argument, the model is not the same. Nevertheless, p-values can give us a better understanding of the significance of variables. We will classify them into significant and non-significant based on a significance level of 0.1. \n",
    "\n",
    "More detailed interpretation of the features is provided in the presentation."
   ]
  },
  {
   "cell_type": "code",
   "execution_count": 20,
   "metadata": {},
   "outputs": [
    {
     "name": "stdout",
     "output_type": "stream",
     "text": [
      "Optimization terminated successfully.\n",
      "         Current function value: 0.268458\n",
      "         Iterations 7\n",
      "                           Logit Regression Results                           \n",
      "==============================================================================\n",
      "Dep. Variable:                      y   No. Observations:                30488\n",
      "Model:                          Logit   Df Residuals:                    30456\n",
      "Method:                           MLE   Df Model:                           31\n",
      "Date:                Sat, 30 Jul 2022   Pseudo R-squ.:                  0.1887\n",
      "Time:                        09:12:50   Log-Likelihood:                -8184.8\n",
      "converged:                       True   LL-Null:                       -10088.\n",
      "Covariance Type:            nonrobust   LLR p-value:                     0.000\n",
      "==================================================================================\n",
      "                     coef    std err          z      P>|z|      [0.025      0.975]\n",
      "----------------------------------------------------------------------------------\n",
      "age               -0.1438      0.185     -0.776      0.438      -0.507       0.220\n",
      "education          0.0019      0.088      0.022      0.983      -0.170       0.174\n",
      "campaign          -2.4234      0.595     -4.073      0.000      -3.589      -1.257\n",
      "previous          -0.8516      0.476     -1.791      0.073      -1.784       0.081\n",
      "cons.price.idx    -0.2294      0.126     -1.828      0.068      -0.475       0.017\n",
      "cons.conf.idx      0.4239      0.135      3.137      0.002       0.159       0.689\n",
      "nr.employed       -2.8775      0.099    -28.941      0.000      -3.072      -2.683\n",
      "services          -0.3164      0.072     -4.410      0.000      -0.457      -0.176\n",
      "admin.            -0.0662      0.120     -0.551      0.581      -0.301       0.169\n",
      "blue-collar       -0.1971      0.150     -1.316      0.188      -0.491       0.097\n",
      "technician        -0.0921      0.088     -1.044      0.296      -0.265       0.081\n",
      "retired            0.1982      0.112      1.765      0.078      -0.022       0.418\n",
      "management        -0.1878      0.120     -1.562      0.118      -0.423       0.048\n",
      "unemployed        -0.2781      0.085     -3.274      0.001      -0.445      -0.112\n",
      "self-employed      0.1233      0.118      1.049      0.294      -0.107       0.354\n",
      "entrepreneur      -0.0834      0.064     -1.298      0.194      -0.209       0.043\n",
      "student           -0.1533      0.136     -1.129      0.259      -0.419       0.113\n",
      "single            -0.1014      0.065     -1.561      0.119      -0.229       0.026\n",
      "divorced          -0.0086      0.072     -0.120      0.905      -0.150       0.133\n",
      "cellular          -0.4261      0.072     -5.892      0.000      -0.568      -0.284\n",
      "jun               -0.1664      0.110     -1.517      0.129      -0.381       0.049\n",
      "jul               -0.0355      0.221     -0.160      0.873      -0.470       0.399\n",
      "aug                0.1911      0.097      1.964      0.049       0.000       0.382\n",
      "oct                0.2964      0.093      3.196      0.001       0.115       0.478\n",
      "nov                0.6897      0.133      5.205      0.000       0.430       0.949\n",
      "dec               -0.7461      0.074    -10.124      0.000      -0.891      -0.602\n",
      "mar               -0.3797      0.100     -3.779      0.000      -0.577      -0.183\n",
      "apr               -0.0968      0.141     -0.686      0.493      -0.373       0.180\n",
      "sep               -0.4493      0.153     -2.939      0.003      -0.749      -0.150\n",
      "failure            0.3525      0.096      3.660      0.000       0.164       0.541\n",
      "success            0.8215      0.258      3.183      0.001       0.316       1.327\n",
      "yes_pdays          1.0245      0.262      3.918      0.000       0.512       1.537\n",
      "==================================================================================\n"
     ]
    }
   ],
   "source": [
    "import statsmodels.api as sm\n",
    "logit_model=sm.Logit(y_train, X_train_lr_sc)\n",
    "result=logit_model.fit()\n",
    "print(result.summary())"
   ]
  },
  {
   "cell_type": "markdown",
   "metadata": {},
   "source": [
    "<h3>References:</h3>\n",
    "\n",
    "1. 5 Techniques to Handle Imbalanced Data For a Classification Problem, URL: https://www.analyticsvidhya.com/blog/2021/06/5-techniques-to-handle-imbalanced-data-for-a-classification-problem/\n",
    "2. Naive-Bayes for mixed typed data in scikit-learn, URL: https://medium.com/analytics-vidhya/naive-bayes-for-mixed-typed-data-in-scikit-learn-fb6843e241f0\n",
    "3. Titanic Naive bayes, URL: https://www.kaggle.com/code/guruprasad91/titanic-naive-bayes/notebook\n",
    "4. Random Forest Feature Importance Computed in 3 Ways with Python, URL: https://mljar.com/blog/feature-importance-in-random-forest/\n",
    "5. Beware Default Random Forest Importances, URL: https://explained.ai/rf-importance/index.html\n",
    "6. Bagging and Random Forest for Imbalanced Classification, URL: https://machinelearningmastery.com/bagging-and-random-forest-for-imbalanced-classification/\n",
    "7. Understanding Logistic Regression in Python Tutorial, URL: https://www.datacamp.com/tutorial/understanding-logistic-regression-python\n",
    "8. Interpret Logistic Regression Coefficients [For Beginners], URL: https://quantifyinghealth.com/interpret-logistic-regression-coefficients/\n",
    "9. Feature Importance in Logistic Regression for Machine Learning Interpretability, URL: https://sefiks.com/2021/01/06/feature-importance-in-logistic-regression/"
   ]
  }
 ],
 "metadata": {
  "kernelspec": {
   "display_name": "Python 3.8.10 64-bit",
   "language": "python",
   "name": "python3"
  },
  "language_info": {
   "codemirror_mode": {
    "name": "ipython",
    "version": 3
   },
   "file_extension": ".py",
   "mimetype": "text/x-python",
   "name": "python",
   "nbconvert_exporter": "python",
   "pygments_lexer": "ipython3",
   "version": "3.8.10"
  },
  "orig_nbformat": 4,
  "vscode": {
   "interpreter": {
    "hash": "916dbcbb3f70747c44a77c7bcd40155683ae19c65e1c03b4aa3499c5328201f1"
   }
  }
 },
 "nbformat": 4,
 "nbformat_minor": 2
}
