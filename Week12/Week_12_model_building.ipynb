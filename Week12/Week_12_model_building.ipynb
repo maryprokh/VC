{
 "cells": [
  {
   "cell_type": "markdown",
   "metadata": {},
   "source": [
    "<h2>Week 12 - models building</h2>\n",
    "\n",
    "* Group name: Bloodhounds\n",
    "* Batch code: LISUM09\n",
    "* Specialization: Data science\n",
    "* Group member details:\n",
    "* Margarita Prokhorovich, marusya15071240@gmail.com, Thailand"
   ]
  },
  {
   "cell_type": "markdown",
   "metadata": {},
   "source": [
    "In this document, we perform data cleansing and transformation techniques first, to prepare the data for model building, aftr that explore different models and compare their predictive power. Also we're going to explore different options, e.g. different hyperparameters, use models with/without removing outliers, use models with different sets of features, etc.\n",
    "\n",
    "First things first, we need to read a file and create a dataframe, as usual."
   ]
  },
  {
   "cell_type": "code",
   "execution_count": 1,
   "metadata": {},
   "outputs": [
    {
     "name": "stdout",
     "output_type": "stream",
     "text": [
      "(41188, 21)\n"
     ]
    },
    {
     "data": {
      "text/html": [
       "<div>\n",
       "<style scoped>\n",
       "    .dataframe tbody tr th:only-of-type {\n",
       "        vertical-align: middle;\n",
       "    }\n",
       "\n",
       "    .dataframe tbody tr th {\n",
       "        vertical-align: top;\n",
       "    }\n",
       "\n",
       "    .dataframe thead th {\n",
       "        text-align: right;\n",
       "    }\n",
       "</style>\n",
       "<table border=\"1\" class=\"dataframe\">\n",
       "  <thead>\n",
       "    <tr style=\"text-align: right;\">\n",
       "      <th></th>\n",
       "      <th>age</th>\n",
       "      <th>job</th>\n",
       "      <th>marital</th>\n",
       "      <th>education</th>\n",
       "      <th>default</th>\n",
       "      <th>housing</th>\n",
       "      <th>loan</th>\n",
       "      <th>contact</th>\n",
       "      <th>month</th>\n",
       "      <th>day_of_week</th>\n",
       "      <th>...</th>\n",
       "      <th>campaign</th>\n",
       "      <th>pdays</th>\n",
       "      <th>previous</th>\n",
       "      <th>poutcome</th>\n",
       "      <th>emp.var.rate</th>\n",
       "      <th>cons.price.idx</th>\n",
       "      <th>cons.conf.idx</th>\n",
       "      <th>euribor3m</th>\n",
       "      <th>nr.employed</th>\n",
       "      <th>y</th>\n",
       "    </tr>\n",
       "  </thead>\n",
       "  <tbody>\n",
       "    <tr>\n",
       "      <th>0</th>\n",
       "      <td>56</td>\n",
       "      <td>housemaid</td>\n",
       "      <td>married</td>\n",
       "      <td>basic.4y</td>\n",
       "      <td>no</td>\n",
       "      <td>no</td>\n",
       "      <td>no</td>\n",
       "      <td>telephone</td>\n",
       "      <td>may</td>\n",
       "      <td>mon</td>\n",
       "      <td>...</td>\n",
       "      <td>1</td>\n",
       "      <td>999</td>\n",
       "      <td>0</td>\n",
       "      <td>nonexistent</td>\n",
       "      <td>1.1</td>\n",
       "      <td>93.994</td>\n",
       "      <td>-36.4</td>\n",
       "      <td>4.857</td>\n",
       "      <td>5191.0</td>\n",
       "      <td>no</td>\n",
       "    </tr>\n",
       "    <tr>\n",
       "      <th>1</th>\n",
       "      <td>57</td>\n",
       "      <td>services</td>\n",
       "      <td>married</td>\n",
       "      <td>high.school</td>\n",
       "      <td>unknown</td>\n",
       "      <td>no</td>\n",
       "      <td>no</td>\n",
       "      <td>telephone</td>\n",
       "      <td>may</td>\n",
       "      <td>mon</td>\n",
       "      <td>...</td>\n",
       "      <td>1</td>\n",
       "      <td>999</td>\n",
       "      <td>0</td>\n",
       "      <td>nonexistent</td>\n",
       "      <td>1.1</td>\n",
       "      <td>93.994</td>\n",
       "      <td>-36.4</td>\n",
       "      <td>4.857</td>\n",
       "      <td>5191.0</td>\n",
       "      <td>no</td>\n",
       "    </tr>\n",
       "    <tr>\n",
       "      <th>2</th>\n",
       "      <td>37</td>\n",
       "      <td>services</td>\n",
       "      <td>married</td>\n",
       "      <td>high.school</td>\n",
       "      <td>no</td>\n",
       "      <td>yes</td>\n",
       "      <td>no</td>\n",
       "      <td>telephone</td>\n",
       "      <td>may</td>\n",
       "      <td>mon</td>\n",
       "      <td>...</td>\n",
       "      <td>1</td>\n",
       "      <td>999</td>\n",
       "      <td>0</td>\n",
       "      <td>nonexistent</td>\n",
       "      <td>1.1</td>\n",
       "      <td>93.994</td>\n",
       "      <td>-36.4</td>\n",
       "      <td>4.857</td>\n",
       "      <td>5191.0</td>\n",
       "      <td>no</td>\n",
       "    </tr>\n",
       "    <tr>\n",
       "      <th>3</th>\n",
       "      <td>40</td>\n",
       "      <td>admin.</td>\n",
       "      <td>married</td>\n",
       "      <td>basic.6y</td>\n",
       "      <td>no</td>\n",
       "      <td>no</td>\n",
       "      <td>no</td>\n",
       "      <td>telephone</td>\n",
       "      <td>may</td>\n",
       "      <td>mon</td>\n",
       "      <td>...</td>\n",
       "      <td>1</td>\n",
       "      <td>999</td>\n",
       "      <td>0</td>\n",
       "      <td>nonexistent</td>\n",
       "      <td>1.1</td>\n",
       "      <td>93.994</td>\n",
       "      <td>-36.4</td>\n",
       "      <td>4.857</td>\n",
       "      <td>5191.0</td>\n",
       "      <td>no</td>\n",
       "    </tr>\n",
       "    <tr>\n",
       "      <th>4</th>\n",
       "      <td>56</td>\n",
       "      <td>services</td>\n",
       "      <td>married</td>\n",
       "      <td>high.school</td>\n",
       "      <td>no</td>\n",
       "      <td>no</td>\n",
       "      <td>yes</td>\n",
       "      <td>telephone</td>\n",
       "      <td>may</td>\n",
       "      <td>mon</td>\n",
       "      <td>...</td>\n",
       "      <td>1</td>\n",
       "      <td>999</td>\n",
       "      <td>0</td>\n",
       "      <td>nonexistent</td>\n",
       "      <td>1.1</td>\n",
       "      <td>93.994</td>\n",
       "      <td>-36.4</td>\n",
       "      <td>4.857</td>\n",
       "      <td>5191.0</td>\n",
       "      <td>no</td>\n",
       "    </tr>\n",
       "  </tbody>\n",
       "</table>\n",
       "<p>5 rows × 21 columns</p>\n",
       "</div>"
      ],
      "text/plain": [
       "   age        job  marital    education  default housing loan    contact  \\\n",
       "0   56  housemaid  married     basic.4y       no      no   no  telephone   \n",
       "1   57   services  married  high.school  unknown      no   no  telephone   \n",
       "2   37   services  married  high.school       no     yes   no  telephone   \n",
       "3   40     admin.  married     basic.6y       no      no   no  telephone   \n",
       "4   56   services  married  high.school       no      no  yes  telephone   \n",
       "\n",
       "  month day_of_week  ...  campaign  pdays  previous     poutcome emp.var.rate  \\\n",
       "0   may         mon  ...         1    999         0  nonexistent          1.1   \n",
       "1   may         mon  ...         1    999         0  nonexistent          1.1   \n",
       "2   may         mon  ...         1    999         0  nonexistent          1.1   \n",
       "3   may         mon  ...         1    999         0  nonexistent          1.1   \n",
       "4   may         mon  ...         1    999         0  nonexistent          1.1   \n",
       "\n",
       "   cons.price.idx  cons.conf.idx  euribor3m  nr.employed   y  \n",
       "0          93.994          -36.4      4.857       5191.0  no  \n",
       "1          93.994          -36.4      4.857       5191.0  no  \n",
       "2          93.994          -36.4      4.857       5191.0  no  \n",
       "3          93.994          -36.4      4.857       5191.0  no  \n",
       "4          93.994          -36.4      4.857       5191.0  no  \n",
       "\n",
       "[5 rows x 21 columns]"
      ]
     },
     "execution_count": 1,
     "metadata": {},
     "output_type": "execute_result"
    }
   ],
   "source": [
    "#reading the dataframe\n",
    "import pandas as pd\n",
    "df = pd.read_csv('bank-additional-full.csv', delimiter = ';')\n",
    "print(df.shape)\n",
    "\n",
    "df.head()"
   ]
  },
  {
   "cell_type": "markdown",
   "metadata": {},
   "source": [
    "Let's look at the dataframe info one more time. "
   ]
  },
  {
   "cell_type": "code",
   "execution_count": 238,
   "metadata": {},
   "outputs": [
    {
     "name": "stdout",
     "output_type": "stream",
     "text": [
      "<class 'pandas.core.frame.DataFrame'>\n",
      "RangeIndex: 41188 entries, 0 to 41187\n",
      "Data columns (total 21 columns):\n",
      " #   Column          Non-Null Count  Dtype  \n",
      "---  ------          --------------  -----  \n",
      " 0   age             41188 non-null  int64  \n",
      " 1   job             41188 non-null  object \n",
      " 2   marital         41188 non-null  object \n",
      " 3   education       41188 non-null  object \n",
      " 4   default         41188 non-null  object \n",
      " 5   housing         41188 non-null  object \n",
      " 6   loan            41188 non-null  object \n",
      " 7   contact         41188 non-null  object \n",
      " 8   month           41188 non-null  object \n",
      " 9   day_of_week     41188 non-null  object \n",
      " 10  duration        41188 non-null  int64  \n",
      " 11  campaign        41188 non-null  int64  \n",
      " 12  pdays           41188 non-null  int64  \n",
      " 13  previous        41188 non-null  int64  \n",
      " 14  poutcome        41188 non-null  object \n",
      " 15  emp.var.rate    41188 non-null  float64\n",
      " 16  cons.price.idx  41188 non-null  float64\n",
      " 17  cons.conf.idx   41188 non-null  float64\n",
      " 18  euribor3m       41188 non-null  float64\n",
      " 19  nr.employed     41188 non-null  float64\n",
      " 20  y               41188 non-null  object \n",
      "dtypes: float64(5), int64(5), object(11)\n",
      "memory usage: 6.6+ MB\n"
     ]
    }
   ],
   "source": [
    "#display the info about the dataframe\n",
    "df.info()"
   ]
  },
  {
   "cell_type": "markdown",
   "metadata": {},
   "source": [
    "As we remember, all the data types in the dataframe are correct. However, there are some other issues in the data that we need to eliminate. We will use data cleansing and transformation approaches from the previous project part: will drop the duplicates, transform pdays category, fill unknown values using KNN approach (the fourth one). As for outliers, we prefer to keep them on this stage because removing the outliers can prevent us from identifying patterns in the data more clearly. \n",
    "\n",
    "We decided to create pdays_categ feature with labels 'yes' and 'no' because it's easier to process this feature with other categorical features."
   ]
  },
  {
   "cell_type": "code",
   "execution_count": 2,
   "metadata": {},
   "outputs": [
    {
     "name": "stdout",
     "output_type": "stream",
     "text": [
      "Number of duplicates - 12.\n"
     ]
    },
    {
     "data": {
      "text/plain": [
       "(41176, 21)"
      ]
     },
     "execution_count": 2,
     "metadata": {},
     "output_type": "execute_result"
    }
   ],
   "source": [
    "#find duplicates and display their quantity\n",
    "n_duplicates = df.duplicated().sum()\n",
    "print(f\"Number of duplicates - {n_duplicates}.\")\n",
    "\n",
    "#delete all the full duplicates. We can see decreasing in a rows number\n",
    "df = df.drop_duplicates()\n",
    "df.shape"
   ]
  },
  {
   "cell_type": "code",
   "execution_count": 3,
   "metadata": {},
   "outputs": [
    {
     "name": "stdout",
     "output_type": "stream",
     "text": [
      "\n",
      "Number of examples where a client was not previously contacted - 39661, percentage - 96.32%.\n"
     ]
    }
   ],
   "source": [
    "print(f'\\nNumber of examples where a client was not previously contacted - {len(df[df.pdays == 999])}, percentage - {round(len(df[df.pdays == 999])/len(df) * 100,2)}%.')\n",
    "df['pdays_categ'] = ['no' if pday == 999 else 'yes' for pday in df.pdays]\n",
    "df = df.drop(['pdays'], axis = 1)"
   ]
  },
  {
   "cell_type": "code",
   "execution_count": 4,
   "metadata": {},
   "outputs": [
    {
     "name": "stdout",
     "output_type": "stream",
     "text": [
      "Model accuracy for job is 46.99 %.\n",
      "Model accuracy for marital is 62.45 %.\n",
      "Model accuracy for education is 47.89 %.\n",
      "Model accuracy for housing is 50.77 %.\n",
      "Model accuracy for loan is 84.39 %.\n",
      "Model accuracy for default is 100.0 %.\n",
      "Number of \"unknown\" occurrences:\n",
      "- feature -  default , number -  8596 , percentage - 20.8762 %\n"
     ]
    }
   ],
   "source": [
    "#create an empty df where new filled columns will be stored\n",
    "df_final_knn = pd.DataFrame()\n",
    "\n",
    "#define a function that predicts unknown values\n",
    "def fill_unknown_knn(column_name):   \n",
    "   try: \n",
    "      #import necessary modules\n",
    "      from sklearn.model_selection import train_test_split\n",
    "      from sklearn.utils.class_weight import compute_class_weight\n",
    "      from sklearn import preprocessing\n",
    "      from sklearn.preprocessing import LabelEncoder\n",
    "      from sklearn.neighbors import KNeighborsClassifier\n",
    "      from IPython.display import display\n",
    "      import numpy as np\n",
    "\n",
    "      #copy df\n",
    "      df_copy = df.copy()\n",
    "\n",
    "      #exclude binary features from categories\n",
    "      global categories \n",
    "      categories = list(df.select_dtypes(exclude=['int64', 'float64']).columns)\n",
    "      categories = [i for i in categories if i not in [column_name, 'y', 'contact']]\n",
    "\n",
    "      #transform another categorical features to dummy variables\n",
    "      deleted_columns = []\n",
    "      for i in categories:\n",
    "         dummies_x = pd.get_dummies(df[i])\n",
    "         deleted_columns.append(dummies_x.columns[0])\n",
    "         df_copy = pd.concat([df_copy,dummies_x],axis='columns')\n",
    "\n",
    "      #use label encoder\n",
    "      le = LabelEncoder()\n",
    "      #transform binary features - contact and y\n",
    "      df_copy.contact = le.fit_transform(df_copy.contact)\n",
    "      df_copy.y = le.fit_transform(df_copy.y)\n",
    "\n",
    "      #delete columns - text categorical features and one from each encoded variables\n",
    "      df_copy.drop(categories, axis = 1, inplace = True)\n",
    "      df_copy.drop(deleted_columns, axis = 1, inplace = True)\n",
    "\n",
    "      #split the dataframe to train set - without unknown variables and test - with unknown variables\n",
    "      df_copy_train = df_copy[df_copy.loc[:, (column_name)] != 'unknown'].copy(deep = True)\n",
    "      df_copy_test = df_copy[df_copy.loc[:, (column_name)] == 'unknown']\n",
    "      #encode output variables\n",
    "      df_copy_train['new_col'] = le.fit_transform(df_copy_train.loc[:, (column_name)])\n",
    "      #assign a new column to y and drop  the column after that\n",
    "      y = df_copy_train['new_col']\n",
    "      df_copy_train.drop('new_col', axis = 1, inplace = True)\n",
    "\n",
    "      #remove job column from train and test sets\n",
    "      df_copy_train = df_copy_train.drop([column_name], axis='columns')\n",
    "      df_copy_test = df_copy_test.drop([column_name], axis='columns')\n",
    "\n",
    "      #Creating a model \n",
    "      #normalize data and split train set into train and validation sets\n",
    "      scaler = preprocessing.StandardScaler().fit(df_copy_train)\n",
    "      X_scaled = scaler.transform(df_copy_train)\n",
    "      X_train, X_val, y_train, y_val = train_test_split(X_scaled,y,train_size=0.3)\n",
    "\n",
    "      #training the model\n",
    "      knn = KNeighborsClassifier(n_neighbors=10)\n",
    "      knn.fit(X_train, y_train)\n",
    "      knn.predict(X_val)\n",
    "      print(f'Model accuracy for {column_name} is {round(knn.score(X_val, y_val) * 100, 2)} %.')\n",
    "\n",
    "      #save the model\n",
    "      # filename = 'model.pkl'\n",
    "      # pickle.dump(model, open(filename, 'wb'))\n",
    "\n",
    "      #load the model\n",
    "      #pickled_model = pickle.load(open(filename, 'rb'))\n",
    "\n",
    "      #normalize X test data\n",
    "      scaler_test = preprocessing.StandardScaler().fit(df_copy_test)\n",
    "      X_test_scaled = scaler_test.transform(df_copy_test)\n",
    "\n",
    "      #predict unknown values\n",
    "      prediction = knn.predict(X_test_scaled)\n",
    "\n",
    "      #convert numbers to labels and create pd series\n",
    "      df_copy_test[column_name] = le.inverse_transform(prediction)\n",
    "      df_copy_test = df_copy_test[column_name].reset_index()\n",
    "      df_copy_test = df_copy_test.set_index('index')\n",
    "\n",
    "      #create a new dataframe and fill unknown values from created dataframe\n",
    "      df_1 = df[df.loc[:, (column_name)] != 'unknown'].copy(deep = True)\n",
    "      df_2 = df[df.loc[:, (column_name)] == 'unknown'].copy(deep = True)\n",
    "\n",
    "      #assign pd series to a dataframe column and merge the dataframes\n",
    "      df_2[column_name] = df_copy_test\n",
    "      series_final = df_1.append(df_2)[column_name]\n",
    "      global df_final_knn\n",
    "      df_final_knn = pd.concat([df_final_knn,series_final],axis='columns')\n",
    "      return df_final_knn\n",
    "   except Exception as err:\n",
    "      print('Since \"default\" feature has a little \"yes\" values, sometimes they are all concentrated in a cross-validation set. Please rerun the script one more time.') \n",
    "      return err\n",
    "\n",
    "#apply the function to columns with unknown values\n",
    "for i in ['job', 'marital', 'education', 'housing', 'loan', 'default']:\n",
    "     df_fill = fill_unknown_knn(i)\n",
    "\n",
    "new_cols = [df_fill[i] for i in df_fill.columns if i != 'default']\n",
    "#assign new filled columns to the old ones in the dataframe\n",
    "for i,y in zip(new_cols, df_fill.columns):\n",
    "  df[y] = i\n",
    "\n",
    "#check that there's no any unknown values in these columns anymore\n",
    "print('Number of \"unknown\" occurrences:')\n",
    "for i in df.columns:\n",
    "    if 'unknown' in set(df[i]):\n",
    "        print(\"- feature - \", i, \", number - \", len(df[df[i] == 'unknown']), \", percentage -\", round(len(df[df[i] == 'unknown'])/df.shape[0]*100,4), \"%\")"
   ]
  },
  {
   "cell_type": "markdown",
   "metadata": {},
   "source": [
    "It's worth noting that when using KNN algorithm, we treated all the categorical variables as nominal ones. However, as for education feature, in fact it's ordinal one, i.e., has certain gradation from lower to higher education level. We encoded this feature as a nominal one because it had an 'unknown' class, so, we couldn't classify it as lower or higher level, also, the model performed better with education encoded as a nominal feature. In next steps we will stick to treating this variable as an ordinal.\n",
    "\n",
    "Moreover, we could consider one more technique for handling skewed distributions. In the previous week project part we tried to use log function. We can also try to use binning. Using binning can help us to make distributions smoother. We can consider using binned features in models building."
   ]
  },
  {
   "cell_type": "code",
   "execution_count": 272,
   "metadata": {},
   "outputs": [
    {
     "data": {
      "text/html": [
       "<div>\n",
       "<style scoped>\n",
       "    .dataframe tbody tr th:only-of-type {\n",
       "        vertical-align: middle;\n",
       "    }\n",
       "\n",
       "    .dataframe tbody tr th {\n",
       "        vertical-align: top;\n",
       "    }\n",
       "\n",
       "    .dataframe thead th {\n",
       "        text-align: right;\n",
       "    }\n",
       "</style>\n",
       "<table border=\"1\" class=\"dataframe\">\n",
       "  <thead>\n",
       "    <tr style=\"text-align: right;\">\n",
       "      <th></th>\n",
       "      <th>age</th>\n",
       "      <th>job</th>\n",
       "      <th>marital</th>\n",
       "      <th>education</th>\n",
       "      <th>default</th>\n",
       "      <th>housing</th>\n",
       "      <th>loan</th>\n",
       "      <th>contact</th>\n",
       "      <th>month</th>\n",
       "      <th>day_of_week</th>\n",
       "      <th>...</th>\n",
       "      <th>pdays_categ</th>\n",
       "      <th>age_bin</th>\n",
       "      <th>duration_bin</th>\n",
       "      <th>campaign_bin</th>\n",
       "      <th>previous_bin</th>\n",
       "      <th>emp.var.rate_bin</th>\n",
       "      <th>cons.price.idx_bin</th>\n",
       "      <th>cons.conf.idx_bin</th>\n",
       "      <th>euribor3m_bin</th>\n",
       "      <th>nr.employed_bin</th>\n",
       "    </tr>\n",
       "  </thead>\n",
       "  <tbody>\n",
       "    <tr>\n",
       "      <th>0</th>\n",
       "      <td>56</td>\n",
       "      <td>housemaid</td>\n",
       "      <td>married</td>\n",
       "      <td>basic.4y</td>\n",
       "      <td>no</td>\n",
       "      <td>no</td>\n",
       "      <td>no</td>\n",
       "      <td>telephone</td>\n",
       "      <td>may</td>\n",
       "      <td>mon</td>\n",
       "      <td>...</td>\n",
       "      <td>no</td>\n",
       "      <td>(49.4, 57.5]</td>\n",
       "      <td>(-4.9, 491.8]</td>\n",
       "      <td>(0.9, 6.5]</td>\n",
       "      <td>(-0.0, 0.7]</td>\n",
       "      <td>(0.9, 1.4]</td>\n",
       "      <td>(93.7, 94.0]</td>\n",
       "      <td>(-36.5, -34.1]</td>\n",
       "      <td>(4.6, 5.0]</td>\n",
       "      <td>(5175.2, 5201.7]</td>\n",
       "    </tr>\n",
       "    <tr>\n",
       "      <th>1</th>\n",
       "      <td>57</td>\n",
       "      <td>services</td>\n",
       "      <td>married</td>\n",
       "      <td>high.school</td>\n",
       "      <td>unknown</td>\n",
       "      <td>no</td>\n",
       "      <td>no</td>\n",
       "      <td>telephone</td>\n",
       "      <td>may</td>\n",
       "      <td>mon</td>\n",
       "      <td>...</td>\n",
       "      <td>no</td>\n",
       "      <td>(49.4, 57.5]</td>\n",
       "      <td>(-4.9, 491.8]</td>\n",
       "      <td>(0.9, 6.5]</td>\n",
       "      <td>(-0.0, 0.7]</td>\n",
       "      <td>(0.9, 1.4]</td>\n",
       "      <td>(93.7, 94.0]</td>\n",
       "      <td>(-36.5, -34.1]</td>\n",
       "      <td>(4.6, 5.0]</td>\n",
       "      <td>(5175.2, 5201.7]</td>\n",
       "    </tr>\n",
       "    <tr>\n",
       "      <th>2</th>\n",
       "      <td>37</td>\n",
       "      <td>services</td>\n",
       "      <td>married</td>\n",
       "      <td>high.school</td>\n",
       "      <td>no</td>\n",
       "      <td>yes</td>\n",
       "      <td>no</td>\n",
       "      <td>telephone</td>\n",
       "      <td>may</td>\n",
       "      <td>mon</td>\n",
       "      <td>...</td>\n",
       "      <td>no</td>\n",
       "      <td>(33.2, 41.3]</td>\n",
       "      <td>(-4.9, 491.8]</td>\n",
       "      <td>(0.9, 6.5]</td>\n",
       "      <td>(-0.0, 0.7]</td>\n",
       "      <td>(0.9, 1.4]</td>\n",
       "      <td>(93.7, 94.0]</td>\n",
       "      <td>(-36.5, -34.1]</td>\n",
       "      <td>(4.6, 5.0]</td>\n",
       "      <td>(5175.2, 5201.7]</td>\n",
       "    </tr>\n",
       "    <tr>\n",
       "      <th>3</th>\n",
       "      <td>40</td>\n",
       "      <td>admin.</td>\n",
       "      <td>married</td>\n",
       "      <td>basic.6y</td>\n",
       "      <td>no</td>\n",
       "      <td>no</td>\n",
       "      <td>no</td>\n",
       "      <td>telephone</td>\n",
       "      <td>may</td>\n",
       "      <td>mon</td>\n",
       "      <td>...</td>\n",
       "      <td>no</td>\n",
       "      <td>(33.2, 41.3]</td>\n",
       "      <td>(-4.9, 491.8]</td>\n",
       "      <td>(0.9, 6.5]</td>\n",
       "      <td>(-0.0, 0.7]</td>\n",
       "      <td>(0.9, 1.4]</td>\n",
       "      <td>(93.7, 94.0]</td>\n",
       "      <td>(-36.5, -34.1]</td>\n",
       "      <td>(4.6, 5.0]</td>\n",
       "      <td>(5175.2, 5201.7]</td>\n",
       "    </tr>\n",
       "    <tr>\n",
       "      <th>4</th>\n",
       "      <td>56</td>\n",
       "      <td>services</td>\n",
       "      <td>married</td>\n",
       "      <td>high.school</td>\n",
       "      <td>no</td>\n",
       "      <td>no</td>\n",
       "      <td>yes</td>\n",
       "      <td>telephone</td>\n",
       "      <td>may</td>\n",
       "      <td>mon</td>\n",
       "      <td>...</td>\n",
       "      <td>no</td>\n",
       "      <td>(49.4, 57.5]</td>\n",
       "      <td>(-4.9, 491.8]</td>\n",
       "      <td>(0.9, 6.5]</td>\n",
       "      <td>(-0.0, 0.7]</td>\n",
       "      <td>(0.9, 1.4]</td>\n",
       "      <td>(93.7, 94.0]</td>\n",
       "      <td>(-36.5, -34.1]</td>\n",
       "      <td>(4.6, 5.0]</td>\n",
       "      <td>(5175.2, 5201.7]</td>\n",
       "    </tr>\n",
       "  </tbody>\n",
       "</table>\n",
       "<p>5 rows × 30 columns</p>\n",
       "</div>"
      ],
      "text/plain": [
       "   age        job  marital    education  default housing loan    contact  \\\n",
       "0   56  housemaid  married     basic.4y       no      no   no  telephone   \n",
       "1   57   services  married  high.school  unknown      no   no  telephone   \n",
       "2   37   services  married  high.school       no     yes   no  telephone   \n",
       "3   40     admin.  married     basic.6y       no      no   no  telephone   \n",
       "4   56   services  married  high.school       no      no  yes  telephone   \n",
       "\n",
       "  month day_of_week  ...  pdays_categ       age_bin   duration_bin  \\\n",
       "0   may         mon  ...           no  (49.4, 57.5]  (-4.9, 491.8]   \n",
       "1   may         mon  ...           no  (49.4, 57.5]  (-4.9, 491.8]   \n",
       "2   may         mon  ...           no  (33.2, 41.3]  (-4.9, 491.8]   \n",
       "3   may         mon  ...           no  (33.2, 41.3]  (-4.9, 491.8]   \n",
       "4   may         mon  ...           no  (49.4, 57.5]  (-4.9, 491.8]   \n",
       "\n",
       "  campaign_bin  previous_bin  emp.var.rate_bin  cons.price.idx_bin  \\\n",
       "0   (0.9, 6.5]   (-0.0, 0.7]        (0.9, 1.4]        (93.7, 94.0]   \n",
       "1   (0.9, 6.5]   (-0.0, 0.7]        (0.9, 1.4]        (93.7, 94.0]   \n",
       "2   (0.9, 6.5]   (-0.0, 0.7]        (0.9, 1.4]        (93.7, 94.0]   \n",
       "3   (0.9, 6.5]   (-0.0, 0.7]        (0.9, 1.4]        (93.7, 94.0]   \n",
       "4   (0.9, 6.5]   (-0.0, 0.7]        (0.9, 1.4]        (93.7, 94.0]   \n",
       "\n",
       "   cons.conf.idx_bin  euribor3m_bin   nr.employed_bin  \n",
       "0     (-36.5, -34.1]     (4.6, 5.0]  (5175.2, 5201.7]  \n",
       "1     (-36.5, -34.1]     (4.6, 5.0]  (5175.2, 5201.7]  \n",
       "2     (-36.5, -34.1]     (4.6, 5.0]  (5175.2, 5201.7]  \n",
       "3     (-36.5, -34.1]     (4.6, 5.0]  (5175.2, 5201.7]  \n",
       "4     (-36.5, -34.1]     (4.6, 5.0]  (5175.2, 5201.7]  \n",
       "\n",
       "[5 rows x 30 columns]"
      ]
     },
     "metadata": {},
     "output_type": "display_data"
    },
    {
     "data": {
      "image/png": "[encoded data removed]",
      "text/plain": [
       "<Figure size 1152x576 with 9 Axes>"
      ]
     },
     "metadata": {
      "needs_background": "light"
     },
     "output_type": "display_data"
    }
   ],
   "source": [
    "import matplotlib.pyplot as plt\n",
    "#set a list of numeric variables\n",
    "numeric = list(df.select_dtypes(include=['int64', 'float64']).columns)\n",
    "#create a copy of the dataframe\n",
    "df_cut = df.copy()\n",
    "#set a number of bins\n",
    "bins = 10\n",
    "#bin each column and plot it\n",
    "for i in numeric:\n",
    "    _, edges = pd.cut(df_cut[i], bins=bins, retbins=True)\n",
    "    labels = [f'({edges[b]:.1f}, {edges[b+1]:.1f}]' for b in range(bins)]\n",
    "    df_cut[i +'_bin'] = pd.cut(df_cut[i], bins=bins, labels=labels, ordered=False)\n",
    "display(df_cut.head(5))\n",
    "\n",
    "binned = [i for i in df_cut.columns if 'bin' in i]\n",
    "fig, axs = plt.subplots(nrows=3, ncols=3, figsize = (16,8))\n",
    "for i, ax, title in zip(binned,axs.reshape(-1), binned):\n",
    "    df_cut[i].value_counts().plot(kind = 'bar', ax = ax)\n",
    "    ax.title.set_text(title)\n",
    "fig.tight_layout()\n",
    "plt.show()"
   ]
  },
  {
   "cell_type": "markdown",
   "metadata": {},
   "source": [
    "We can see that in comparison to initial condition, the distributions became smoother.\n",
    "\n",
    "Finally, considering outliers, we decided to use z-score as initial option to avoid possible overfitting, i.e., reduce the variance in the data. Also, we plan to normalize the data using scallers, which are quite sensitive to the presence of outliers."
   ]
  },
  {
   "cell_type": "code",
   "execution_count": 5,
   "metadata": {},
   "outputs": [
    {
     "name": "stdout",
     "output_type": "stream",
     "text": [
      "Need to remove 369 outliers from age feature.\n",
      "Need to remove 861 outliers from duration feature.\n",
      "Need to remove 869 outliers from campaign feature.\n",
      "Need to remove 1064 outliers from previous feature.\n",
      "Need to remove 0 outliers from emp.var.rate feature.\n",
      "Need to remove 0 outliers from cons.price.idx feature.\n",
      "Need to remove 0 outliers from cons.conf.idx feature.\n",
      "Need to remove 0 outliers from euribor3m feature.\n",
      "Need to remove 0 outliers from nr.employed feature.\n",
      "Number of examples to be deleted - 3065.\n",
      "Number of examples after outliers removal - (38111, 21)\n"
     ]
    }
   ],
   "source": [
    "#removing outliers\n",
    "from scipy import stats\n",
    "import numpy as np\n",
    "columns = ['age', 'duration', 'campaign', 'previous', 'emp.var.rate', 'cons.price.idx', 'cons.conf.idx', 'euribor3m', 'nr.employed']\n",
    "\n",
    "list_of_indexes = []\n",
    "for i in columns:\n",
    "    z = np.abs(stats.zscore(df[i]))\n",
    "    to_del = (np.where(z > 3))\n",
    "    print(f'Need to remove {len(to_del[0])} outliers from {i} feature.')\n",
    "    list_of_indexes.extend(to_del[0].tolist())\n",
    "print(f'Number of examples to be deleted - {len(set(list_of_indexes))}.')\n",
    "delete = set(list_of_indexes)\n",
    "df.drop(delete, axis=0, inplace=True)\n",
    "print(f'Number of examples after outliers removal - {df.shape}')"
   ]
  },
  {
   "cell_type": "markdown",
   "metadata": {},
   "source": [
    "To this moment, we prepared the data for further analysis in a following way:\n",
    "- removed duplicates;\n",
    "- removed outliers with z-score;\n",
    "- converted pdays feature to a categorical feature;\n",
    "- filled 'unknown' values using K nearest neighbours algorithm;\n",
    "- considered possible transformation of numeric features - binning."
   ]
  },
  {
   "cell_type": "markdown",
   "metadata": {},
   "source": [
    "Next step is to handle a dataset imbalance problem. As we already saw, the dataset is imbalanced, since share of positive answers is much less."
   ]
  },
  {
   "cell_type": "code",
   "execution_count": 45,
   "metadata": {},
   "outputs": [
    {
     "data": {
      "image/png": "[encoded data removed]",
      "text/plain": [
       "<Figure size 432x288 with 1 Axes>"
      ]
     },
     "metadata": {},
     "output_type": "display_data"
    }
   ],
   "source": [
    "#create a pie plot\n",
    "df.y.value_counts(normalize = True).plot(kind='pie', y = 'y', autopct='%1.1f%%', title = 'Distribution of the target values');"
   ]
  },
  {
   "cell_type": "markdown",
   "metadata": {},
   "source": [
    "We don't plan to consider techniques such as undersampling a majority class, since it causes a significant decrease in number of examples and a loss of valuable information. \n",
    "We will separate test set for final validation (20% of the dataset) and will work with the rest of the data as training data (80%).\n",
    "\n",
    "Also we will encode all the features and scale them.\n",
    "Encoding is necessary because models cannot handle non-numeric data. For categorical fatures we will use get_dummies method, i.e. apply One-Hot-Encoding. Also we need to remove one column from each generated dummies set to avoid a Dummy Variable Trap. Only for education feature we will use Label encoding, since this feature can be considered as ordinal one.\n",
    "\n",
    "We need to scale features because some of the models we will consider are sensitive to features scale. We will use MinMax scaller."
   ]
  },
  {
   "cell_type": "code",
   "execution_count": 6,
   "metadata": {},
   "outputs": [],
   "source": [
    "from sklearn.model_selection import train_test_split\n",
    "from sklearn.preprocessing import LabelEncoder\n",
    "categories = df.select_dtypes(include = 'object')\n",
    "categories = [i for i in categories if i not in ['y', 'education']]\n",
    "\n",
    "deleted_columns = []\n",
    "list_of_education = ['illiterate', 'basic.4y', 'basic.6y', 'basic.9y', 'high.school', 'professional.course', 'university.degree']\n",
    "\n",
    "#encode education as an ordinal feature\n",
    "df['education'] = df.education.replace(to_replace = list_of_education, value = list(range(len(list_of_education))))\n",
    "\n",
    "#one-hot-encoding\n",
    "for i in categories:\n",
    "        dummies_x = pd.get_dummies(df[i])\n",
    "        deleted_columns.append(dummies_x.columns[0])\n",
    "        df = pd.concat([df,dummies_x],axis='columns')\n",
    "df.drop(categories, axis = 1, inplace = True)\n",
    "df.drop(deleted_columns, axis = 1, inplace = True)\n",
    "#creating new columns with dummy features\n",
    "df.columns = ['age', 'education', 'duration', 'campaign', 'previous', 'emp.var.rate',\n",
    "       'cons.price.idx', 'cons.conf.idx', 'euribor3m', 'nr.employed', 'y',\n",
    "       'job1', 'job2', 'job3', 'job4', 'job5',\n",
    "       'job6', 'job7', 'job8', 'job9', 'job10',\n",
    "       'marry1', 'marry2', 'default1',\n",
    "       'default2', 'housing', 'loan', 'contact', 'month1', 'month2', 'month3', 'month4', 'month5',\n",
    "       'month6', 'month7', 'month8', 'month9', 'day_week1', 'day_week2', 'day_week3', 'day_week4', 'poutcome1',\n",
    "       'poutcome2', 'pdays_categ']\n",
    "\n",
    "#encoding a target feature\n",
    "le = LabelEncoder()\n",
    "df['y'] = le.fit_transform(df['y'])\n",
    "#define input and output\n",
    "y = df.y\n",
    "X = df.loc[:, df.columns != 'y']\n",
    "#perform train-test split. We will work with 80% of initial dataset\n",
    "X_train, X_test, y_train, y_test = train_test_split(X, y, test_size=0.2, random_state=10, stratify = y)"
   ]
  },
  {
   "cell_type": "markdown",
   "metadata": {},
   "source": [
    "After the splitting we should check that ratio between target classes are kept. We can see that shares of positive and negative answers are equal in train and test sets."
   ]
  },
  {
   "cell_type": "code",
   "execution_count": 190,
   "metadata": {},
   "outputs": [
    {
     "name": "stdout",
     "output_type": "stream",
     "text": [
      "Y train distribution\n",
      "0    0.887341\n",
      "1    0.112659\n",
      "Name: y, dtype: float64\n",
      "\n",
      "Y test distribution\n",
      "0    0.887324\n",
      "1    0.112676\n",
      "Name: y, dtype: float64\n"
     ]
    }
   ],
   "source": [
    "print('Y train distribution')\n",
    "print(y_train.value_counts(normalize = True))\n",
    "print('\\nY test distribution')\n",
    "print(y_test.value_counts(normalize = True))"
   ]
  },
  {
   "cell_type": "markdown",
   "metadata": {},
   "source": [
    "Next step is to oversample a minority class. For this purpose we use SMOTE method.\n",
    "Synthetic Minority Oversampling Technique or SMOTE is another technique to oversample the minority class. Simply adding duplicate records of minority class often don’t add any new information to the model. In SMOTE new instances are synthesized from the existing data. If we explain it in simple words, SMOTE looks into minority class instances and use k nearest neighbor to select a random nearest neighbor, and a synthetic instance is created randomly in feature space."
   ]
  },
  {
   "cell_type": "code",
   "execution_count": 7,
   "metadata": {},
   "outputs": [
    {
     "data": {
      "text/plain": [
       "0    0.5\n",
       "1    0.5\n",
       "Name: y, dtype: float64"
      ]
     },
     "execution_count": 7,
     "metadata": {},
     "output_type": "execute_result"
    }
   ],
   "source": [
    "from imblearn.over_sampling import SMOTE\n",
    "# Resampling the minority class. The strategy can be changed as required.\n",
    "sm = SMOTE(sampling_strategy='minority', random_state=42)\n",
    "# Fit the model to generate the data.\n",
    "oversampled_X, oversampled_Y = sm.fit_resample(X_train, y_train)\n",
    "#oversampled = pd.concat([pd.DataFrame(oversampled_Y), pd.DataFrame(oversampled_X)], axis=1)\n",
    "oversampled_Y.value_counts(normalize = True)"
   ]
  },
  {
   "cell_type": "markdown",
   "metadata": {},
   "source": [
    "Let's check the classes ratio again. We can see that now the shares are equal. We should note that this technique is used only for training data."
   ]
  },
  {
   "cell_type": "code",
   "execution_count": 49,
   "metadata": {},
   "outputs": [
    {
     "data": {
      "image/png": "[encoded data removed]",
      "text/plain": [
       "<Figure size 432x288 with 1 Axes>"
      ]
     },
     "metadata": {},
     "output_type": "display_data"
    }
   ],
   "source": [
    "#create a pie plot\n",
    "oversampled_Y.value_counts(normalize = True).plot(kind='pie', y = 'y', autopct='%1.1f%%', title = 'Distribution of the target values after oversampling');"
   ]
  },
  {
   "cell_type": "markdown",
   "metadata": {},
   "source": [
    "Generally, we will try to use the approach mentioned to handle the imbalance in our data. Also we will consider assigning class weights, e.g. in Logistic regression.\n",
    "\n",
    "Before normalization, we should decide which features we should remove because after scalling the data is converted to numpy array. We consider the following options:\n",
    "- remove numeric features euribor3m and emp.var.rate, since the analysis showed that these features have the highest multicollinearuty with another features and it can affect bias in the models;\n",
    "- consider model with and without categorical features: housing, month, loan, day of week, default;\n",
    "- consider model with and without duration feature. Duration feature is not recommended as this will be difficult to explain the result to business and also it will be difficult for business to campaign based on duration.\n",
    "\n",
    "We will consider features tuning by building only one model to reduce processing time. We assume that if set of remaining features will perform well on one basic model, this set of features will be appropriate for another models. The main model to consider is Logistic regression because this type of model is the most popular for solving binary classification problems.\n",
    "\n",
    "After that we will explore the rest of the supervised learning models to compare the performance. Finally, we will build a neural network as a benchmark and explore, how deep learning handles with the dataset.\n",
    "\n",
    "We will normalize the oversampled data using MinMax scaller. As for one-hot-encoded features, requirements are different for different models. Nevertheless, MinMax scaller keeps binary features unchanged, i.e. in range [0,1] while StandartScaller transforms them and with this transformation models perform worse."
   ]
  },
  {
   "cell_type": "code",
   "execution_count": 50,
   "metadata": {},
   "outputs": [
    {
     "data": {
      "text/html": [
       "<div>\n",
       "<style scoped>\n",
       "    .dataframe tbody tr th:only-of-type {\n",
       "        vertical-align: middle;\n",
       "    }\n",
       "\n",
       "    .dataframe tbody tr th {\n",
       "        vertical-align: top;\n",
       "    }\n",
       "\n",
       "    .dataframe thead th {\n",
       "        text-align: right;\n",
       "    }\n",
       "</style>\n",
       "<table border=\"1\" class=\"dataframe\">\n",
       "  <thead>\n",
       "    <tr style=\"text-align: right;\">\n",
       "      <th></th>\n",
       "      <th>model_without</th>\n",
       "      <th>score</th>\n",
       "    </tr>\n",
       "  </thead>\n",
       "  <tbody>\n",
       "    <tr>\n",
       "      <th>0</th>\n",
       "      <td>duration, housing, month, day_week, loan, default</td>\n",
       "      <td>0.827</td>\n",
       "    </tr>\n",
       "    <tr>\n",
       "      <th>6</th>\n",
       "      <td>month, duration</td>\n",
       "      <td>0.846</td>\n",
       "    </tr>\n",
       "    <tr>\n",
       "      <th>1</th>\n",
       "      <td>duration, housing, day_week, loan, default</td>\n",
       "      <td>0.852</td>\n",
       "    </tr>\n",
       "    <tr>\n",
       "      <th>2</th>\n",
       "      <td>duration, day_week, loan, default</td>\n",
       "      <td>0.856</td>\n",
       "    </tr>\n",
       "    <tr>\n",
       "      <th>4</th>\n",
       "      <td>duration, default</td>\n",
       "      <td>0.860</td>\n",
       "    </tr>\n",
       "    <tr>\n",
       "      <th>3</th>\n",
       "      <td>duration, loan, default</td>\n",
       "      <td>0.861</td>\n",
       "    </tr>\n",
       "    <tr>\n",
       "      <th>5</th>\n",
       "      <td>duration</td>\n",
       "      <td>0.862</td>\n",
       "    </tr>\n",
       "    <tr>\n",
       "      <th>7</th>\n",
       "      <td>with all features</td>\n",
       "      <td>0.881</td>\n",
       "    </tr>\n",
       "  </tbody>\n",
       "</table>\n",
       "</div>"
      ],
      "text/plain": [
       "                                       model_without  score\n",
       "0  duration, housing, month, day_week, loan, default  0.827\n",
       "6                                    month, duration  0.846\n",
       "1         duration, housing, day_week, loan, default  0.852\n",
       "2                  duration, day_week, loan, default  0.856\n",
       "4                                  duration, default  0.860\n",
       "3                            duration, loan, default  0.861\n",
       "5                                           duration  0.862\n",
       "7                                  with all features  0.881"
      ]
     },
     "execution_count": 50,
     "metadata": {},
     "output_type": "execute_result"
    }
   ],
   "source": [
    "from sklearn.preprocessing import MinMaxScaler\n",
    "from sklearn.linear_model import LogisticRegression\n",
    "\n",
    "absent_features = {}\n",
    "#define function that returns model score without a certain set of features\n",
    "def without_features(feature_list = None, delete_cols = None):\n",
    "    #considering with/without housing, month, loan, day of week - features, that have the least impact according to chi-square test\n",
    "    #creating a copy of a current data set\n",
    "    X_least_chi = oversampled_X.copy()\n",
    "    #drop columns with multicollinearity\n",
    "    X_least_chi.drop(['euribor3m', 'emp.var.rate'], axis = 1, inplace = True)\n",
    "    #copt the test set and drop the same columns\n",
    "    X_test_chi = X_test.copy()\n",
    "    X_test_chi.drop(['euribor3m', 'emp.var.rate'], axis = 1, inplace = True)\n",
    "    #define columns we want to drop and drop them \n",
    "    if feature_list != None:\n",
    "        X_least_chi = X_least_chi.drop(delete_cols, axis = 1)\n",
    "        X_test_chi = X_test_chi.drop(delete_cols, axis = 1)\n",
    "    #apply scalling after removal\n",
    "    scaler_train = MinMaxScaler().fit(X_least_chi)\n",
    "    X_least_chi_sc = scaler_train.transform(X_least_chi)\n",
    "    scaler_test = MinMaxScaler().fit(X_test_chi)\n",
    "    X_test_chi_sc = scaler_test.transform(X_test_chi)\n",
    "\n",
    "    #build Logistic regression\n",
    "    model = LogisticRegression(max_iter = 200)\n",
    "    model.fit(X_least_chi_sc, oversampled_Y)\n",
    "    model.predict(X_test_chi_sc)\n",
    "    #write the result to a dictionary\n",
    "    if feature_list != None:\n",
    "        absent_features[', '.join(feature_list)] = (round(model.score(X_test_sc,y_test),3))\n",
    "    else:\n",
    "        absent_features['with all features'] = (round(model.score(X_test_sc,y_test),3))\n",
    "\n",
    "#apply the function with different combinations\n",
    "without_features(['duration', 'housing', 'month', 'day_week', 'loan', 'default'], ['duration', 'housing', 'month1', 'month2', 'month3', 'month4', 'month5', 'month6',\n",
    "       'month7', 'month8', 'month9', 'day_week1', 'day_week2', 'day_week3',\n",
    "       'day_week4', 'loan', 'default1', 'default2'])\n",
    "without_features(['duration', 'housing', 'day_week', 'loan', 'default'], ['duration', 'housing', 'day_week1', 'day_week2', 'day_week3',\n",
    "       'day_week4', 'loan', 'default1', 'default2'])\n",
    "without_features(['duration', 'day_week', 'loan', 'default'], ['duration', 'day_week1', 'day_week2', 'day_week3',\n",
    "       'day_week4', 'loan', 'default1', 'default2'])\n",
    "without_features(['duration', 'loan', 'default'], ['duration', 'loan', 'default1', 'default2'])\n",
    "without_features(['duration', 'default'], ['duration', 'default1', 'default2'])\n",
    "without_features(['duration'], ['duration'])\n",
    "without_features(['month', 'duration'], ['month1', 'month2', 'month3', 'month4', 'month5', 'month6',\n",
    "       'month7', 'month8', 'month9', 'duration'])\n",
    "without_features()\n",
    "\n",
    "#create a dataframe with summary\n",
    "feature_selection = pd.DataFrame(absent_features.items(), columns = ['model_without', 'score'])\n",
    "feature_selection.sort_values(by = 'score')"
   ]
  },
  {
   "cell_type": "markdown",
   "metadata": {},
   "source": [
    "We can see that the model with all features has accuracy about 88%. Month and duration features have the biggest impact on the model score and without them the score decreases by around 4%. As for the other features, they don't affect the result signifficantly and removing them don't influence the final result much. \n",
    "That's why next step is to remove all the unwanted features. We also remove duration because we plan our final model not to include this feature that is hard to interpret. Nevertheless, we will consider a model with duration as an additional option later."
   ]
  },
  {
   "cell_type": "code",
   "execution_count": 8,
   "metadata": {},
   "outputs": [],
   "source": [
    "#remove all the unwanted features from train and test sets\n",
    "oversampled_X = oversampled_X.drop(['euribor3m', 'emp.var.rate', 'duration', 'housing', 'day_week1', 'day_week2', 'day_week3',\n",
    "       'day_week4', 'loan', 'default1', 'default2'], axis = 1)\n",
    "X_test = X_test.drop(['euribor3m', 'emp.var.rate', 'duration', 'housing', 'day_week1', 'day_week2', 'day_week3',\n",
    "      'day_week4', 'loan', 'default1', 'default2'], axis = 1)\n",
    "\n",
    "#apply features scalling\n",
    "from sklearn.preprocessing import MinMaxScaler\n",
    "scaler_train = MinMaxScaler().fit(oversampled_X)\n",
    "oversampled_X_sc = oversampled_X.copy()\n",
    "oversampled_X_sc[oversampled_X_sc.columns] = scaler_train.fit_transform(oversampled_X[oversampled_X.columns])\n",
    "X_test_sc = X_test.copy()\n",
    "scaler_test = MinMaxScaler().fit(X_test)\n",
    "X_test_sc[X_test_sc.columns] = scaler_test.transform(X_test_sc[X_test_sc.columns])"
   ]
  },
  {
   "cell_type": "markdown",
   "metadata": {},
   "source": [
    "<h3>Models selection</h3>\n",
    "\n",
    "Now it's time to build several different models. We consider Support Vector Classifier, Random Forest, Logistic Regression, Decision Tree and K Nearest Neighbours. We plan to compare their performance and choose the best result measured as accoracy. Moreover, we make hyperparameter tuning using Grid search. It will help us to choose the best parameters for each model. We don't use a large range of hyperparameters possible values since in combination with multiple iterations of cross validation process (we use it for receiving more stable results here) takes a lot of time."
   ]
  },
  {
   "cell_type": "code",
   "execution_count": 10,
   "metadata": {},
   "outputs": [
    {
     "name": "stdout",
     "output_type": "stream",
     "text": [
      "fitting svm...\n",
      "fitting random_forest...\n",
      "fitting logistic_regression...\n",
      "fitting des_tree...\n",
      "fitting knn...\n"
     ]
    },
    {
     "data": {
      "text/html": [
       "<div>\n",
       "<style scoped>\n",
       "    .dataframe tbody tr th:only-of-type {\n",
       "        vertical-align: middle;\n",
       "    }\n",
       "\n",
       "    .dataframe tbody tr th {\n",
       "        vertical-align: top;\n",
       "    }\n",
       "\n",
       "    .dataframe thead th {\n",
       "        text-align: right;\n",
       "    }\n",
       "</style>\n",
       "<table border=\"1\" class=\"dataframe\">\n",
       "  <thead>\n",
       "    <tr style=\"text-align: right;\">\n",
       "      <th></th>\n",
       "      <th>model</th>\n",
       "      <th>best_score</th>\n",
       "      <th>best_params</th>\n",
       "    </tr>\n",
       "  </thead>\n",
       "  <tbody>\n",
       "    <tr>\n",
       "      <th>1</th>\n",
       "      <td>random_forest</td>\n",
       "      <td>0.886816</td>\n",
       "      <td>{'n_estimators': 100}</td>\n",
       "    </tr>\n",
       "    <tr>\n",
       "      <th>4</th>\n",
       "      <td>knn</td>\n",
       "      <td>0.884678</td>\n",
       "      <td>{'n_neighbors': 10}</td>\n",
       "    </tr>\n",
       "    <tr>\n",
       "      <th>0</th>\n",
       "      <td>svm</td>\n",
       "      <td>0.872543</td>\n",
       "      <td>{'C': 15, 'kernel': 'rbf'}</td>\n",
       "    </tr>\n",
       "    <tr>\n",
       "      <th>3</th>\n",
       "      <td>des_tree</td>\n",
       "      <td>0.870934</td>\n",
       "      <td>{'criterion': 'gini', 'splitter': 'random'}</td>\n",
       "    </tr>\n",
       "    <tr>\n",
       "      <th>2</th>\n",
       "      <td>logistic_regression</td>\n",
       "      <td>0.864099</td>\n",
       "      <td>{'C': 100}</td>\n",
       "    </tr>\n",
       "  </tbody>\n",
       "</table>\n",
       "</div>"
      ],
      "text/plain": [
       "                 model  best_score  \\\n",
       "1        random_forest    0.886816   \n",
       "4                  knn    0.884678   \n",
       "0                  svm    0.872543   \n",
       "3             des_tree    0.870934   \n",
       "2  logistic_regression    0.864099   \n",
       "\n",
       "                                   best_params  \n",
       "1                        {'n_estimators': 100}  \n",
       "4                          {'n_neighbors': 10}  \n",
       "0                   {'C': 15, 'kernel': 'rbf'}  \n",
       "3  {'criterion': 'gini', 'splitter': 'random'}  \n",
       "2                                   {'C': 100}  "
      ]
     },
     "execution_count": 10,
     "metadata": {},
     "output_type": "execute_result"
    }
   ],
   "source": [
    "from sklearn import svm\n",
    "from sklearn.ensemble import RandomForestClassifier\n",
    "from sklearn.linear_model import LogisticRegression\n",
    "from sklearn.tree import DecisionTreeClassifier\n",
    "from sklearn.neighbors import KNeighborsClassifier\n",
    "from sklearn.metrics import f1_score\n",
    "\n",
    "#define a dictionary that keeps models and corresponding parameters\n",
    "model_params = {\n",
    "    'svm': {\n",
    "        'model': svm.SVC(gamma='auto'),\n",
    "        'params' : {\n",
    "            'C': [5, 10, 15],\n",
    "            'kernel': ['rbf']\n",
    "        }  \n",
    "    },\n",
    "    'random_forest': {\n",
    "        'model': RandomForestClassifier(),\n",
    "        'params' : {\n",
    "            'n_estimators': [50, 70, 100, 120, 150]\n",
    "        }\n",
    "    },\n",
    "    'logistic_regression' : {\n",
    "        'model': LogisticRegression(solver='liblinear',multi_class='auto'),\n",
    "        'params': {\n",
    "            'C': [0.1, 1,5, 10, 20, 50, 100]\n",
    "        }\n",
    "    },\n",
    "    'des_tree': {\n",
    "    'model': DecisionTreeClassifier(),\n",
    "    'params' : {\n",
    "        'criterion': ['gini', 'entropy'],\n",
    "        'splitter': ['best','random']\n",
    "        }  \n",
    "    },\n",
    "    'knn': {\n",
    "    'model': KNeighborsClassifier(),\n",
    "    'params' : {\n",
    "        'n_neighbors': [1,5, 10, 20, 50, 100]\n",
    "        }\n",
    "    }\n",
    "}\n",
    "\n",
    "from sklearn.model_selection import GridSearchCV\n",
    "scores = []\n",
    "\n",
    "#iterating through the dictionary, fit a model, calculate a score and append the result to the list\n",
    "for model_name, mp in model_params.items():\n",
    "    clf =  GridSearchCV(mp['model'], mp['params'], cv=3, return_train_score=False)\n",
    "    print(f'fitting {model_name}...')\n",
    "    clf.fit(oversampled_X_sc, oversampled_Y)\n",
    "    scores.append({\n",
    "        'model': model_name,\n",
    "        'best_score': clf.best_score_,\n",
    "        'best_params': clf.best_params_\n",
    "    })\n",
    "#create a dataframe with the results    \n",
    "df_cross_scores = pd.DataFrame(scores,columns=['model','best_score','best_params'])\n",
    "df_cross_scores.sort_values(by = 'best_score', ascending = False)"
   ]
  },
  {
   "cell_type": "markdown",
   "metadata": {},
   "source": [
    "According to the results, Random Forest model performs the best on our preprocessed training set and gives accuracy about 88,5%. KNN classifier shows almost the same result.\n",
    "The other models perform a little bit worse. Currently, we consider Random Forest Classifier with 100 estimators as the best option to apply.\n",
    "\n",
    "Let's check it on our test set."
   ]
  },
  {
   "cell_type": "code",
   "execution_count": 225,
   "metadata": {},
   "outputs": [
    {
     "data": {
      "text/plain": [
       "0.8534697625606716"
      ]
     },
     "execution_count": 225,
     "metadata": {},
     "output_type": "execute_result"
    }
   ],
   "source": [
    "from sklearn.ensemble import RandomForestClassifier\n",
    "model = RandomForestClassifier(n_estimators=100)\n",
    "model.fit(oversampled_X_sc, oversampled_Y)\n",
    "model.score(X_test_sc, y_test)"
   ]
  },
  {
   "cell_type": "markdown",
   "metadata": {},
   "source": [
    "So, on the test set Random Forest gives about 85,3% accuracy.\n",
    "\n",
    "<h3>Naive Bayes</h3>\n",
    "\n",
    "Next, we will consider Naive Bayes. Since there are numeric and categorical features in the dataset, we will apply CategoricalNB for categorical variables and GaussianNB for numeric features. After that, we calculate log probabilities for both data types, calculate a final log probability by adding them up and substracting predictor prior probability.\n",
    "For x which contains both categorical and continuous:\n",
    "P(a|x) = log likelihood from categorical model + log likelihood from continuous model - log prior of class a."
   ]
  },
  {
   "cell_type": "code",
   "execution_count": 224,
   "metadata": {},
   "outputs": [
    {
     "data": {
      "text/plain": [
       "0.8030958940049849"
      ]
     },
     "execution_count": 224,
     "metadata": {},
     "output_type": "execute_result"
    }
   ],
   "source": [
    "#defining columns\n",
    "cat_cols = ['education', 'campaign', 'job1', 'job2', 'job3', 'job4', 'job5', 'job6', 'job7', 'job8', 'job9', 'job10',\n",
    "       'marry1', 'marry2', 'contact', 'month1', 'month2', 'month3', 'month4',\n",
    "       'month5', 'month6', 'month7', 'month8', 'month9', 'poutcome1', 'poutcome2', 'pdays_categ']\n",
    "cont_cols = ['age', 'campaign', 'previous', 'cons.price.idx', 'cons.conf.idx', 'nr.employed']\n",
    "\n",
    "from sklearn.naive_bayes import GaussianNB,CategoricalNB\n",
    "gc = GaussianNB()\n",
    "cont_classifier = gc.fit(oversampled_X_sc[cont_cols],oversampled_Y)\n",
    "\n",
    "Cc = CategoricalNB()\n",
    "mod = Cc.fit(oversampled_X_sc[cat_cols],oversampled_Y)\n",
    "\n",
    "#jll - sum of log probability of continuous and categorical data\n",
    "log_prior = mod.class_log_prior_\n",
    "jlls = []\n",
    "jlls.append(cont_classifier._joint_log_likelihood(X_test_sc[cont_cols]))\n",
    "jlls.append(mod._joint_log_likelihood(np.array(X_test_sc[cat_cols].astype(int))))\n",
    "jlls = np.hstack([jlls])\n",
    "jll = jlls.sum(axis=0)\n",
    "jlls = jlls - log_prior\n",
    "\n",
    "#Standardising the results\n",
    "fo = np.exp(jll)\n",
    "sumso = np.sum(fo, axis = 1, keepdims = True) \n",
    "result = fo/sumso\n",
    "\n",
    "#Output calculation\n",
    "y_pred = np.argmax(result,axis=1)\n",
    "\n",
    "#calculate the accuracy\n",
    "from sklearn.metrics import accuracy_score\n",
    "accuracy_score(y_test, y_pred)"
   ]
  },
  {
   "cell_type": "markdown",
   "metadata": {},
   "source": [
    "We tested Naive Bayes on our test set and can see that accuracy is about 80% that is less than the Random Forest model provides.\n",
    "\n",
    "Next. we will consider several additional options:\n",
    "1. Neural network;\n",
    "2. Logistic Regression with class weights (instead of oversampling the minority class);\n",
    "3. Random Forest with binned and encoded numeric features;\n",
    "4. Random Forest with duration."
   ]
  },
  {
   "cell_type": "markdown",
   "metadata": {},
   "source": [
    "<h3>Neural Network</h3>\n",
    "\n",
    "As a benchmark, we will build a simple neural network with one input layer, where layer size is equal to number of features and an output layer with sigmoid activation function."
   ]
  },
  {
   "cell_type": "code",
   "execution_count": 227,
   "metadata": {},
   "outputs": [
    {
     "name": "stdout",
     "output_type": "stream",
     "text": [
      "1095/1095 [==============================] - 4s 3ms/step - loss: 0.4141 - accuracy: 0.8221 - val_loss: 0.3751 - val_accuracy: 0.8213\n",
      "0.89728453364817\n"
     ]
    }
   ],
   "source": [
    "from keras.models import Sequential\n",
    "from keras.layers import Dense\n",
    "\n",
    "model = Sequential()\n",
    "model.add(Dense(32, activation='relu', input_dim=32))      \n",
    "model.add(Dense(1, activation='sigmoid'))\n",
    "model.compile(optimizer='adam', loss='binary_crossentropy', metrics=['accuracy'])\n",
    "model.fit(oversampled_X_sc, oversampled_Y, epochs=1, batch_size=40, validation_split=0.2)\n",
    "predict_x=model.predict(X_test) \n",
    "y_pred = np.argmax(predict_x,axis=1)\n",
    "print(accuracy_score(y_test, y_pred))"
   ]
  },
  {
   "cell_type": "markdown",
   "metadata": {},
   "source": [
    "We can see that a simple neural network without any hidden layers permorms better than our Random Forest model. Nevertheless, we will choose the last one because it is much easier to interpret.\n",
    "\n",
    "<h3>Logistic Regression with class weights</h3>\n",
    "\n",
    "Next, we will apply Logistic Regression with class weights. This technique is alternative for oversampling the class with positive answers in 'y' feature."
   ]
  },
  {
   "cell_type": "code",
   "execution_count": 244,
   "metadata": {},
   "outputs": [
    {
     "data": {
      "text/plain": [
       "{0: 0.5572109480086554, 1: 4.8697929976999745}"
      ]
     },
     "execution_count": 244,
     "metadata": {},
     "output_type": "execute_result"
    }
   ],
   "source": [
    "#compute class weights\n",
    "from sklearn.utils.class_weight import compute_class_weight\n",
    "class_weights = compute_class_weight(class_weight = 'balanced', classes = np.unique(y), y = y)\n",
    "weight = {key: value for (key, value) in zip(np.unique(y), class_weights)}\n",
    "\n",
    "weight"
   ]
  },
  {
   "cell_type": "code",
   "execution_count": 249,
   "metadata": {},
   "outputs": [
    {
     "data": {
      "text/plain": [
       "0.8202807293716384"
      ]
     },
     "execution_count": 249,
     "metadata": {},
     "output_type": "execute_result"
    }
   ],
   "source": [
    "#remove all the unwanted features from train and test sets\n",
    "#we shouldn't use oversampled X features here\n",
    "X_train_lr = X_train.drop(['euribor3m', 'emp.var.rate', 'duration', 'housing', 'day_week1', 'day_week2', 'day_week3',\n",
    "       'day_week4', 'loan', 'default1', 'default2'], axis = 1)\n",
    "X_test_lr = X_test.drop(['euribor3m', 'emp.var.rate', 'duration', 'housing', 'day_week1', 'day_week2', 'day_week3',\n",
    "      'day_week4', 'loan', 'default1', 'default2'], axis = 1)\n",
    "\n",
    "#apply features scalling\n",
    "from sklearn.preprocessing import MinMaxScaler\n",
    "scaler_train = MinMaxScaler().fit(X_train)\n",
    "X_train_lr_sc = X_train_lr.copy()\n",
    "X_train_lr_sc[X_train_lr_sc.columns] = scaler_train.fit_transform(X_train_lr[X_train_lr.columns])\n",
    "X_test_lr_sc = X_test_lr.copy()\n",
    "scaler_test = MinMaxScaler().fit(X_test_lr_sc)\n",
    "X_test_lr_sc[X_test_lr_sc.columns] = scaler_test.transform(X_test_lr_sc[X_test_lr_sc.columns])\n",
    "\n",
    "#apply logistic regression\n",
    "model = LogisticRegression(max_iter = 200, class_weight=weight)\n",
    "model.fit(X_train_lr_sc, y_train)\n",
    "model.predict(X_test_lr_sc)\n",
    "model.score(X_test_lr_sc,y_test)"
   ]
  },
  {
   "cell_type": "markdown",
   "metadata": {},
   "source": [
    "This option gives about 82% accuracy, which is lower than our Random Forest model and than Logistic Regression on the oversampled data (86,4%)."
   ]
  },
  {
   "cell_type": "markdown",
   "metadata": {},
   "source": [
    "<h3>Random Forest with binned and encoded numeric features</h3>\n",
    " \n",
    "We can have a look at skewed distributions of numeric features, which we created at the beginning and explore, how a model with the binned features performs. We will begin from repeating numeric features transformation."
   ]
  },
  {
   "cell_type": "code",
   "execution_count": 250,
   "metadata": {},
   "outputs": [
    {
     "data": {
      "text/html": [
       "<div>\n",
       "<style scoped>\n",
       "    .dataframe tbody tr th:only-of-type {\n",
       "        vertical-align: middle;\n",
       "    }\n",
       "\n",
       "    .dataframe tbody tr th {\n",
       "        vertical-align: top;\n",
       "    }\n",
       "\n",
       "    .dataframe thead th {\n",
       "        text-align: right;\n",
       "    }\n",
       "</style>\n",
       "<table border=\"1\" class=\"dataframe\">\n",
       "  <thead>\n",
       "    <tr style=\"text-align: right;\">\n",
       "      <th></th>\n",
       "      <th>y</th>\n",
       "      <th>job1</th>\n",
       "      <th>job2</th>\n",
       "      <th>job3</th>\n",
       "      <th>job4</th>\n",
       "      <th>job5</th>\n",
       "      <th>job6</th>\n",
       "      <th>job7</th>\n",
       "      <th>job8</th>\n",
       "      <th>job9</th>\n",
       "      <th>...</th>\n",
       "      <th>age_bin</th>\n",
       "      <th>education_bin</th>\n",
       "      <th>duration_bin</th>\n",
       "      <th>campaign_bin</th>\n",
       "      <th>previous_bin</th>\n",
       "      <th>emp.var.rate_bin</th>\n",
       "      <th>cons.price.idx_bin</th>\n",
       "      <th>cons.conf.idx_bin</th>\n",
       "      <th>euribor3m_bin</th>\n",
       "      <th>nr.employed_bin</th>\n",
       "    </tr>\n",
       "  </thead>\n",
       "  <tbody>\n",
       "    <tr>\n",
       "      <th>0</th>\n",
       "      <td>0</td>\n",
       "      <td>0</td>\n",
       "      <td>0</td>\n",
       "      <td>1</td>\n",
       "      <td>0</td>\n",
       "      <td>0</td>\n",
       "      <td>0</td>\n",
       "      <td>0</td>\n",
       "      <td>0</td>\n",
       "      <td>0</td>\n",
       "      <td>...</td>\n",
       "      <td>(49.4, 57.5]</td>\n",
       "      <td>(0.6, 1.2]</td>\n",
       "      <td>(-4.9, 491.8]</td>\n",
       "      <td>(0.9, 6.5]</td>\n",
       "      <td>(-0.0, 0.7]</td>\n",
       "      <td>(0.9, 1.4]</td>\n",
       "      <td>(93.7, 94.0]</td>\n",
       "      <td>(-36.5, -34.1]</td>\n",
       "      <td>(4.6, 5.0]</td>\n",
       "      <td>(5175.2, 5201.7]</td>\n",
       "    </tr>\n",
       "    <tr>\n",
       "      <th>1</th>\n",
       "      <td>0</td>\n",
       "      <td>0</td>\n",
       "      <td>0</td>\n",
       "      <td>0</td>\n",
       "      <td>0</td>\n",
       "      <td>0</td>\n",
       "      <td>0</td>\n",
       "      <td>1</td>\n",
       "      <td>0</td>\n",
       "      <td>0</td>\n",
       "      <td>...</td>\n",
       "      <td>(49.4, 57.5]</td>\n",
       "      <td>(3.6, 4.2]</td>\n",
       "      <td>(-4.9, 491.8]</td>\n",
       "      <td>(0.9, 6.5]</td>\n",
       "      <td>(-0.0, 0.7]</td>\n",
       "      <td>(0.9, 1.4]</td>\n",
       "      <td>(93.7, 94.0]</td>\n",
       "      <td>(-36.5, -34.1]</td>\n",
       "      <td>(4.6, 5.0]</td>\n",
       "      <td>(5175.2, 5201.7]</td>\n",
       "    </tr>\n",
       "    <tr>\n",
       "      <th>2</th>\n",
       "      <td>0</td>\n",
       "      <td>0</td>\n",
       "      <td>0</td>\n",
       "      <td>0</td>\n",
       "      <td>0</td>\n",
       "      <td>0</td>\n",
       "      <td>0</td>\n",
       "      <td>1</td>\n",
       "      <td>0</td>\n",
       "      <td>0</td>\n",
       "      <td>...</td>\n",
       "      <td>(33.2, 41.3]</td>\n",
       "      <td>(3.6, 4.2]</td>\n",
       "      <td>(-4.9, 491.8]</td>\n",
       "      <td>(0.9, 6.5]</td>\n",
       "      <td>(-0.0, 0.7]</td>\n",
       "      <td>(0.9, 1.4]</td>\n",
       "      <td>(93.7, 94.0]</td>\n",
       "      <td>(-36.5, -34.1]</td>\n",
       "      <td>(4.6, 5.0]</td>\n",
       "      <td>(5175.2, 5201.7]</td>\n",
       "    </tr>\n",
       "  </tbody>\n",
       "</table>\n",
       "<p>3 rows × 44 columns</p>\n",
       "</div>"
      ],
      "text/plain": [
       "   y  job1  job2  job3  job4  job5  job6  job7  job8  job9  ...       age_bin  \\\n",
       "0  0     0     0     1     0     0     0     0     0     0  ...  (49.4, 57.5]   \n",
       "1  0     0     0     0     0     0     0     1     0     0  ...  (49.4, 57.5]   \n",
       "2  0     0     0     0     0     0     0     1     0     0  ...  (33.2, 41.3]   \n",
       "\n",
       "   education_bin   duration_bin  campaign_bin  previous_bin  emp.var.rate_bin  \\\n",
       "0     (0.6, 1.2]  (-4.9, 491.8]    (0.9, 6.5]   (-0.0, 0.7]        (0.9, 1.4]   \n",
       "1     (3.6, 4.2]  (-4.9, 491.8]    (0.9, 6.5]   (-0.0, 0.7]        (0.9, 1.4]   \n",
       "2     (3.6, 4.2]  (-4.9, 491.8]    (0.9, 6.5]   (-0.0, 0.7]        (0.9, 1.4]   \n",
       "\n",
       "   cons.price.idx_bin  cons.conf.idx_bin  euribor3m_bin   nr.employed_bin  \n",
       "0        (93.7, 94.0]     (-36.5, -34.1]     (4.6, 5.0]  (5175.2, 5201.7]  \n",
       "1        (93.7, 94.0]     (-36.5, -34.1]     (4.6, 5.0]  (5175.2, 5201.7]  \n",
       "2        (93.7, 94.0]     (-36.5, -34.1]     (4.6, 5.0]  (5175.2, 5201.7]  \n",
       "\n",
       "[3 rows x 44 columns]"
      ]
     },
     "metadata": {},
     "output_type": "display_data"
    }
   ],
   "source": [
    "#set a list of numeric variables\n",
    "numeric = list(df.select_dtypes(include=['int64', 'float64']).columns)\n",
    "numeric = [i for i in numeric if i != 'y']\n",
    "#create a copy of the dataframe\n",
    "df_cut = df.copy()\n",
    "#set a number of bins\n",
    "bins = 10\n",
    "#bin each column and plot it\n",
    "for i in numeric:\n",
    "    _, edges = pd.cut(df_cut[i], bins=bins, retbins=True)\n",
    "    labels = [f'({edges[b]:.1f}, {edges[b+1]:.1f}]' for b in range(bins)]\n",
    "    df_cut[i +'_bin'] = pd.cut(df_cut[i], bins=bins, labels=labels, ordered=False)\n",
    "df_cut.drop(numeric, axis = 1, inplace = True)\n",
    "display(df_cut.head(3))"
   ]
  },
  {
   "cell_type": "markdown",
   "metadata": {},
   "source": [
    "After that, we will repeat all the stages of train and test data transformation."
   ]
  },
  {
   "cell_type": "code",
   "execution_count": 255,
   "metadata": {},
   "outputs": [
    {
     "data": {
      "text/plain": [
       "0.7994227994227994"
      ]
     },
     "execution_count": 255,
     "metadata": {},
     "output_type": "execute_result"
    }
   ],
   "source": [
    "#encode all binned features\n",
    "le = LabelEncoder()\n",
    "binned = [i for i in df_cut.columns if 'bin' in i]\n",
    "df_cut['y'] = le.fit_transform(df_cut['y'])\n",
    "for i in binned:\n",
    "      df_cut[i] = le.fit_transform(df_cut[i])\n",
    "\n",
    "#train-test split\n",
    "y = df_cut.y\n",
    "X = df_cut.loc[:, df_cut.columns != 'y']\n",
    "X_train_b, X_test_b, y_train_b, y_test_b = train_test_split(X, y, test_size=0.2, random_state=10)\n",
    "\n",
    "#oversampling\n",
    "from imblearn.over_sampling import SMOTE\n",
    "# Resampling the minority class. The strategy can be changed as required.\n",
    "sm = SMOTE(sampling_strategy='minority', random_state=42)\n",
    "# Fit the model to generate the data.\n",
    "oversampled_X_b, oversampled_Y_b = sm.fit_resample(X_train_b, y_train_b)\n",
    "\n",
    "#remove the unwanted columns\n",
    "oversampled_X_b = oversampled_X_b.drop(['euribor3m_bin', 'emp.var.rate_bin', 'duration_bin', 'housing', 'day_week1', 'day_week2', 'day_week3',\n",
    "      'day_week4', 'loan', 'default1', 'default2'], axis = 1)\n",
    "X_test_b = X_test_b.drop(['euribor3m_bin', 'emp.var.rate_bin', 'duration_bin', 'housing', 'day_week1', 'day_week2', 'day_week3',\n",
    "      'day_week4', 'loan', 'default1', 'default2'], axis = 1)\n",
    "\n",
    "#scalling features\n",
    "from sklearn.preprocessing import MinMaxScaler\n",
    "scaler_train = MinMaxScaler().fit(oversampled_X_b)\n",
    "oversampled_X_scb = scaler_train.transform(oversampled_X_b)\n",
    "scaler_test = MinMaxScaler().fit(X_test_b)\n",
    "X_test_scb = scaler_test.transform(X_test_b)\n",
    "\n",
    "#fitting the model\n",
    "from sklearn.ensemble import RandomForestClassifier\n",
    "model = RandomForestClassifier(n_estimators=150)\n",
    "model.fit(oversampled_X_scb, oversampled_Y_b)\n",
    "model.predict(X_test_scb)\n",
    "model.score(X_test_scb,y_test_b)"
   ]
  },
  {
   "cell_type": "markdown",
   "metadata": {},
   "source": [
    "The model above gives almost 80% accuracy. \n",
    "\n",
    "<h3>Random Forest with duration</h3>\n",
    "\n",
    "Finally, let's explore duration effect on our best model - Random Forest with 100 estimators."
   ]
  },
  {
   "cell_type": "code",
   "execution_count": 12,
   "metadata": {},
   "outputs": [
    {
     "data": {
      "text/plain": [
       "0.8793126065853338"
      ]
     },
     "execution_count": 12,
     "metadata": {},
     "output_type": "execute_result"
    }
   ],
   "source": [
    "X_train, X_test, y_train, y_test = train_test_split(X, y, test_size=0.2, random_state=10, stratify = y)\n",
    "#oversampling\n",
    "from imblearn.over_sampling import SMOTE\n",
    "# Resampling the minority class. The strategy can be changed as required.\n",
    "sm = SMOTE(sampling_strategy='minority', random_state=42)\n",
    "# Fit the model to generate the data.\n",
    "oversampled_X_d, oversampled_Y_d = sm.fit_resample(X_train, y_train)\n",
    "\n",
    "\n",
    "#remove the unwanted columns\n",
    "oversampled_X_d = oversampled_X_d.drop(['euribor3m', 'emp.var.rate', 'housing', 'day_week1', 'day_week2', 'day_week3',\n",
    "       'day_week4', 'loan', 'default1', 'default2'], axis = 1)\n",
    "X_test_d = X_test.copy()\n",
    "X_test_d = X_test_d.drop(['euribor3m', 'emp.var.rate', 'housing', 'day_week1', 'day_week2', 'day_week3',\n",
    "       'day_week4', 'loan', 'default1', 'default2'], axis = 1)\n",
    "\n",
    "#scalling features\n",
    "from sklearn.preprocessing import MinMaxScaler\n",
    "scaler_train = MinMaxScaler().fit(oversampled_X_d)\n",
    "oversampled_X_scd = scaler_train.transform(oversampled_X_d)\n",
    "scaler_test = MinMaxScaler().fit(X_test_d)\n",
    "X_test_scd = scaler_test.transform(X_test_d)\n",
    "\n",
    "#fitting the model\n",
    "from sklearn.ensemble import RandomForestClassifier\n",
    "model = RandomForestClassifier(n_estimators=100)\n",
    "model.fit(oversampled_X_scd, oversampled_Y)\n",
    "model.predict(X_test_scd)\n",
    "model.score(X_test_scd,y_test)"
   ]
  },
  {
   "cell_type": "markdown",
   "metadata": {},
   "source": [
    "Compared with model without duration, the model above performs better. The accuracy increases almost by 2,6% (vs 85,3%).\n",
    "\n",
    "<h3>Model estimation and feature importance</h3>\n",
    "\n",
    "Finally, we will explore the best model performance with more details and look at features contribution to prediction of the output."
   ]
  },
  {
   "cell_type": "code",
   "execution_count": 265,
   "metadata": {},
   "outputs": [
    {
     "data": {
      "text/plain": [
       "0.8554374918011282"
      ]
     },
     "execution_count": 265,
     "metadata": {},
     "output_type": "execute_result"
    }
   ],
   "source": [
    "#build the model one more time\n",
    "from sklearn.ensemble import RandomForestClassifier\n",
    "model = RandomForestClassifier(n_estimators=100)\n",
    "model.fit(oversampled_X_sc, oversampled_Y)\n",
    "y_pred = model.predict(X_test_sc)\n",
    "model.score(X_test_sc, y_test)"
   ]
  },
  {
   "cell_type": "code",
   "execution_count": 266,
   "metadata": {},
   "outputs": [
    {
     "data": {
      "text/plain": [
       "Text(42.0, 0.5, 'Truth')"
      ]
     },
     "execution_count": 266,
     "metadata": {},
     "output_type": "execute_result"
    },
    {
     "data": {
      "image/png": "[encoded data removed]",
      "text/plain": [
       "<Figure size 504x360 with 2 Axes>"
      ]
     },
     "metadata": {
      "needs_background": "light"
     },
     "output_type": "display_data"
    }
   ],
   "source": [
    "#Plot Confusion Matrix\n",
    "from sklearn.metrics import confusion_matrix\n",
    "cm = confusion_matrix(y_test, y_pred)\n",
    "%matplotlib inline\n",
    "import matplotlib.pyplot as plt\n",
    "import seaborn as sn\n",
    "plt.figure(figsize=(7,5))\n",
    "sn.heatmap(cm, annot=True)\n",
    "plt.xlabel('Predicted')\n",
    "plt.ylabel('Truth')"
   ]
  },
  {
   "cell_type": "code",
   "execution_count": 267,
   "metadata": {},
   "outputs": [
    {
     "name": "stdout",
     "output_type": "stream",
     "text": [
      "              precision    recall  f1-score   support\n",
      "\n",
      "           0       0.93      0.91      0.92      6840\n",
      "           1       0.32      0.36      0.34       783\n",
      "\n",
      "    accuracy                           0.86      7623\n",
      "   macro avg       0.62      0.64      0.63      7623\n",
      "weighted avg       0.86      0.86      0.86      7623\n",
      "\n"
     ]
    }
   ],
   "source": [
    "#Print classification report for precesion, recall and f1-score for each classes\n",
    "from sklearn.metrics import classification_report\n",
    "print(classification_report(y_test, y_pred))"
   ]
  },
  {
   "cell_type": "markdown",
   "metadata": {},
   "source": [
    "According to the analysis conducted, we can conclude that, although our model has quite high accuracy, it predicts minority class not so well. It's confirmed by quite low value of f-score. So, we should conduct additional research  on considered models and find out, is it possivle to maximize f-score somehow to take the final decision.\n",
    "\n",
    "Let's look at features importance. We use permutation importance, which can be used for different models. It performs better than build-in feature importance from Random Forest, since it's prone to overestimate numeric features."
   ]
  },
  {
   "cell_type": "code",
   "execution_count": 133,
   "metadata": {},
   "outputs": [],
   "source": [
    "def permutation_importances(rf, X_train, y_train, metric):\n",
    "    baseline = metric(X_train, y_train)\n",
    "    imp = []\n",
    "    for col in X_train.columns:\n",
    "        save = X_train[col].copy()\n",
    "        X_train[col] = np.random.permutation(X_train[col])\n",
    "        m = metric(X_train, y_train)\n",
    "        X_train[col] = save\n",
    "        imp.append(baseline - m)\n",
    "    return np.array(imp)\n",
    "\n",
    "imp = permutation_importances(model, oversampled_X_sc, oversampled_Y,\n",
    "                              model.score)"
   ]
  },
  {
   "cell_type": "code",
   "execution_count": 188,
   "metadata": {},
   "outputs": [
    {
     "data": {
      "image/png": "[encoded data removed]",
      "text/plain": [
       "<Figure size 432x288 with 1 Axes>"
      ]
     },
     "metadata": {
      "needs_background": "light"
     },
     "output_type": "display_data"
    },
    {
     "data": {
      "text/html": [
       "<div>\n",
       "<style scoped>\n",
       "    .dataframe tbody tr th:only-of-type {\n",
       "        vertical-align: middle;\n",
       "    }\n",
       "\n",
       "    .dataframe tbody tr th {\n",
       "        vertical-align: top;\n",
       "    }\n",
       "\n",
       "    .dataframe thead th {\n",
       "        text-align: right;\n",
       "    }\n",
       "</style>\n",
       "<table border=\"1\" class=\"dataframe\">\n",
       "  <thead>\n",
       "    <tr style=\"text-align: right;\">\n",
       "      <th></th>\n",
       "      <th>importance</th>\n",
       "    </tr>\n",
       "    <tr>\n",
       "      <th>feature</th>\n",
       "      <th></th>\n",
       "    </tr>\n",
       "  </thead>\n",
       "  <tbody>\n",
       "    <tr>\n",
       "      <th>contact</th>\n",
       "      <td>0.121708</td>\n",
       "    </tr>\n",
       "    <tr>\n",
       "      <th>education</th>\n",
       "      <td>0.076341</td>\n",
       "    </tr>\n",
       "    <tr>\n",
       "      <th>age</th>\n",
       "      <td>0.074351</td>\n",
       "    </tr>\n",
       "    <tr>\n",
       "      <th>campaign</th>\n",
       "      <td>0.052124</td>\n",
       "    </tr>\n",
       "    <tr>\n",
       "      <th>marry</th>\n",
       "      <td>0.046818</td>\n",
       "    </tr>\n",
       "    <tr>\n",
       "      <th>previous</th>\n",
       "      <td>0.037294</td>\n",
       "    </tr>\n",
       "    <tr>\n",
       "      <th>nr.employed</th>\n",
       "      <td>0.032966</td>\n",
       "    </tr>\n",
       "    <tr>\n",
       "      <th>cons.conf.idx</th>\n",
       "      <td>0.030025</td>\n",
       "    </tr>\n",
       "    <tr>\n",
       "      <th>cons.price.idx</th>\n",
       "      <td>0.025788</td>\n",
       "    </tr>\n",
       "    <tr>\n",
       "      <th>poutcome</th>\n",
       "      <td>0.021122</td>\n",
       "    </tr>\n",
       "    <tr>\n",
       "      <th>job</th>\n",
       "      <td>0.017206</td>\n",
       "    </tr>\n",
       "    <tr>\n",
       "      <th>month</th>\n",
       "      <td>0.015149</td>\n",
       "    </tr>\n",
       "    <tr>\n",
       "      <th>pdays_categ</th>\n",
       "      <td>0.001625</td>\n",
       "    </tr>\n",
       "  </tbody>\n",
       "</table>\n",
       "</div>"
      ],
      "text/plain": [
       "                importance\n",
       "feature                   \n",
       "contact           0.121708\n",
       "education         0.076341\n",
       "age               0.074351\n",
       "campaign          0.052124\n",
       "marry             0.046818\n",
       "previous          0.037294\n",
       "nr.employed       0.032966\n",
       "cons.conf.idx     0.030025\n",
       "cons.price.idx    0.025788\n",
       "poutcome          0.021122\n",
       "job               0.017206\n",
       "month             0.015149\n",
       "pdays_categ       0.001625"
      ]
     },
     "execution_count": 188,
     "metadata": {},
     "output_type": "execute_result"
    }
   ],
   "source": [
    "def has_numbers(inputString):\n",
    "    return any(char.isdigit() for char in inputString)\n",
    "features = oversampled_X_sc.columns\n",
    "feat_imp = pd.DataFrame(features, columns = ['feature'])\n",
    "feat_imp['importance'] = imp\n",
    "feat_imp.sort_values(by = 'importance', ascending = False).reset_index(drop=True)\n",
    "for i in feat_imp.feature:\n",
    "    if has_numbers(i):\n",
    "        result = ''.join([y for y in i if not y.isdigit()])\n",
    "        feat_imp.feature.replace(i, result, inplace = True)\n",
    "feat_imp = feat_imp.groupby('feature').agg({'importance': 'mean'}).sort_values(by = 'importance', ascending = False)\n",
    "#plot = plt.barh(feat_imp.index, feat_imp.importance)\n",
    "ax = feat_imp.plot(kind=\"barh\")\n",
    "ax.invert_yaxis()\n",
    "plt.show()\n",
    "feat_imp"
   ]
  },
  {
   "cell_type": "markdown",
   "metadata": {},
   "source": [
    "<h3>References:</h3>\n",
    "\n",
    "1. 5 Techniques to Handle Imbalanced Data For a Classification Problem, URL: https://www.analyticsvidhya.com/blog/2021/06/5-techniques-to-handle-imbalanced-data-for-a-classification-problem/\n",
    "2. Naive-Bayes for mixed typed data in scikit-learn, URL: https://medium.com/analytics-vidhya/naive-bayes-for-mixed-typed-data-in-scikit-learn-fb6843e241f0\n",
    "3. Titanic Naive bayes, URL: https://www.kaggle.com/code/guruprasad91/titanic-naive-bayes/notebook\n",
    "4. Random Forest Feature Importance Computed in 3 Ways with Python, URL: https://mljar.com/blog/feature-importance-in-random-forest/\n",
    "5. Beware Default Random Forest Importances, URL: https://explained.ai/rf-importance/index.html\n",
    "6. Bagging and Random Forest for Imbalanced Classification, URL: https://machinelearningmastery.com/bagging-and-random-forest-for-imbalanced-classification/"
   ]
  }
 ],
 "metadata": {
  "kernelspec": {
   "display_name": "Python 3.8.10 64-bit",
   "language": "python",
   "name": "python3"
  },
  "language_info": {
   "codemirror_mode": {
    "name": "ipython",
    "version": 3
   },
   "file_extension": ".py",
   "mimetype": "text/x-python",
   "name": "python",
   "nbconvert_exporter": "python",
   "pygments_lexer": "ipython3",
   "version": "3.8.10"
  },
  "orig_nbformat": 4,
  "vscode": {
   "interpreter": {
    "hash": "916dbcbb3f70747c44a77c7bcd40155683ae19c65e1c03b4aa3499c5328201f1"
   }
  }
 },
 "nbformat": 4,
 "nbformat_minor": 2
}
