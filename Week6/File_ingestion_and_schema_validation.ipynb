{
  "cells": [
    {
      "cell_type": "markdown",
      "source": [
        "<h2>File ingestion and schema validation project</h2>"
      ],
      "metadata": {
        "id": "6cA1WYAnrQL_"
      }
    },
    {
      "cell_type": "markdown",
      "source": [
        "Name: Margarita Prokhorovich, Batch code: LISUM09\n",
        "\n",
        "In this project, I conduct file ingestion and schema validation algorythms. I take file with size about 2GB with data about high-energy experiment. Data description is provided [here](https://sdm.lbl.gov/fastbit/data/samples.html), list of columns is provided [here](https://sdm.lbl.gov/fastbit/data/README-star2002.txt). Since column names are separate from dataframe itself, I need to process data with column names and create a list of columns. "
      ],
      "metadata": {
        "id": "nHGsU-q9hbAY"
      }
    },
    {
      "cell_type": "code",
      "execution_count": null,
      "metadata": {
        "id": "_JNuSOI6hnt8"
      },
      "outputs": [],
      "source": [
        "#import module\n",
        "import requests\n",
        "#process file data\n",
        "resp = requests.get('https://sdm.lbl.gov/fastbit/data/README-star2002.txt')\n",
        "list_head = resp.text.split('\\n')\n",
        "list_head = list_head[1:17]\n",
        "list_head = [item.split('\\t')[0] for item in list_head]"
      ]
    },
    {
      "cell_type": "markdown",
      "source": [
        "After downloading the data we upload it to Google drive, since it will be easier to work with a large file in the cloud. Also there's an option to upload the file directly to Colab."
      ],
      "metadata": {
        "id": "rhsZPNXt3MBm"
      }
    },
    {
      "cell_type": "code",
      "source": [
        "from google.colab import files\n",
        "uploaded = files.upload()"
      ],
      "metadata": {
        "id": "szD_sxuSCkzS"
      },
      "execution_count": null,
      "outputs": []
    },
    {
      "cell_type": "markdown",
      "source": [
        "I uploaded the file to Google Drive. To get access to the file, it's needed to mount the cloud."
      ],
      "metadata": {
        "id": "76ae2yDJ5ACe"
      }
    },
    {
      "cell_type": "code",
      "execution_count": null,
      "metadata": {
        "colab": {
          "base_uri": "https://localhost:8080/"
        },
        "id": "yAWg8kihHCvs",
        "outputId": "64b4db72-e686-424b-d3d5-5173736b0041"
      },
      "outputs": [
        {
          "output_type": "stream",
          "name": "stdout",
          "text": [
            "Mounted at /content/gdrive\n"
          ]
        }
      ],
      "source": [
        "from google.colab import drive\n",
        "drive.mount('/content/gdrive')"
      ]
    },
    {
      "cell_type": "markdown",
      "source": [
        "Downloaded and uploaded on Google Drive file is a compressed csv file with gzip format. It's needed to uncompress it for further reading.\n",
        "\n"
      ],
      "metadata": {
        "id": "SINjw5MV5iet"
      }
    },
    {
      "cell_type": "code",
      "source": [
        "from IPython.display import Image\n",
        "Image(filename=\"/content/gdrive/MyDrive/Week6_project/file.png\")"
      ],
      "metadata": {
        "colab": {
          "base_uri": "https://localhost:8080/",
          "height": 74
        },
        "id": "7o5M96cka8vi",
        "outputId": "47feb81f-4c08-4a9f-c051-bbf085836b78"
      },
      "execution_count": null,
      "outputs": [
        {
          "output_type": "execute_result",
          "data": {
            "text/plain": [
              "<IPython.core.display.Image object>"
            ],
            "image/png": "[encoded data removed]"
          },
          "metadata": {},
          "execution_count": 2
        }
      ]
    },
    {
      "cell_type": "code",
      "execution_count": null,
      "metadata": {
        "id": "--_uVMC1b31P"
      },
      "outputs": [],
      "source": [
        "#import modles\n",
        "import gzip\n",
        "import shutil\n",
        "#open gzip file and write data to a created in Colab csv file.\n",
        "with gzip.open('/content/gdrive/MyDrive/Week6_project/star2002-full.csv.gz', 'rb') as f_in: \n",
        "    with open('star2002-full.csv', 'wb') as f_out:\n",
        "        shutil.copyfileobj(f_in, f_out)"
      ]
    },
    {
      "cell_type": "markdown",
      "source": [
        "We also can save the uncopressed csv file to Google Drive."
      ],
      "metadata": {
        "id": "c2T2zytWAdUl"
      }
    },
    {
      "cell_type": "code",
      "source": [
        "pd_df = pd.read_csv('star2002-full.csv')\n",
        "with open('/content/gdrive/MyDrive/Week6_project/star2002-full1.csv.gz', 'wb') as f: \n",
        "   pd_df.to_csv('star2002-full.csv')"
      ],
      "metadata": {
        "id": "-GaqDsJzAeHm"
      },
      "execution_count": null,
      "outputs": []
    },
    {
      "cell_type": "markdown",
      "source": [
        "The file is ready for further processing. Next step is to create a dataframe. We can create it using differnt options for reading and compare efficiency from time perspective. Reading from csv file has Big-O(N) linear notation, since time spended for proceeding incerases linearly and depends on number of rows in the file. To measure time spended, I create a decorator, which measures the time."
      ],
      "metadata": {
        "id": "bo6-a3hL6Zxi"
      }
    },
    {
      "cell_type": "code",
      "source": [
        "#import time module\n",
        "from time import time\n",
        "  \n",
        "def timer(func):\n",
        "    # This function shows the execution time of \n",
        "    # the function object passed\n",
        "    def wrap_func(*args, **kwargs):\n",
        "        t1 = time()\n",
        "        result = func(*args, **kwargs)\n",
        "        t2 = time()\n",
        "        print(f'\\nCode executed in {(t2-t1):.4f}s')\n",
        "        return result\n",
        "    return wrap_func"
      ],
      "metadata": {
        "id": "KuFqGEWXGdCT"
      },
      "execution_count": null,
      "outputs": []
    },
    {
      "cell_type": "markdown",
      "source": [
        "Below I consider options of reading files with Pandas, Dask, Modin and Vaex.\n",
        "Reading the file with Pandas. I pass as an argument a list of column names."
      ],
      "metadata": {
        "id": "GswOfMzM-G3B"
      }
    },
    {
      "cell_type": "code",
      "execution_count": null,
      "metadata": {
        "colab": {
          "base_uri": "https://localhost:8080/",
          "height": 242
        },
        "id": "eg7GElpxER_r",
        "outputId": "11dc1731-9d44-45f2-824a-80ff0c849d92"
      },
      "outputs": [
        {
          "output_type": "display_data",
          "data": {
            "text/plain": [
              "   antiNucleus  eventFile  eventNumber     eventTime  histFile  multiplicity  \\\n",
              "0            1    1613423          807  2.001102e+07   1613424          4518   \n",
              "1            1    1613423          808  2.001102e+07   1613424           886   \n",
              "2            1    1613423          809  2.001102e+07   1613424           638   \n",
              "\n",
              "   NaboveLb  NbelowLb  NLb  primaryTracks      prodTime         Pt  runNumber  \\\n",
              "0         0         0  654           1395  2.001120e+07  10.955403    2288071   \n",
              "1         0         0   61            371  2.001120e+07  23.326479    2288071   \n",
              "2         0         0    7            121  2.001120e+07   2.444299    2288071   \n",
              "\n",
              "    vertexX   vertexY     vertexZ  \n",
              "0 -0.288203  0.407312   10.559091  \n",
              "1 -0.247330  0.455916   57.810596  \n",
              "2 -0.390961  0.589534  167.757140  "
            ],
            "text/html": [
              "\n",
              "  <div id=\"df-ddf98f0f-1f71-4c0a-bcc9-ea3843fcb86a\">\n",
              "    <div class=\"colab-df-container\">\n",
              "      <div>\n",
              "<style scoped>\n",
              "    .dataframe tbody tr th:only-of-type {\n",
              "        vertical-align: middle;\n",
              "    }\n",
              "\n",
              "    .dataframe tbody tr th {\n",
              "        vertical-align: top;\n",
              "    }\n",
              "\n",
              "    .dataframe thead th {\n",
              "        text-align: right;\n",
              "    }\n",
              "</style>\n",
              "<table border=\"1\" class=\"dataframe\">\n",
              "  <thead>\n",
              "    <tr style=\"text-align: right;\">\n",
              "      <th></th>\n",
              "      <th>antiNucleus</th>\n",
              "      <th>eventFile</th>\n",
              "      <th>eventNumber</th>\n",
              "      <th>eventTime</th>\n",
              "      <th>histFile</th>\n",
              "      <th>multiplicity</th>\n",
              "      <th>NaboveLb</th>\n",
              "      <th>NbelowLb</th>\n",
              "      <th>NLb</th>\n",
              "      <th>primaryTracks</th>\n",
              "      <th>prodTime</th>\n",
              "      <th>Pt</th>\n",
              "      <th>runNumber</th>\n",
              "      <th>vertexX</th>\n",
              "      <th>vertexY</th>\n",
              "      <th>vertexZ</th>\n",
              "    </tr>\n",
              "  </thead>\n",
              "  <tbody>\n",
              "    <tr>\n",
              "      <th>0</th>\n",
              "      <td>1</td>\n",
              "      <td>1613423</td>\n",
              "      <td>807</td>\n",
              "      <td>2.001102e+07</td>\n",
              "      <td>1613424</td>\n",
              "      <td>4518</td>\n",
              "      <td>0</td>\n",
              "      <td>0</td>\n",
              "      <td>654</td>\n",
              "      <td>1395</td>\n",
              "      <td>2.001120e+07</td>\n",
              "      <td>10.955403</td>\n",
              "      <td>2288071</td>\n",
              "      <td>-0.288203</td>\n",
              "      <td>0.407312</td>\n",
              "      <td>10.559091</td>\n",
              "    </tr>\n",
              "    <tr>\n",
              "      <th>1</th>\n",
              "      <td>1</td>\n",
              "      <td>1613423</td>\n",
              "      <td>808</td>\n",
              "      <td>2.001102e+07</td>\n",
              "      <td>1613424</td>\n",
              "      <td>886</td>\n",
              "      <td>0</td>\n",
              "      <td>0</td>\n",
              "      <td>61</td>\n",
              "      <td>371</td>\n",
              "      <td>2.001120e+07</td>\n",
              "      <td>23.326479</td>\n",
              "      <td>2288071</td>\n",
              "      <td>-0.247330</td>\n",
              "      <td>0.455916</td>\n",
              "      <td>57.810596</td>\n",
              "    </tr>\n",
              "    <tr>\n",
              "      <th>2</th>\n",
              "      <td>1</td>\n",
              "      <td>1613423</td>\n",
              "      <td>809</td>\n",
              "      <td>2.001102e+07</td>\n",
              "      <td>1613424</td>\n",
              "      <td>638</td>\n",
              "      <td>0</td>\n",
              "      <td>0</td>\n",
              "      <td>7</td>\n",
              "      <td>121</td>\n",
              "      <td>2.001120e+07</td>\n",
              "      <td>2.444299</td>\n",
              "      <td>2288071</td>\n",
              "      <td>-0.390961</td>\n",
              "      <td>0.589534</td>\n",
              "      <td>167.757140</td>\n",
              "    </tr>\n",
              "  </tbody>\n",
              "</table>\n",
              "</div>\n",
              "      <button class=\"colab-df-convert\" onclick=\"convertToInteractive('df-ddf98f0f-1f71-4c0a-bcc9-ea3843fcb86a')\"\n",
              "              title=\"Convert this dataframe to an interactive table.\"\n",
              "              style=\"display:none;\">\n",
              "        \n",
              "  <svg xmlns=\"http://www.w3.org/2000/svg\" height=\"24px\"viewBox=\"0 0 24 24\"\n",
              "       width=\"24px\">\n",
              "    <path d=\"M0 0h24v24H0V0z\" fill=\"none\"/>\n",
              "    <path d=\"M18.56 5.44l.94 2.06.94-2.06 2.06-.94-2.06-.94-.94-2.06-.94 2.06-2.06.94zm-11 1L8.5 8.5l.94-2.06 2.06-.94-2.06-.94L8.5 2.5l-.94 2.06-2.06.94zm10 10l.94 2.06.94-2.06 2.06-.94-2.06-.94-.94-2.06-.94 2.06-2.06.94z\"/><path d=\"M17.41 7.96l-1.37-1.37c-.4-.4-.92-.59-1.43-.59-.52 0-1.04.2-1.43.59L10.3 9.45l-7.72 7.72c-.78.78-.78 2.05 0 2.83L4 21.41c.39.39.9.59 1.41.59.51 0 1.02-.2 1.41-.59l7.78-7.78 2.81-2.81c.8-.78.8-2.07 0-2.86zM5.41 20L4 18.59l7.72-7.72 1.47 1.35L5.41 20z\"/>\n",
              "  </svg>\n",
              "      </button>\n",
              "      \n",
              "  <style>\n",
              "    .colab-df-container {\n",
              "      display:flex;\n",
              "      flex-wrap:wrap;\n",
              "      gap: 12px;\n",
              "    }\n",
              "\n",
              "    .colab-df-convert {\n",
              "      background-color: #E8F0FE;\n",
              "      border: none;\n",
              "      border-radius: 50%;\n",
              "      cursor: pointer;\n",
              "      display: none;\n",
              "      fill: #1967D2;\n",
              "      height: 32px;\n",
              "      padding: 0 0 0 0;\n",
              "      width: 32px;\n",
              "    }\n",
              "\n",
              "    .colab-df-convert:hover {\n",
              "      background-color: #E2EBFA;\n",
              "      box-shadow: 0px 1px 2px rgba(60, 64, 67, 0.3), 0px 1px 3px 1px rgba(60, 64, 67, 0.15);\n",
              "      fill: #174EA6;\n",
              "    }\n",
              "\n",
              "    [theme=dark] .colab-df-convert {\n",
              "      background-color: #3B4455;\n",
              "      fill: #D2E3FC;\n",
              "    }\n",
              "\n",
              "    [theme=dark] .colab-df-convert:hover {\n",
              "      background-color: #434B5C;\n",
              "      box-shadow: 0px 1px 3px 1px rgba(0, 0, 0, 0.15);\n",
              "      filter: drop-shadow(0px 1px 2px rgba(0, 0, 0, 0.3));\n",
              "      fill: #FFFFFF;\n",
              "    }\n",
              "  </style>\n",
              "\n",
              "      <script>\n",
              "        const buttonEl =\n",
              "          document.querySelector('#df-ddf98f0f-1f71-4c0a-bcc9-ea3843fcb86a button.colab-df-convert');\n",
              "        buttonEl.style.display =\n",
              "          google.colab.kernel.accessAllowed ? 'block' : 'none';\n",
              "\n",
              "        async function convertToInteractive(key) {\n",
              "          const element = document.querySelector('#df-ddf98f0f-1f71-4c0a-bcc9-ea3843fcb86a');\n",
              "          const dataTable =\n",
              "            await google.colab.kernel.invokeFunction('convertToInteractive',\n",
              "                                                     [key], {});\n",
              "          if (!dataTable) return;\n",
              "\n",
              "          const docLinkHtml = 'Like what you see? Visit the ' +\n",
              "            '<a target=\"_blank\" href=https://colab.research.google.com/notebooks/data_table.ipynb>data table notebook</a>'\n",
              "            + ' to learn more about interactive tables.';\n",
              "          element.innerHTML = '';\n",
              "          dataTable['output_type'] = 'display_data';\n",
              "          await google.colab.output.renderOutput(dataTable, element);\n",
              "          const docLink = document.createElement('div');\n",
              "          docLink.innerHTML = docLinkHtml;\n",
              "          element.appendChild(docLink);\n",
              "        }\n",
              "      </script>\n",
              "    </div>\n",
              "  </div>\n",
              "  "
            ]
          },
          "metadata": {}
        },
        {
          "output_type": "stream",
          "name": "stdout",
          "text": [
            "\n",
            "Code executed in 45.7380s\n"
          ]
        }
      ],
      "source": [
        "@timer\n",
        "def read_with_pandas():\n",
        "  import pandas as pd \n",
        "  import timeit\n",
        "  #\n",
        "  pd_df = pd.read_csv('star2002-full.csv', names = list_head)\n",
        "  display(pd_df.head(3))\n",
        "\n",
        "read_with_pandas()"
      ]
    },
    {
      "cell_type": "markdown",
      "source": [
        "Reading the file with Dask."
      ],
      "metadata": {
        "id": "6vNcp1cbA4pK"
      }
    },
    {
      "cell_type": "code",
      "execution_count": null,
      "metadata": {
        "id": "QXhMWeHsEVQF"
      },
      "outputs": [],
      "source": [
        "!pip install dask[dataframe] &> /dev/null\n"
      ]
    },
    {
      "cell_type": "code",
      "source": [
        "@timer\n",
        "def read_with_dask():\n",
        "  import dask.dataframe as dd\n",
        "  dask_df = dd.read_csv('star2002-full.csv', names = list_head)  \n",
        "  display(dask_df.head(3))\n",
        "\n",
        "read_with_dask()"
      ],
      "metadata": {
        "colab": {
          "base_uri": "https://localhost:8080/",
          "height": 242
        },
        "id": "LDAYtJOENqDN",
        "outputId": "4ffea1cf-a105-4719-81c3-4907dbf18d14"
      },
      "execution_count": null,
      "outputs": [
        {
          "output_type": "display_data",
          "data": {
            "text/plain": [
              "   antiNucleus  eventFile  eventNumber     eventTime  histFile  multiplicity  \\\n",
              "0            1    1613423          807  2.001102e+07   1613424          4518   \n",
              "1            1    1613423          808  2.001102e+07   1613424           886   \n",
              "2            1    1613423          809  2.001102e+07   1613424           638   \n",
              "\n",
              "   NaboveLb  NbelowLb  NLb  primaryTracks      prodTime         Pt  runNumber  \\\n",
              "0         0         0  654           1395  2.001120e+07  10.955403    2288071   \n",
              "1         0         0   61            371  2.001120e+07  23.326479    2288071   \n",
              "2         0         0    7            121  2.001120e+07   2.444299    2288071   \n",
              "\n",
              "    vertexX   vertexY     vertexZ  \n",
              "0 -0.288203  0.407312   10.559091  \n",
              "1 -0.247330  0.455916   57.810596  \n",
              "2 -0.390961  0.589534  167.757140  "
            ],
            "text/html": [
              "\n",
              "  <div id=\"df-0dc06c3f-83bd-4836-940b-4b0650f20d45\">\n",
              "    <div class=\"colab-df-container\">\n",
              "      <div>\n",
              "<style scoped>\n",
              "    .dataframe tbody tr th:only-of-type {\n",
              "        vertical-align: middle;\n",
              "    }\n",
              "\n",
              "    .dataframe tbody tr th {\n",
              "        vertical-align: top;\n",
              "    }\n",
              "\n",
              "    .dataframe thead th {\n",
              "        text-align: right;\n",
              "    }\n",
              "</style>\n",
              "<table border=\"1\" class=\"dataframe\">\n",
              "  <thead>\n",
              "    <tr style=\"text-align: right;\">\n",
              "      <th></th>\n",
              "      <th>antiNucleus</th>\n",
              "      <th>eventFile</th>\n",
              "      <th>eventNumber</th>\n",
              "      <th>eventTime</th>\n",
              "      <th>histFile</th>\n",
              "      <th>multiplicity</th>\n",
              "      <th>NaboveLb</th>\n",
              "      <th>NbelowLb</th>\n",
              "      <th>NLb</th>\n",
              "      <th>primaryTracks</th>\n",
              "      <th>prodTime</th>\n",
              "      <th>Pt</th>\n",
              "      <th>runNumber</th>\n",
              "      <th>vertexX</th>\n",
              "      <th>vertexY</th>\n",
              "      <th>vertexZ</th>\n",
              "    </tr>\n",
              "  </thead>\n",
              "  <tbody>\n",
              "    <tr>\n",
              "      <th>0</th>\n",
              "      <td>1</td>\n",
              "      <td>1613423</td>\n",
              "      <td>807</td>\n",
              "      <td>2.001102e+07</td>\n",
              "      <td>1613424</td>\n",
              "      <td>4518</td>\n",
              "      <td>0</td>\n",
              "      <td>0</td>\n",
              "      <td>654</td>\n",
              "      <td>1395</td>\n",
              "      <td>2.001120e+07</td>\n",
              "      <td>10.955403</td>\n",
              "      <td>2288071</td>\n",
              "      <td>-0.288203</td>\n",
              "      <td>0.407312</td>\n",
              "      <td>10.559091</td>\n",
              "    </tr>\n",
              "    <tr>\n",
              "      <th>1</th>\n",
              "      <td>1</td>\n",
              "      <td>1613423</td>\n",
              "      <td>808</td>\n",
              "      <td>2.001102e+07</td>\n",
              "      <td>1613424</td>\n",
              "      <td>886</td>\n",
              "      <td>0</td>\n",
              "      <td>0</td>\n",
              "      <td>61</td>\n",
              "      <td>371</td>\n",
              "      <td>2.001120e+07</td>\n",
              "      <td>23.326479</td>\n",
              "      <td>2288071</td>\n",
              "      <td>-0.247330</td>\n",
              "      <td>0.455916</td>\n",
              "      <td>57.810596</td>\n",
              "    </tr>\n",
              "    <tr>\n",
              "      <th>2</th>\n",
              "      <td>1</td>\n",
              "      <td>1613423</td>\n",
              "      <td>809</td>\n",
              "      <td>2.001102e+07</td>\n",
              "      <td>1613424</td>\n",
              "      <td>638</td>\n",
              "      <td>0</td>\n",
              "      <td>0</td>\n",
              "      <td>7</td>\n",
              "      <td>121</td>\n",
              "      <td>2.001120e+07</td>\n",
              "      <td>2.444299</td>\n",
              "      <td>2288071</td>\n",
              "      <td>-0.390961</td>\n",
              "      <td>0.589534</td>\n",
              "      <td>167.757140</td>\n",
              "    </tr>\n",
              "  </tbody>\n",
              "</table>\n",
              "</div>\n",
              "      <button class=\"colab-df-convert\" onclick=\"convertToInteractive('df-0dc06c3f-83bd-4836-940b-4b0650f20d45')\"\n",
              "              title=\"Convert this dataframe to an interactive table.\"\n",
              "              style=\"display:none;\">\n",
              "        \n",
              "  <svg xmlns=\"http://www.w3.org/2000/svg\" height=\"24px\"viewBox=\"0 0 24 24\"\n",
              "       width=\"24px\">\n",
              "    <path d=\"M0 0h24v24H0V0z\" fill=\"none\"/>\n",
              "    <path d=\"M18.56 5.44l.94 2.06.94-2.06 2.06-.94-2.06-.94-.94-2.06-.94 2.06-2.06.94zm-11 1L8.5 8.5l.94-2.06 2.06-.94-2.06-.94L8.5 2.5l-.94 2.06-2.06.94zm10 10l.94 2.06.94-2.06 2.06-.94-2.06-.94-.94-2.06-.94 2.06-2.06.94z\"/><path d=\"M17.41 7.96l-1.37-1.37c-.4-.4-.92-.59-1.43-.59-.52 0-1.04.2-1.43.59L10.3 9.45l-7.72 7.72c-.78.78-.78 2.05 0 2.83L4 21.41c.39.39.9.59 1.41.59.51 0 1.02-.2 1.41-.59l7.78-7.78 2.81-2.81c.8-.78.8-2.07 0-2.86zM5.41 20L4 18.59l7.72-7.72 1.47 1.35L5.41 20z\"/>\n",
              "  </svg>\n",
              "      </button>\n",
              "      \n",
              "  <style>\n",
              "    .colab-df-container {\n",
              "      display:flex;\n",
              "      flex-wrap:wrap;\n",
              "      gap: 12px;\n",
              "    }\n",
              "\n",
              "    .colab-df-convert {\n",
              "      background-color: #E8F0FE;\n",
              "      border: none;\n",
              "      border-radius: 50%;\n",
              "      cursor: pointer;\n",
              "      display: none;\n",
              "      fill: #1967D2;\n",
              "      height: 32px;\n",
              "      padding: 0 0 0 0;\n",
              "      width: 32px;\n",
              "    }\n",
              "\n",
              "    .colab-df-convert:hover {\n",
              "      background-color: #E2EBFA;\n",
              "      box-shadow: 0px 1px 2px rgba(60, 64, 67, 0.3), 0px 1px 3px 1px rgba(60, 64, 67, 0.15);\n",
              "      fill: #174EA6;\n",
              "    }\n",
              "\n",
              "    [theme=dark] .colab-df-convert {\n",
              "      background-color: #3B4455;\n",
              "      fill: #D2E3FC;\n",
              "    }\n",
              "\n",
              "    [theme=dark] .colab-df-convert:hover {\n",
              "      background-color: #434B5C;\n",
              "      box-shadow: 0px 1px 3px 1px rgba(0, 0, 0, 0.15);\n",
              "      filter: drop-shadow(0px 1px 2px rgba(0, 0, 0, 0.3));\n",
              "      fill: #FFFFFF;\n",
              "    }\n",
              "  </style>\n",
              "\n",
              "      <script>\n",
              "        const buttonEl =\n",
              "          document.querySelector('#df-0dc06c3f-83bd-4836-940b-4b0650f20d45 button.colab-df-convert');\n",
              "        buttonEl.style.display =\n",
              "          google.colab.kernel.accessAllowed ? 'block' : 'none';\n",
              "\n",
              "        async function convertToInteractive(key) {\n",
              "          const element = document.querySelector('#df-0dc06c3f-83bd-4836-940b-4b0650f20d45');\n",
              "          const dataTable =\n",
              "            await google.colab.kernel.invokeFunction('convertToInteractive',\n",
              "                                                     [key], {});\n",
              "          if (!dataTable) return;\n",
              "\n",
              "          const docLinkHtml = 'Like what you see? Visit the ' +\n",
              "            '<a target=\"_blank\" href=https://colab.research.google.com/notebooks/data_table.ipynb>data table notebook</a>'\n",
              "            + ' to learn more about interactive tables.';\n",
              "          element.innerHTML = '';\n",
              "          dataTable['output_type'] = 'display_data';\n",
              "          await google.colab.output.renderOutput(dataTable, element);\n",
              "          const docLink = document.createElement('div');\n",
              "          docLink.innerHTML = docLinkHtml;\n",
              "          element.appendChild(docLink);\n",
              "        }\n",
              "      </script>\n",
              "    </div>\n",
              "  </div>\n",
              "  "
            ]
          },
          "metadata": {}
        },
        {
          "output_type": "stream",
          "name": "stdout",
          "text": [
            "\n",
            "Code executed in 1.6563s\n"
          ]
        }
      ]
    },
    {
      "cell_type": "markdown",
      "source": [
        "Reading the file with Modin."
      ],
      "metadata": {
        "id": "lHTF34j9A_jB"
      }
    },
    {
      "cell_type": "code",
      "source": [
        "!pip install modin &> /dev/null\n",
        "!pip install ray &> /dev/null"
      ],
      "metadata": {
        "id": "3uqiSUCWNs6o"
      },
      "execution_count": null,
      "outputs": []
    },
    {
      "cell_type": "code",
      "source": [
        "import ray\n",
        "#ray.shutdown()\n",
        "ray.init()"
      ],
      "metadata": {
        "colab": {
          "base_uri": "https://localhost:8080/"
        },
        "id": "NPAR-8GVTlg9",
        "outputId": "6c57a985-3527-4a11-a085-a1231dc0b4b2"
      },
      "execution_count": null,
      "outputs": [
        {
          "output_type": "execute_result",
          "data": {
            "text/plain": [
              "RayContext(dashboard_url='', python_version='3.7.13', ray_version='1.12.1', ray_commit='4863e33856b54ccf8add5cbe75e41558850a1b75', address_info={'node_ip_address': '172.28.0.2', 'raylet_ip_address': '172.28.0.2', 'redis_address': None, 'object_store_address': '/tmp/ray/session_2022-06-03_03-51-56_032085_3057/sockets/plasma_store', 'raylet_socket_name': '/tmp/ray/session_2022-06-03_03-51-56_032085_3057/sockets/raylet', 'webui_url': '', 'session_dir': '/tmp/ray/session_2022-06-03_03-51-56_032085_3057', 'metrics_export_port': 58860, 'gcs_address': '172.28.0.2:60610', 'address': '172.28.0.2:60610', 'node_id': '4a30451414330feaf7d761418d102fbced08277f8a661331959c303b'})"
            ]
          },
          "metadata": {},
          "execution_count": 6
        }
      ]
    },
    {
      "cell_type": "code",
      "source": [
        "@timer\n",
        "def read_with_modin():\n",
        "  import modin.pandas as mpd\n",
        "  modin_df = mpd.read_csv('star2002-full.csv', names = list_head)\n",
        "  display(modin_df.head(3))\n",
        "\n",
        "read_with_modin() "
      ],
      "metadata": {
        "id": "5NGHuex9TGqN",
        "outputId": "c45d41ca-5e68-4899-bc07-72fbe1eb8737",
        "colab": {
          "base_uri": "https://localhost:8080/",
          "height": 198
        }
      },
      "execution_count": null,
      "outputs": [
        {
          "output_type": "display_data",
          "data": {
            "text/plain": [
              "   antiNucleus  eventFile  eventNumber     eventTime  histFile  multiplicity  \\\n",
              "0            1    1613423          807  2.001102e+07   1613424          4518   \n",
              "1            1    1613423          808  2.001102e+07   1613424           886   \n",
              "2            1    1613423          809  2.001102e+07   1613424           638   \n",
              "\n",
              "   NaboveLb  NbelowLb  NLb  primaryTracks      prodTime         Pt  runNumber  \\\n",
              "0         0         0  654           1395  2.001120e+07  10.955403    2288071   \n",
              "1         0         0   61            371  2.001120e+07  23.326479    2288071   \n",
              "2         0         0    7            121  2.001120e+07   2.444299    2288071   \n",
              "\n",
              "    vertexX   vertexY     vertexZ  \n",
              "0 -0.288203  0.407312   10.559091  \n",
              "1 -0.247330  0.455916   57.810596  \n",
              "2 -0.390961  0.589534  167.757140  "
            ],
            "text/html": [
              "<div>\n",
              "<style scoped>\n",
              "    .dataframe tbody tr th:only-of-type {\n",
              "        vertical-align: middle;\n",
              "    }\n",
              "\n",
              "    .dataframe tbody tr th {\n",
              "        vertical-align: top;\n",
              "    }\n",
              "\n",
              "    .dataframe thead th {\n",
              "        text-align: right;\n",
              "    }\n",
              "</style>\n",
              "<table border=\"1\" class=\"dataframe\">\n",
              "  <thead>\n",
              "    <tr style=\"text-align: right;\">\n",
              "      <th></th>\n",
              "      <th>antiNucleus</th>\n",
              "      <th>eventFile</th>\n",
              "      <th>eventNumber</th>\n",
              "      <th>eventTime</th>\n",
              "      <th>histFile</th>\n",
              "      <th>multiplicity</th>\n",
              "      <th>NaboveLb</th>\n",
              "      <th>NbelowLb</th>\n",
              "      <th>NLb</th>\n",
              "      <th>primaryTracks</th>\n",
              "      <th>prodTime</th>\n",
              "      <th>Pt</th>\n",
              "      <th>runNumber</th>\n",
              "      <th>vertexX</th>\n",
              "      <th>vertexY</th>\n",
              "      <th>vertexZ</th>\n",
              "    </tr>\n",
              "  </thead>\n",
              "  <tbody>\n",
              "    <tr>\n",
              "      <th>0</th>\n",
              "      <td>1</td>\n",
              "      <td>1613423</td>\n",
              "      <td>807</td>\n",
              "      <td>2.001102e+07</td>\n",
              "      <td>1613424</td>\n",
              "      <td>4518</td>\n",
              "      <td>0</td>\n",
              "      <td>0</td>\n",
              "      <td>654</td>\n",
              "      <td>1395</td>\n",
              "      <td>2.001120e+07</td>\n",
              "      <td>10.955403</td>\n",
              "      <td>2288071</td>\n",
              "      <td>-0.288203</td>\n",
              "      <td>0.407312</td>\n",
              "      <td>10.559091</td>\n",
              "    </tr>\n",
              "    <tr>\n",
              "      <th>1</th>\n",
              "      <td>1</td>\n",
              "      <td>1613423</td>\n",
              "      <td>808</td>\n",
              "      <td>2.001102e+07</td>\n",
              "      <td>1613424</td>\n",
              "      <td>886</td>\n",
              "      <td>0</td>\n",
              "      <td>0</td>\n",
              "      <td>61</td>\n",
              "      <td>371</td>\n",
              "      <td>2.001120e+07</td>\n",
              "      <td>23.326479</td>\n",
              "      <td>2288071</td>\n",
              "      <td>-0.247330</td>\n",
              "      <td>0.455916</td>\n",
              "      <td>57.810596</td>\n",
              "    </tr>\n",
              "    <tr>\n",
              "      <th>2</th>\n",
              "      <td>1</td>\n",
              "      <td>1613423</td>\n",
              "      <td>809</td>\n",
              "      <td>2.001102e+07</td>\n",
              "      <td>1613424</td>\n",
              "      <td>638</td>\n",
              "      <td>0</td>\n",
              "      <td>0</td>\n",
              "      <td>7</td>\n",
              "      <td>121</td>\n",
              "      <td>2.001120e+07</td>\n",
              "      <td>2.444299</td>\n",
              "      <td>2288071</td>\n",
              "      <td>-0.390961</td>\n",
              "      <td>0.589534</td>\n",
              "      <td>167.757140</td>\n",
              "    </tr>\n",
              "  </tbody>\n",
              "</table>\n",
              "</div>"
            ]
          },
          "metadata": {}
        },
        {
          "output_type": "stream",
          "name": "stdout",
          "text": [
            "\n",
            "Code executed in 44.6053s\n"
          ]
        }
      ]
    },
    {
      "cell_type": "markdown",
      "source": [
        "Reading the file with Vaex."
      ],
      "metadata": {
        "id": "lU7QVJMGBCwB"
      }
    },
    {
      "cell_type": "code",
      "source": [
        "!pip install vaex &> /dev/null"
      ],
      "metadata": {
        "id": "GPnoVBlBlAWj"
      },
      "execution_count": null,
      "outputs": []
    },
    {
      "cell_type": "code",
      "source": [
        "@timer\n",
        "def read_with_vaex():  \n",
        "  import vaex\n",
        "  vaex_df = vaex.from_csv('star2002-full.csv', names = list_head)\n",
        "  display(vaex_df.head(3))\n",
        "\n",
        "read_with_vaex()"
      ],
      "metadata": {
        "colab": {
          "base_uri": "https://localhost:8080/",
          "height": 159
        },
        "id": "0Rn6Q0C0o40v",
        "outputId": "dd13bf0b-9021-4f5b-e1b3-101429a0d920"
      },
      "execution_count": null,
      "outputs": [
        {
          "output_type": "display_data",
          "data": {
            "text/html": [
              "<table>\n",
              "<thead>\n",
              "<tr><th>#                            </th><th style=\"text-align: right;\">  antiNucleus</th><th style=\"text-align: right;\">  eventFile</th><th style=\"text-align: right;\">  eventNumber</th><th style=\"text-align: right;\">  eventTime</th><th style=\"text-align: right;\">  histFile</th><th style=\"text-align: right;\">  multiplicity</th><th style=\"text-align: right;\">  NaboveLb</th><th style=\"text-align: right;\">  NbelowLb</th><th style=\"text-align: right;\">  NLb</th><th style=\"text-align: right;\">  primaryTracks</th><th style=\"text-align: right;\">   prodTime</th><th style=\"text-align: right;\">     Pt</th><th style=\"text-align: right;\">  runNumber</th><th style=\"text-align: right;\">  vertexX</th><th style=\"text-align: right;\">  vertexY</th><th style=\"text-align: right;\">  vertexZ</th></tr>\n",
              "</thead>\n",
              "<tbody>\n",
              "<tr><td><i style='opacity: 0.6'>0</i></td><td style=\"text-align: right;\">            1</td><td style=\"text-align: right;\">    1613423</td><td style=\"text-align: right;\">          807</td><td style=\"text-align: right;\"> 2.0011e+07</td><td style=\"text-align: right;\">   1613424</td><td style=\"text-align: right;\">          4518</td><td style=\"text-align: right;\">         0</td><td style=\"text-align: right;\">         0</td><td style=\"text-align: right;\">  654</td><td style=\"text-align: right;\">           1395</td><td style=\"text-align: right;\">2.00112e+07</td><td style=\"text-align: right;\">10.9554</td><td style=\"text-align: right;\">    2288071</td><td style=\"text-align: right;\">-0.288203</td><td style=\"text-align: right;\"> 0.407312</td><td style=\"text-align: right;\">  10.5591</td></tr>\n",
              "<tr><td><i style='opacity: 0.6'>1</i></td><td style=\"text-align: right;\">            1</td><td style=\"text-align: right;\">    1613423</td><td style=\"text-align: right;\">          808</td><td style=\"text-align: right;\"> 2.0011e+07</td><td style=\"text-align: right;\">   1613424</td><td style=\"text-align: right;\">           886</td><td style=\"text-align: right;\">         0</td><td style=\"text-align: right;\">         0</td><td style=\"text-align: right;\">   61</td><td style=\"text-align: right;\">            371</td><td style=\"text-align: right;\">2.00112e+07</td><td style=\"text-align: right;\">23.3265</td><td style=\"text-align: right;\">    2288071</td><td style=\"text-align: right;\">-0.24733 </td><td style=\"text-align: right;\"> 0.455916</td><td style=\"text-align: right;\">  57.8106</td></tr>\n",
              "<tr><td><i style='opacity: 0.6'>2</i></td><td style=\"text-align: right;\">            1</td><td style=\"text-align: right;\">    1613423</td><td style=\"text-align: right;\">          809</td><td style=\"text-align: right;\"> 2.0011e+07</td><td style=\"text-align: right;\">   1613424</td><td style=\"text-align: right;\">           638</td><td style=\"text-align: right;\">         0</td><td style=\"text-align: right;\">         0</td><td style=\"text-align: right;\">    7</td><td style=\"text-align: right;\">            121</td><td style=\"text-align: right;\">2.00112e+07</td><td style=\"text-align: right;\"> 2.4443</td><td style=\"text-align: right;\">    2288071</td><td style=\"text-align: right;\">-0.390961</td><td style=\"text-align: right;\"> 0.589534</td><td style=\"text-align: right;\"> 167.757 </td></tr>\n",
              "</tbody>\n",
              "</table>"
            ],
            "text/plain": [
              "  #    antiNucleus    eventFile    eventNumber    eventTime    histFile    multiplicity    NaboveLb    NbelowLb    NLb    primaryTracks     prodTime       Pt    runNumber    vertexX    vertexY    vertexZ\n",
              "  0              1      1613423            807   2.0011e+07     1613424            4518           0           0    654             1395  2.00112e+07  10.9554      2288071  -0.288203   0.407312    10.5591\n",
              "  1              1      1613423            808   2.0011e+07     1613424             886           0           0     61              371  2.00112e+07  23.3265      2288071  -0.24733    0.455916    57.8106\n",
              "  2              1      1613423            809   2.0011e+07     1613424             638           0           0      7              121  2.00112e+07   2.4443      2288071  -0.390961   0.589534   167.757"
            ]
          },
          "metadata": {}
        },
        {
          "output_type": "stream",
          "name": "stdout",
          "text": [
            "\n",
            "Code executed in 66.9928s\n"
          ]
        }
      ]
    },
    {
      "cell_type": "markdown",
      "source": [
        "We can see that reading the file with Dask takes the least amount of time. Next step is to create a file that proceeds column names in a dataframe and checks if it matches information in a config file. I apply to column names functions that make all the letters lowercase and insert an underscore between separate words."
      ],
      "metadata": {
        "id": "ADa3Lk12BSrE"
      }
    },
    {
      "cell_type": "code",
      "source": [
        "%%writefile testutility.py\n",
        "import logging\n",
        "import os\n",
        "import subprocess\n",
        "import yaml\n",
        "import pandas as pd\n",
        "import datetime \n",
        "import re\n",
        "\n",
        "def read_config_file(filepath):\n",
        "    with open(filepath, 'r') as file:\n",
        "        try:\n",
        "            return yaml.safe_load(file)\n",
        "        except yaml.YAMLError as exc:\n",
        "            logging.error(exc)\n",
        "\n",
        "def separate(string):\n",
        "    res = any(ele.isupper() for ele in string[1:])\n",
        "    if not str.isupper(string[0]) and res == True:\n",
        "      pattern = re.search(r'^([^A-Z]*[A-Z]){1}', string)\n",
        "      ind = pattern.span()[1]-1\n",
        "      modified_str = string[:ind] + '_' + string[ind:] \n",
        "      return modified_str\n",
        "    elif str.isupper(string[0]) and res == True:\n",
        "      pattern = re.search(r'^([^A-Z]*[A-Z]){2}', string)\n",
        "      ind = pattern.span()[1]-1\n",
        "      modified_str = string[:ind] + '_' + string[ind:] \n",
        "      return modified_str\n",
        "    else:\n",
        "      pattern = re.search(r'^([^A-Z]*[A-Z]){1}', string)\n",
        "      return string \n",
        "\n",
        "def col_header_val(df,table_config):\n",
        "    '''\n",
        "    replace whitespaces in the column\n",
        "    and standardized column names\n",
        "    '''\n",
        "    df.columns = list(map(lambda x: separate(x), list(df.columns)))\n",
        "    df.columns = df.columns.str.lower()\n",
        " \n",
        "    expected_col = list(map(lambda x: x.lower(),  table_config['columns']))\n",
        "    expected_col.sort()\n",
        "    df.columns =list(map(lambda x: x.lower(), list(df.columns)))\n",
        "    df = df.reindex(sorted(df.columns), axis=1)\n",
        "    \n",
        "    if len(df.columns) == len(expected_col) and list(expected_col)  == list(df.columns):\n",
        "        print(\"column name and column length validation passed\")\n",
        "        return 1\n",
        "    else:\n",
        "        print(\"column name and column length validation failed\")\n",
        "        mismatched_columns_file = list(set(df.columns).difference(expected_col))\n",
        "        print(\"Following File columns are not in the YAML file\",mismatched_columns_file)\n",
        "        missing_YAML_file = list(set(expected_col).difference(df.columns))\n",
        "        print(\"Following YAML columns are not in the file uploaded\",missing_YAML_file)\n",
        "        logging.info(f'df columns: {df.columns}')\n",
        "        logging.info(f'expected columns: {expected_col}')\n",
        "        return 0"
      ],
      "metadata": {
        "id": "LjUcNtCOqkDT",
        "colab": {
          "base_uri": "https://localhost:8080/"
        },
        "outputId": "807647f1-4ffe-44f4-a0a9-07b920a88b1d"
      },
      "execution_count": null,
      "outputs": [
        {
          "output_type": "stream",
          "name": "stdout",
          "text": [
            "Writing testutility.py\n"
          ]
        }
      ]
    },
    {
      "cell_type": "markdown",
      "source": [
        "It's needed to write a YAML file to specify the file schema. I mention file type, name, delimiters, final column names, etc."
      ],
      "metadata": {
        "id": "AinoMhQn5tDB"
      }
    },
    {
      "cell_type": "code",
      "source": [
        "%%writefile file.yaml\n",
        "file_type: csv\n",
        "file_name: star2002-full\n",
        "inbound_delimiter: \",\"\n",
        "outbound_delimiter: \"|\"\n",
        "skip_leading_rows: 0\n",
        "columns: \n",
        "    - anti_nucleus\n",
        "    - event_file\n",
        "    - event_number\n",
        "    - event_time\n",
        "    - hist_file\n",
        "    - multiplicity\n",
        "    - nabove_lb\n",
        "    - nbelow_lb\n",
        "    - n_lb\n",
        "    - primary_tracks\n",
        "    - prod_time\n",
        "    - pt\n",
        "    - run_number\n",
        "    - vertex_x\n",
        "    - vertex_y\n",
        "    - vertex_z"
      ],
      "metadata": {
        "colab": {
          "base_uri": "https://localhost:8080/"
        },
        "id": "3SOuwg6EXH5b",
        "outputId": "63524070-c89c-4ffa-b140-726781fa23a3"
      },
      "execution_count": null,
      "outputs": [
        {
          "output_type": "stream",
          "name": "stdout",
          "text": [
            "Overwriting file.yaml\n"
          ]
        }
      ]
    },
    {
      "cell_type": "code",
      "source": [
        "# Read config file\n",
        "import testutility as util\n",
        "config_data = util.read_config_file(\"file.yaml\")"
      ],
      "metadata": {
        "id": "WgvOz5b4e6Te"
      },
      "execution_count": null,
      "outputs": []
    },
    {
      "cell_type": "code",
      "source": [
        "#print config data\n",
        "config_data"
      ],
      "metadata": {
        "colab": {
          "base_uri": "https://localhost:8080/"
        },
        "id": "Gb6QsKd8iqfu",
        "outputId": "d3586947-8b4a-484c-c25e-de4cd2dfbe40"
      },
      "execution_count": null,
      "outputs": [
        {
          "output_type": "execute_result",
          "data": {
            "text/plain": [
              "{'file_type': 'csv',\n",
              " 'file_name': 'star2002-full',\n",
              " 'inbound_delimiter': ',',\n",
              " 'outbound_delimiter': '|',\n",
              " 'skip_leading_rows': 0,\n",
              " 'columns': ['anti_nucleus',\n",
              "  'event_file',\n",
              "  'event_number',\n",
              "  'event_time',\n",
              "  'hist_file',\n",
              "  'multiplicity',\n",
              "  'nabove_lb',\n",
              "  'nbelow_lb',\n",
              "  'n_lb',\n",
              "  'primary_tracks',\n",
              "  'prod_time',\n",
              "  'pt',\n",
              "  'run_number',\n",
              "  'vertex_x',\n",
              "  'vertex_y',\n",
              "  'vertex_z']}"
            ]
          },
          "metadata": {},
          "execution_count": 16
        }
      ]
    },
    {
      "cell_type": "markdown",
      "source": [
        "After creating the config file I should choose the fastest option for reading and further validation of the file. Since using Dask is the fastest one but Dask dataframe has not attribute 'reindex', I choose to read the file with Dask and convert it to pandas dataframe using 'compute' method. We can see that reading with Dask and and converting to pandas df runs faster than just reading with Modin, Vaex and Pandas."
      ],
      "metadata": {
        "id": "2xXWJQ556HPz"
      }
    },
    {
      "cell_type": "code",
      "source": [
        "#reading dataframe with Dask and converting to pandas dataframe object\n",
        "@timer\n",
        "def read_df_dask():\n",
        "  import dask.dataframe as dd\n",
        "  # read the file using config file\n",
        "  file_type = config_data['file_type']\n",
        "  source_file = \"./\" + config_data['file_name'] + f'.{file_type}'\n",
        "  global df_dask_to_pd\n",
        "  df_dask_to_pd = dd.read_csv(source_file,names = list_head, delimiter = config_data['inbound_delimiter']).compute() #.compute()\n",
        "  display(df_dask_to_pd.head(3))\n",
        "\n",
        "read_df_dask()"
      ],
      "metadata": {
        "colab": {
          "base_uri": "https://localhost:8080/",
          "height": 225
        },
        "id": "3J9oLUbCluMX",
        "outputId": "da926fce-f22a-4c00-f230-f2220249e85b"
      },
      "execution_count": null,
      "outputs": [
        {
          "output_type": "display_data",
          "data": {
            "text/plain": [
              "   antiNucleus  eventFile  eventNumber     eventTime  histFile  multiplicity  \\\n",
              "0            1    1613423          807  2.001102e+07   1613424          4518   \n",
              "1            1    1613423          808  2.001102e+07   1613424           886   \n",
              "2            1    1613423          809  2.001102e+07   1613424           638   \n",
              "\n",
              "   NaboveLb  NbelowLb  NLb  primaryTracks      prodTime         Pt  runNumber  \\\n",
              "0         0         0  654           1395  2.001120e+07  10.955403    2288071   \n",
              "1         0         0   61            371  2.001120e+07  23.326479    2288071   \n",
              "2         0         0    7            121  2.001120e+07   2.444299    2288071   \n",
              "\n",
              "    vertexX   vertexY     vertexZ  \n",
              "0 -0.288203  0.407312   10.559091  \n",
              "1 -0.247330  0.455916   57.810596  \n",
              "2 -0.390961  0.589534  167.757140  "
            ],
            "text/html": [
              "\n",
              "  <div id=\"df-6a5da46e-3439-4b4e-b9da-df521038ab89\">\n",
              "    <div class=\"colab-df-container\">\n",
              "      <div>\n",
              "<style scoped>\n",
              "    .dataframe tbody tr th:only-of-type {\n",
              "        vertical-align: middle;\n",
              "    }\n",
              "\n",
              "    .dataframe tbody tr th {\n",
              "        vertical-align: top;\n",
              "    }\n",
              "\n",
              "    .dataframe thead th {\n",
              "        text-align: right;\n",
              "    }\n",
              "</style>\n",
              "<table border=\"1\" class=\"dataframe\">\n",
              "  <thead>\n",
              "    <tr style=\"text-align: right;\">\n",
              "      <th></th>\n",
              "      <th>antiNucleus</th>\n",
              "      <th>eventFile</th>\n",
              "      <th>eventNumber</th>\n",
              "      <th>eventTime</th>\n",
              "      <th>histFile</th>\n",
              "      <th>multiplicity</th>\n",
              "      <th>NaboveLb</th>\n",
              "      <th>NbelowLb</th>\n",
              "      <th>NLb</th>\n",
              "      <th>primaryTracks</th>\n",
              "      <th>prodTime</th>\n",
              "      <th>Pt</th>\n",
              "      <th>runNumber</th>\n",
              "      <th>vertexX</th>\n",
              "      <th>vertexY</th>\n",
              "      <th>vertexZ</th>\n",
              "    </tr>\n",
              "  </thead>\n",
              "  <tbody>\n",
              "    <tr>\n",
              "      <th>0</th>\n",
              "      <td>1</td>\n",
              "      <td>1613423</td>\n",
              "      <td>807</td>\n",
              "      <td>2.001102e+07</td>\n",
              "      <td>1613424</td>\n",
              "      <td>4518</td>\n",
              "      <td>0</td>\n",
              "      <td>0</td>\n",
              "      <td>654</td>\n",
              "      <td>1395</td>\n",
              "      <td>2.001120e+07</td>\n",
              "      <td>10.955403</td>\n",
              "      <td>2288071</td>\n",
              "      <td>-0.288203</td>\n",
              "      <td>0.407312</td>\n",
              "      <td>10.559091</td>\n",
              "    </tr>\n",
              "    <tr>\n",
              "      <th>1</th>\n",
              "      <td>1</td>\n",
              "      <td>1613423</td>\n",
              "      <td>808</td>\n",
              "      <td>2.001102e+07</td>\n",
              "      <td>1613424</td>\n",
              "      <td>886</td>\n",
              "      <td>0</td>\n",
              "      <td>0</td>\n",
              "      <td>61</td>\n",
              "      <td>371</td>\n",
              "      <td>2.001120e+07</td>\n",
              "      <td>23.326479</td>\n",
              "      <td>2288071</td>\n",
              "      <td>-0.247330</td>\n",
              "      <td>0.455916</td>\n",
              "      <td>57.810596</td>\n",
              "    </tr>\n",
              "    <tr>\n",
              "      <th>2</th>\n",
              "      <td>1</td>\n",
              "      <td>1613423</td>\n",
              "      <td>809</td>\n",
              "      <td>2.001102e+07</td>\n",
              "      <td>1613424</td>\n",
              "      <td>638</td>\n",
              "      <td>0</td>\n",
              "      <td>0</td>\n",
              "      <td>7</td>\n",
              "      <td>121</td>\n",
              "      <td>2.001120e+07</td>\n",
              "      <td>2.444299</td>\n",
              "      <td>2288071</td>\n",
              "      <td>-0.390961</td>\n",
              "      <td>0.589534</td>\n",
              "      <td>167.757140</td>\n",
              "    </tr>\n",
              "  </tbody>\n",
              "</table>\n",
              "</div>\n",
              "      <button class=\"colab-df-convert\" onclick=\"convertToInteractive('df-6a5da46e-3439-4b4e-b9da-df521038ab89')\"\n",
              "              title=\"Convert this dataframe to an interactive table.\"\n",
              "              style=\"display:none;\">\n",
              "        \n",
              "  <svg xmlns=\"http://www.w3.org/2000/svg\" height=\"24px\"viewBox=\"0 0 24 24\"\n",
              "       width=\"24px\">\n",
              "    <path d=\"M0 0h24v24H0V0z\" fill=\"none\"/>\n",
              "    <path d=\"M18.56 5.44l.94 2.06.94-2.06 2.06-.94-2.06-.94-.94-2.06-.94 2.06-2.06.94zm-11 1L8.5 8.5l.94-2.06 2.06-.94-2.06-.94L8.5 2.5l-.94 2.06-2.06.94zm10 10l.94 2.06.94-2.06 2.06-.94-2.06-.94-.94-2.06-.94 2.06-2.06.94z\"/><path d=\"M17.41 7.96l-1.37-1.37c-.4-.4-.92-.59-1.43-.59-.52 0-1.04.2-1.43.59L10.3 9.45l-7.72 7.72c-.78.78-.78 2.05 0 2.83L4 21.41c.39.39.9.59 1.41.59.51 0 1.02-.2 1.41-.59l7.78-7.78 2.81-2.81c.8-.78.8-2.07 0-2.86zM5.41 20L4 18.59l7.72-7.72 1.47 1.35L5.41 20z\"/>\n",
              "  </svg>\n",
              "      </button>\n",
              "      \n",
              "  <style>\n",
              "    .colab-df-container {\n",
              "      display:flex;\n",
              "      flex-wrap:wrap;\n",
              "      gap: 12px;\n",
              "    }\n",
              "\n",
              "    .colab-df-convert {\n",
              "      background-color: #E8F0FE;\n",
              "      border: none;\n",
              "      border-radius: 50%;\n",
              "      cursor: pointer;\n",
              "      display: none;\n",
              "      fill: #1967D2;\n",
              "      height: 32px;\n",
              "      padding: 0 0 0 0;\n",
              "      width: 32px;\n",
              "    }\n",
              "\n",
              "    .colab-df-convert:hover {\n",
              "      background-color: #E2EBFA;\n",
              "      box-shadow: 0px 1px 2px rgba(60, 64, 67, 0.3), 0px 1px 3px 1px rgba(60, 64, 67, 0.15);\n",
              "      fill: #174EA6;\n",
              "    }\n",
              "\n",
              "    [theme=dark] .colab-df-convert {\n",
              "      background-color: #3B4455;\n",
              "      fill: #D2E3FC;\n",
              "    }\n",
              "\n",
              "    [theme=dark] .colab-df-convert:hover {\n",
              "      background-color: #434B5C;\n",
              "      box-shadow: 0px 1px 3px 1px rgba(0, 0, 0, 0.15);\n",
              "      filter: drop-shadow(0px 1px 2px rgba(0, 0, 0, 0.3));\n",
              "      fill: #FFFFFF;\n",
              "    }\n",
              "  </style>\n",
              "\n",
              "      <script>\n",
              "        const buttonEl =\n",
              "          document.querySelector('#df-6a5da46e-3439-4b4e-b9da-df521038ab89 button.colab-df-convert');\n",
              "        buttonEl.style.display =\n",
              "          google.colab.kernel.accessAllowed ? 'block' : 'none';\n",
              "\n",
              "        async function convertToInteractive(key) {\n",
              "          const element = document.querySelector('#df-6a5da46e-3439-4b4e-b9da-df521038ab89');\n",
              "          const dataTable =\n",
              "            await google.colab.kernel.invokeFunction('convertToInteractive',\n",
              "                                                     [key], {});\n",
              "          if (!dataTable) return;\n",
              "\n",
              "          const docLinkHtml = 'Like what you see? Visit the ' +\n",
              "            '<a target=\"_blank\" href=https://colab.research.google.com/notebooks/data_table.ipynb>data table notebook</a>'\n",
              "            + ' to learn more about interactive tables.';\n",
              "          element.innerHTML = '';\n",
              "          dataTable['output_type'] = 'display_data';\n",
              "          await google.colab.output.renderOutput(dataTable, element);\n",
              "          const docLink = document.createElement('div');\n",
              "          docLink.innerHTML = docLinkHtml;\n",
              "          element.appendChild(docLink);\n",
              "        }\n",
              "      </script>\n",
              "    </div>\n",
              "  </div>\n",
              "  "
            ]
          },
          "metadata": {}
        },
        {
          "output_type": "stream",
          "name": "stdout",
          "text": [
            "Code executed in 31.4915s\n"
          ]
        }
      ]
    },
    {
      "cell_type": "code",
      "source": [
        "import warnings\n",
        "warnings.filterwarnings('ignore')\n",
        "\n",
        "#reading dataframe with pandas, cab see that it takes longer time\n",
        "@timer\n",
        "def read_df_pd():\n",
        "  import pandas as pd  \n",
        "  # read the file using config file\n",
        "  file_type = config_data['file_type']\n",
        "  source_file = \"./\" + config_data['file_name'] + f'.{file_type}'\n",
        "  global df_pd \n",
        "  df_pd = pd.read_csv(source_file,config_data['inbound_delimiter'], names = list_head)\n",
        "  display(df_pd.head(3))\n",
        "\n",
        "read_df_pd()"
      ],
      "metadata": {
        "id": "-0GKW1F9VfM7",
        "colab": {
          "base_uri": "https://localhost:8080/",
          "height": 242
        },
        "outputId": "c0afcf4b-db71-4659-b98e-2b5bdf119d10"
      },
      "execution_count": null,
      "outputs": [
        {
          "output_type": "display_data",
          "data": {
            "text/plain": [
              "   antiNucleus  eventFile  eventNumber     eventTime  histFile  multiplicity  \\\n",
              "0            1    1613423          807  2.001102e+07   1613424          4518   \n",
              "1            1    1613423          808  2.001102e+07   1613424           886   \n",
              "2            1    1613423          809  2.001102e+07   1613424           638   \n",
              "\n",
              "   NaboveLb  NbelowLb  NLb  primaryTracks      prodTime         Pt  runNumber  \\\n",
              "0         0         0  654           1395  2.001120e+07  10.955403    2288071   \n",
              "1         0         0   61            371  2.001120e+07  23.326479    2288071   \n",
              "2         0         0    7            121  2.001120e+07   2.444299    2288071   \n",
              "\n",
              "    vertexX   vertexY     vertexZ  \n",
              "0 -0.288203  0.407312   10.559091  \n",
              "1 -0.247330  0.455916   57.810596  \n",
              "2 -0.390961  0.589534  167.757140  "
            ],
            "text/html": [
              "\n",
              "  <div id=\"df-0cee2624-8002-4c34-9462-9c111f237919\">\n",
              "    <div class=\"colab-df-container\">\n",
              "      <div>\n",
              "<style scoped>\n",
              "    .dataframe tbody tr th:only-of-type {\n",
              "        vertical-align: middle;\n",
              "    }\n",
              "\n",
              "    .dataframe tbody tr th {\n",
              "        vertical-align: top;\n",
              "    }\n",
              "\n",
              "    .dataframe thead th {\n",
              "        text-align: right;\n",
              "    }\n",
              "</style>\n",
              "<table border=\"1\" class=\"dataframe\">\n",
              "  <thead>\n",
              "    <tr style=\"text-align: right;\">\n",
              "      <th></th>\n",
              "      <th>antiNucleus</th>\n",
              "      <th>eventFile</th>\n",
              "      <th>eventNumber</th>\n",
              "      <th>eventTime</th>\n",
              "      <th>histFile</th>\n",
              "      <th>multiplicity</th>\n",
              "      <th>NaboveLb</th>\n",
              "      <th>NbelowLb</th>\n",
              "      <th>NLb</th>\n",
              "      <th>primaryTracks</th>\n",
              "      <th>prodTime</th>\n",
              "      <th>Pt</th>\n",
              "      <th>runNumber</th>\n",
              "      <th>vertexX</th>\n",
              "      <th>vertexY</th>\n",
              "      <th>vertexZ</th>\n",
              "    </tr>\n",
              "  </thead>\n",
              "  <tbody>\n",
              "    <tr>\n",
              "      <th>0</th>\n",
              "      <td>1</td>\n",
              "      <td>1613423</td>\n",
              "      <td>807</td>\n",
              "      <td>2.001102e+07</td>\n",
              "      <td>1613424</td>\n",
              "      <td>4518</td>\n",
              "      <td>0</td>\n",
              "      <td>0</td>\n",
              "      <td>654</td>\n",
              "      <td>1395</td>\n",
              "      <td>2.001120e+07</td>\n",
              "      <td>10.955403</td>\n",
              "      <td>2288071</td>\n",
              "      <td>-0.288203</td>\n",
              "      <td>0.407312</td>\n",
              "      <td>10.559091</td>\n",
              "    </tr>\n",
              "    <tr>\n",
              "      <th>1</th>\n",
              "      <td>1</td>\n",
              "      <td>1613423</td>\n",
              "      <td>808</td>\n",
              "      <td>2.001102e+07</td>\n",
              "      <td>1613424</td>\n",
              "      <td>886</td>\n",
              "      <td>0</td>\n",
              "      <td>0</td>\n",
              "      <td>61</td>\n",
              "      <td>371</td>\n",
              "      <td>2.001120e+07</td>\n",
              "      <td>23.326479</td>\n",
              "      <td>2288071</td>\n",
              "      <td>-0.247330</td>\n",
              "      <td>0.455916</td>\n",
              "      <td>57.810596</td>\n",
              "    </tr>\n",
              "    <tr>\n",
              "      <th>2</th>\n",
              "      <td>1</td>\n",
              "      <td>1613423</td>\n",
              "      <td>809</td>\n",
              "      <td>2.001102e+07</td>\n",
              "      <td>1613424</td>\n",
              "      <td>638</td>\n",
              "      <td>0</td>\n",
              "      <td>0</td>\n",
              "      <td>7</td>\n",
              "      <td>121</td>\n",
              "      <td>2.001120e+07</td>\n",
              "      <td>2.444299</td>\n",
              "      <td>2288071</td>\n",
              "      <td>-0.390961</td>\n",
              "      <td>0.589534</td>\n",
              "      <td>167.757140</td>\n",
              "    </tr>\n",
              "  </tbody>\n",
              "</table>\n",
              "</div>\n",
              "      <button class=\"colab-df-convert\" onclick=\"convertToInteractive('df-0cee2624-8002-4c34-9462-9c111f237919')\"\n",
              "              title=\"Convert this dataframe to an interactive table.\"\n",
              "              style=\"display:none;\">\n",
              "        \n",
              "  <svg xmlns=\"http://www.w3.org/2000/svg\" height=\"24px\"viewBox=\"0 0 24 24\"\n",
              "       width=\"24px\">\n",
              "    <path d=\"M0 0h24v24H0V0z\" fill=\"none\"/>\n",
              "    <path d=\"M18.56 5.44l.94 2.06.94-2.06 2.06-.94-2.06-.94-.94-2.06-.94 2.06-2.06.94zm-11 1L8.5 8.5l.94-2.06 2.06-.94-2.06-.94L8.5 2.5l-.94 2.06-2.06.94zm10 10l.94 2.06.94-2.06 2.06-.94-2.06-.94-.94-2.06-.94 2.06-2.06.94z\"/><path d=\"M17.41 7.96l-1.37-1.37c-.4-.4-.92-.59-1.43-.59-.52 0-1.04.2-1.43.59L10.3 9.45l-7.72 7.72c-.78.78-.78 2.05 0 2.83L4 21.41c.39.39.9.59 1.41.59.51 0 1.02-.2 1.41-.59l7.78-7.78 2.81-2.81c.8-.78.8-2.07 0-2.86zM5.41 20L4 18.59l7.72-7.72 1.47 1.35L5.41 20z\"/>\n",
              "  </svg>\n",
              "      </button>\n",
              "      \n",
              "  <style>\n",
              "    .colab-df-container {\n",
              "      display:flex;\n",
              "      flex-wrap:wrap;\n",
              "      gap: 12px;\n",
              "    }\n",
              "\n",
              "    .colab-df-convert {\n",
              "      background-color: #E8F0FE;\n",
              "      border: none;\n",
              "      border-radius: 50%;\n",
              "      cursor: pointer;\n",
              "      display: none;\n",
              "      fill: #1967D2;\n",
              "      height: 32px;\n",
              "      padding: 0 0 0 0;\n",
              "      width: 32px;\n",
              "    }\n",
              "\n",
              "    .colab-df-convert:hover {\n",
              "      background-color: #E2EBFA;\n",
              "      box-shadow: 0px 1px 2px rgba(60, 64, 67, 0.3), 0px 1px 3px 1px rgba(60, 64, 67, 0.15);\n",
              "      fill: #174EA6;\n",
              "    }\n",
              "\n",
              "    [theme=dark] .colab-df-convert {\n",
              "      background-color: #3B4455;\n",
              "      fill: #D2E3FC;\n",
              "    }\n",
              "\n",
              "    [theme=dark] .colab-df-convert:hover {\n",
              "      background-color: #434B5C;\n",
              "      box-shadow: 0px 1px 3px 1px rgba(0, 0, 0, 0.15);\n",
              "      filter: drop-shadow(0px 1px 2px rgba(0, 0, 0, 0.3));\n",
              "      fill: #FFFFFF;\n",
              "    }\n",
              "  </style>\n",
              "\n",
              "      <script>\n",
              "        const buttonEl =\n",
              "          document.querySelector('#df-0cee2624-8002-4c34-9462-9c111f237919 button.colab-df-convert');\n",
              "        buttonEl.style.display =\n",
              "          google.colab.kernel.accessAllowed ? 'block' : 'none';\n",
              "\n",
              "        async function convertToInteractive(key) {\n",
              "          const element = document.querySelector('#df-0cee2624-8002-4c34-9462-9c111f237919');\n",
              "          const dataTable =\n",
              "            await google.colab.kernel.invokeFunction('convertToInteractive',\n",
              "                                                     [key], {});\n",
              "          if (!dataTable) return;\n",
              "\n",
              "          const docLinkHtml = 'Like what you see? Visit the ' +\n",
              "            '<a target=\"_blank\" href=https://colab.research.google.com/notebooks/data_table.ipynb>data table notebook</a>'\n",
              "            + ' to learn more about interactive tables.';\n",
              "          element.innerHTML = '';\n",
              "          dataTable['output_type'] = 'display_data';\n",
              "          await google.colab.output.renderOutput(dataTable, element);\n",
              "          const docLink = document.createElement('div');\n",
              "          docLink.innerHTML = docLinkHtml;\n",
              "          element.appendChild(docLink);\n",
              "        }\n",
              "      </script>\n",
              "    </div>\n",
              "  </div>\n",
              "  "
            ]
          },
          "metadata": {}
        },
        {
          "output_type": "stream",
          "name": "stdout",
          "text": [
            "\n",
            "Code executed in 43.5469s\n"
          ]
        }
      ]
    },
    {
      "cell_type": "code",
      "source": [
        "#validate the header of the file\n",
        "util.col_header_val(df_dask_to_pd,config_data)"
      ],
      "metadata": {
        "colab": {
          "base_uri": "https://localhost:8080/"
        },
        "id": "z8N-rjYloYKo",
        "outputId": "ec185cc9-615c-4e2e-9875-39cb7d469daa"
      },
      "execution_count": null,
      "outputs": [
        {
          "output_type": "stream",
          "name": "stdout",
          "text": [
            "column name and column length validation passed\n"
          ]
        },
        {
          "output_type": "execute_result",
          "data": {
            "text/plain": [
              "1"
            ]
          },
          "metadata": {},
          "execution_count": 25
        }
      ]
    },
    {
      "cell_type": "code",
      "source": [
        "print(\"columns of files are:\" , list(df_dask_to_pd.columns))\n",
        "print(\"columns of YAML are:\" ,config_data['columns'])\n",
        "if util.col_header_val(df_dask_to_pd,config_data)==0:\n",
        "    print(\"validation failed\")\n",
        "    # write code to reject the file\n",
        "else:\n",
        "    print(\"col validation passed\")"
      ],
      "metadata": {
        "id": "jNpGZJjEbs7L",
        "colab": {
          "base_uri": "https://localhost:8080/"
        },
        "outputId": "3de17509-e250-4a80-f4fb-f8e2c19d0184"
      },
      "execution_count": null,
      "outputs": [
        {
          "output_type": "stream",
          "name": "stdout",
          "text": [
            "columns of files are: ['anti_nucleus', 'event_file', 'event_number', 'event_time', 'hist_file', 'multiplicity', 'nabove_lb', 'nbelow_lb', 'n_lb', 'primary_tracks', 'prod_time', 'pt', 'run_number', 'vertex_x', 'vertex_y', 'vertex_z']\n",
            "columns of YAML are: ['anti_nucleus', 'event_file', 'event_number', 'event_time', 'hist_file', 'multiplicity', 'nabove_lb', 'nbelow_lb', 'n_lb', 'primary_tracks', 'prod_time', 'pt', 'run_number', 'vertex_x', 'vertex_y', 'vertex_z']\n",
            "column name and column length validation passed\n",
            "col validation passed\n"
          ]
        }
      ]
    },
    {
      "cell_type": "code",
      "source": [
        "#write the dataframe to txt file\n",
        "df_dask_to_pd.to_csv('treated_data.txt', sep = config_data['outbound_delimiter'])"
      ],
      "metadata": {
        "id": "3dRZwRB7_SkY"
      },
      "execution_count": null,
      "outputs": []
    },
    {
      "cell_type": "code",
      "source": [
        "#show a part of the file\n",
        "with open('treated_data.txt', 'r') as f_in:\n",
        "  resp = f_in.read()\n",
        "  print(resp[:500])\n",
        "\n",
        "#compress txt file using gzip\n",
        "import gzip\n",
        "with open('treated_data.txt', 'rb') as f_in:\n",
        "  with open('/content/gdrive/MyDrive/Week6_project/treated_data.txt.gz', 'wb') as f_out:\n",
        "     f_out.writelines(f_in)\n"
      ],
      "metadata": {
        "id": "BaG663vi8d9D",
        "colab": {
          "base_uri": "https://localhost:8080/"
        },
        "outputId": "925d7ae4-c64e-4767-d8c3-566b72fd767e"
      },
      "execution_count": null,
      "outputs": [
        {
          "output_type": "stream",
          "name": "stdout",
          "text": [
            "|anti_nucleus|event_file|event_number|event_time|hist_file|multiplicity|nabove_lb|nbelow_lb|n_lb|primary_tracks|prod_time|pt|run_number|vertex_x|vertex_y|vertex_z\n",
            "0|1|1613423|807|20011015.222604|1613424|4518|0|0|654|1395|20011204.114951|10.955403|2288071|-0.28820264|0.40731233|10.559091\n",
            "1|1|1613423|808|20011015.222604|1613424|886|0|0|61|371|20011204.115313|23.326479|2288071|-0.24732992|0.45591551|57.810596\n",
            "2|1|1613423|809|20011015.222604|1613424|638|0|0|7|121|20011204.115355|2.4442992|2288071|-0\n"
          ]
        }
      ]
    },
    {
      "cell_type": "code",
      "source": [
        "#define function that displays summary of the file\n",
        "def file_summary(filepath):\n",
        "  import csv\n",
        "  import os\n",
        "\n",
        "  with open(filepath,'r') as f:\n",
        "    reader = csv.reader(f, delimiter='|', skipinitialspace=True)\n",
        "    first_row = next(reader)\n",
        "    num_cols = len(first_row)\n",
        "    row_count = sum(1 for row in f)\n",
        "\n",
        "  print(f\"Number of columns is {num_cols-1}\")\n",
        "  print(f\"Number of rows is {row_count}\")\n",
        "  print(f\"File size is {round(os.path.getsize(filepath)/1000000,3)} MB\")\n",
        "\n",
        "file_summary('/content/gdrive/MyDrive/Week6_project/treated_data.txt.gz')"
      ],
      "metadata": {
        "colab": {
          "base_uri": "https://localhost:8080/"
        },
        "id": "I9uydeBjCmli",
        "outputId": "7a17b91c-2bb4-4d71-f620-621047a6ab76"
      },
      "execution_count": null,
      "outputs": [
        {
          "output_type": "stream",
          "name": "stdout",
          "text": [
            "Number of columns is 16\n",
            "Number of rows is 15857625\n",
            "File size is 1925.403 MB\n"
          ]
        }
      ]
    },
    {
      "cell_type": "markdown",
      "source": [
        "References:\n",
        "1. [Sample Datasets from STAR Experiment](https://sdm.lbl.gov/fastbit/data/samples.html)\n",
        "\n",
        "2. [Scaling Pandas: Comparing Dask, Ray, Modin, Vaex, and RAPIDS](https://www.datarevenue.com/en-blog/pandas-vs-dask-vs-vaex-vs-modin-vs-rapids-vs-ray) \n",
        "\n",
        "3. [Dask](https://dask.org/)\n",
        "\n",
        "4. [Scale your pandas workflow by changing a single line of code](https://modin.readthedocs.io/en/stable/)\n",
        "\n",
        "5. [Ray Datasets: Distributed Data Loading and Compute](https://docs.ray.io/en/latest/data/dataset.html)\n",
        "\n",
        "6. [What is Vaex?](https://vaex.io/docs/index.html)\n",
        "\n",
        "7. [Timing Functions With Decorators – Python](https://www.geeksforgeeks.org/timing-functions-with-decorators-python/)\n"
      ],
      "metadata": {
        "id": "epedf-nxvwQp"
      }
    }
  ],
  "metadata": {
    "colab": {
      "collapsed_sections": [],
      "name": "File ingestion and schema validation.ipynb",
      "provenance": []
    },
    "kernelspec": {
      "display_name": "Python 3",
      "name": "python3"
    },
    "language_info": {
      "name": "python"
    }
  },
  "nbformat": 4,
  "nbformat_minor": 0
}